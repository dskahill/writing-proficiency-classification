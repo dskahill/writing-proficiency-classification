{
 "cells": [
  {
   "cell_type": "code",
   "execution_count": 1,
   "id": "cbbc2ab8",
   "metadata": {},
   "outputs": [],
   "source": [
    "import pandas as pd\n",
    "import numpy as np\n",
    "import matplotlib.pyplot as plt"
   ]
  },
  {
   "cell_type": "code",
   "execution_count": 4,
   "id": "0f145d94",
   "metadata": {},
   "outputs": [],
   "source": [
    "df = pd.read_csv(\"../efcamdat_full.csv\")"
   ]
  },
  {
   "cell_type": "code",
   "execution_count": 6,
   "id": "dc3d34ee",
   "metadata": {},
   "outputs": [
    {
     "data": {
      "text/html": [
       "<div>\n",
       "<style scoped>\n",
       "    .dataframe tbody tr th:only-of-type {\n",
       "        vertical-align: middle;\n",
       "    }\n",
       "\n",
       "    .dataframe tbody tr th {\n",
       "        vertical-align: top;\n",
       "    }\n",
       "\n",
       "    .dataframe thead th {\n",
       "        text-align: right;\n",
       "    }\n",
       "</style>\n",
       "<table border=\"1\" class=\"dataframe\">\n",
       "  <thead>\n",
       "    <tr style=\"text-align: right;\">\n",
       "      <th></th>\n",
       "      <th>id</th>\n",
       "      <th>level</th>\n",
       "      <th>unit</th>\n",
       "      <th>learner_id</th>\n",
       "      <th>learner_nationality</th>\n",
       "      <th>grade</th>\n",
       "      <th>date</th>\n",
       "      <th>topic_id</th>\n",
       "      <th>text</th>\n",
       "      <th>cefr_numeric</th>\n",
       "      <th>cefr_grouped</th>\n",
       "    </tr>\n",
       "  </thead>\n",
       "  <tbody>\n",
       "    <tr>\n",
       "      <th>0</th>\n",
       "      <td>1</td>\n",
       "      <td>6</td>\n",
       "      <td>1</td>\n",
       "      <td>103510</td>\n",
       "      <td>no</td>\n",
       "      <td>90</td>\n",
       "      <td>2011-03-20 12:44:16.790</td>\n",
       "      <td>41</td>\n",
       "      <td>After some time, the affection between them is...</td>\n",
       "      <td>2</td>\n",
       "      <td>1</td>\n",
       "    </tr>\n",
       "    <tr>\n",
       "      <th>1</th>\n",
       "      <td>2</td>\n",
       "      <td>6</td>\n",
       "      <td>2</td>\n",
       "      <td>103510</td>\n",
       "      <td>no</td>\n",
       "      <td>90</td>\n",
       "      <td>2011-03-26 09:31:35.133</td>\n",
       "      <td>42</td>\n",
       "      <td>An e-ticket is a provement that you bought the...</td>\n",
       "      <td>2</td>\n",
       "      <td>1</td>\n",
       "    </tr>\n",
       "    <tr>\n",
       "      <th>2</th>\n",
       "      <td>3</td>\n",
       "      <td>6</td>\n",
       "      <td>3</td>\n",
       "      <td>103510</td>\n",
       "      <td>no</td>\n",
       "      <td>86</td>\n",
       "      <td>2011-04-03 04:16:16.137</td>\n",
       "      <td>43</td>\n",
       "      <td>From:xxx@1234.com To:Herman xxx@1234.com Date:...</td>\n",
       "      <td>2</td>\n",
       "      <td>1</td>\n",
       "    </tr>\n",
       "    <tr>\n",
       "      <th>3</th>\n",
       "      <td>4</td>\n",
       "      <td>1</td>\n",
       "      <td>1</td>\n",
       "      <td>115938</td>\n",
       "      <td>cn</td>\n",
       "      <td>87</td>\n",
       "      <td>2011-03-23 23:53:12.710</td>\n",
       "      <td>1</td>\n",
       "      <td>Hi Anna ,How are you . My name's Jayla . My te...</td>\n",
       "      <td>1</td>\n",
       "      <td>1</td>\n",
       "    </tr>\n",
       "    <tr>\n",
       "      <th>4</th>\n",
       "      <td>5</td>\n",
       "      <td>1</td>\n",
       "      <td>2</td>\n",
       "      <td>115938</td>\n",
       "      <td>cn</td>\n",
       "      <td>95</td>\n",
       "      <td>2011-03-25 03:13:50.393</td>\n",
       "      <td>2</td>\n",
       "      <td>Dear Ms Thomas, There are thirty pens and fift...</td>\n",
       "      <td>1</td>\n",
       "      <td>1</td>\n",
       "    </tr>\n",
       "    <tr>\n",
       "      <th>...</th>\n",
       "      <td>...</td>\n",
       "      <td>...</td>\n",
       "      <td>...</td>\n",
       "      <td>...</td>\n",
       "      <td>...</td>\n",
       "      <td>...</td>\n",
       "      <td>...</td>\n",
       "      <td>...</td>\n",
       "      <td>...</td>\n",
       "      <td>...</td>\n",
       "      <td>...</td>\n",
       "    </tr>\n",
       "    <tr>\n",
       "      <th>1180304</th>\n",
       "      <td>1211598</td>\n",
       "      <td>1</td>\n",
       "      <td>1</td>\n",
       "      <td>107611</td>\n",
       "      <td>mx</td>\n",
       "      <td>90</td>\n",
       "      <td>2014-02-27 01:05:37.627</td>\n",
       "      <td>1</td>\n",
       "      <td>Good evenin SP evening . How are you? I'm fine...</td>\n",
       "      <td>1</td>\n",
       "      <td>1</td>\n",
       "    </tr>\n",
       "    <tr>\n",
       "      <th>1180305</th>\n",
       "      <td>1211599</td>\n",
       "      <td>1</td>\n",
       "      <td>1</td>\n",
       "      <td>55640</td>\n",
       "      <td>br</td>\n",
       "      <td>100</td>\n",
       "      <td>2014-02-26 19:56:50.247</td>\n",
       "      <td>1</td>\n",
       "      <td>Good evening. How are you? I''m fine, thanks. ...</td>\n",
       "      <td>1</td>\n",
       "      <td>1</td>\n",
       "    </tr>\n",
       "    <tr>\n",
       "      <th>1180306</th>\n",
       "      <td>1211600</td>\n",
       "      <td>1</td>\n",
       "      <td>2</td>\n",
       "      <td>55640</td>\n",
       "      <td>br</td>\n",
       "      <td>95</td>\n",
       "      <td>2014-02-27 13:00:09.560</td>\n",
       "      <td>2</td>\n",
       "      <td>In my oficce SP office , there are a lot of pe...</td>\n",
       "      <td>1</td>\n",
       "      <td>1</td>\n",
       "    </tr>\n",
       "    <tr>\n",
       "      <th>1180307</th>\n",
       "      <td>1211601</td>\n",
       "      <td>1</td>\n",
       "      <td>3</td>\n",
       "      <td>55640</td>\n",
       "      <td>br</td>\n",
       "      <td>80</td>\n",
       "      <td>2014-02-27 14:10:51.337</td>\n",
       "      <td>3</td>\n",
       "      <td>I''m WC I lives AG live in Uberlandia, but i''...</td>\n",
       "      <td>1</td>\n",
       "      <td>1</td>\n",
       "    </tr>\n",
       "    <tr>\n",
       "      <th>1180308</th>\n",
       "      <td>1211602</td>\n",
       "      <td>4</td>\n",
       "      <td>1</td>\n",
       "      <td>121993</td>\n",
       "      <td>br</td>\n",
       "      <td>95</td>\n",
       "      <td>2014-03-02 06:14:43.637</td>\n",
       "      <td>25</td>\n",
       "      <td>This Sunday night, there is going to be a lect...</td>\n",
       "      <td>2</td>\n",
       "      <td>1</td>\n",
       "    </tr>\n",
       "  </tbody>\n",
       "</table>\n",
       "<p>1180309 rows × 11 columns</p>\n",
       "</div>"
      ],
      "text/plain": [
       "              id  level  unit  learner_id learner_nationality  grade  \\\n",
       "0              1      6     1      103510                  no     90   \n",
       "1              2      6     2      103510                  no     90   \n",
       "2              3      6     3      103510                  no     86   \n",
       "3              4      1     1      115938                  cn     87   \n",
       "4              5      1     2      115938                  cn     95   \n",
       "...          ...    ...   ...         ...                 ...    ...   \n",
       "1180304  1211598      1     1      107611                  mx     90   \n",
       "1180305  1211599      1     1       55640                  br    100   \n",
       "1180306  1211600      1     2       55640                  br     95   \n",
       "1180307  1211601      1     3       55640                  br     80   \n",
       "1180308  1211602      4     1      121993                  br     95   \n",
       "\n",
       "                            date  topic_id  \\\n",
       "0        2011-03-20 12:44:16.790        41   \n",
       "1        2011-03-26 09:31:35.133        42   \n",
       "2        2011-04-03 04:16:16.137        43   \n",
       "3        2011-03-23 23:53:12.710         1   \n",
       "4        2011-03-25 03:13:50.393         2   \n",
       "...                          ...       ...   \n",
       "1180304  2014-02-27 01:05:37.627         1   \n",
       "1180305  2014-02-26 19:56:50.247         1   \n",
       "1180306  2014-02-27 13:00:09.560         2   \n",
       "1180307  2014-02-27 14:10:51.337         3   \n",
       "1180308  2014-03-02 06:14:43.637        25   \n",
       "\n",
       "                                                      text  cefr_numeric  \\\n",
       "0        After some time, the affection between them is...             2   \n",
       "1        An e-ticket is a provement that you bought the...             2   \n",
       "2        From:xxx@1234.com To:Herman xxx@1234.com Date:...             2   \n",
       "3        Hi Anna ,How are you . My name's Jayla . My te...             1   \n",
       "4        Dear Ms Thomas, There are thirty pens and fift...             1   \n",
       "...                                                    ...           ...   \n",
       "1180304  Good evenin SP evening . How are you? I'm fine...             1   \n",
       "1180305  Good evening. How are you? I''m fine, thanks. ...             1   \n",
       "1180306  In my oficce SP office , there are a lot of pe...             1   \n",
       "1180307  I''m WC I lives AG live in Uberlandia, but i''...             1   \n",
       "1180308  This Sunday night, there is going to be a lect...             2   \n",
       "\n",
       "         cefr_grouped  \n",
       "0                   1  \n",
       "1                   1  \n",
       "2                   1  \n",
       "3                   1  \n",
       "4                   1  \n",
       "...               ...  \n",
       "1180304             1  \n",
       "1180305             1  \n",
       "1180306             1  \n",
       "1180307             1  \n",
       "1180308             1  \n",
       "\n",
       "[1180309 rows x 11 columns]"
      ]
     },
     "execution_count": 6,
     "metadata": {},
     "output_type": "execute_result"
    }
   ],
   "source": [
    "df"
   ]
  },
  {
   "cell_type": "code",
   "execution_count": 5,
   "id": "3b000385",
   "metadata": {},
   "outputs": [
    {
     "data": {
      "text/plain": [
       "174743"
      ]
     },
     "execution_count": 5,
     "metadata": {},
     "output_type": "execute_result"
    }
   ],
   "source": [
    "# n unique learner Id's\n",
    "len(df['learner_id'].unique())"
   ]
  },
  {
   "cell_type": "code",
   "execution_count": 7,
   "id": "3eb68246",
   "metadata": {},
   "outputs": [
    {
     "data": {
      "text/plain": [
       "198"
      ]
     },
     "execution_count": 7,
     "metadata": {},
     "output_type": "execute_result"
    }
   ],
   "source": [
    "# n unique country ids\n",
    "len(df['learner_nationality'].unique())"
   ]
  },
  {
   "cell_type": "code",
   "execution_count": 8,
   "id": "034c718f",
   "metadata": {},
   "outputs": [
    {
     "data": {
      "text/plain": [
       "128"
      ]
     },
     "execution_count": 8,
     "metadata": {},
     "output_type": "execute_result"
    }
   ],
   "source": [
    "# n topics\n",
    "len(df['topic_id'].unique())"
   ]
  },
  {
   "cell_type": "code",
   "execution_count": 10,
   "id": "aa88c1f2",
   "metadata": {},
   "outputs": [],
   "source": [
    "from transformers import RobertaTokenizer, TFRobertaModel\n",
    "rtokenizer = RobertaTokenizer.from_pretrained('roberta-base')"
   ]
  },
  {
   "cell_type": "code",
   "execution_count": 15,
   "id": "0695df6d",
   "metadata": {},
   "outputs": [],
   "source": [
    "tokens = rtokenizer(df['text'].tolist(), truncation=True, padding=True, max_length=500, return_tensors='tf')"
   ]
  },
  {
   "cell_type": "code",
   "execution_count": 20,
   "id": "4707a9ba",
   "metadata": {},
   "outputs": [],
   "source": [
    "tok_lens = np.sum(np.array(tokens['input_ids']) != 1, axis=1)"
   ]
  },
  {
   "cell_type": "code",
   "execution_count": 21,
   "id": "8a9a3fad",
   "metadata": {},
   "outputs": [
    {
     "data": {
      "text/plain": [
       "{'average_length': 88.95201934408702,\n",
       " 'median_length': 78.0,\n",
       " 'max_length': 500,\n",
       " 'min_length': 3,\n",
       " 'total_texts': 1180309}"
      ]
     },
     "execution_count": 21,
     "metadata": {},
     "output_type": "execute_result"
    }
   ],
   "source": [
    "def tok_stats(token_lengths):\n",
    "    avg_length = np.mean(token_lengths)\n",
    "    median_length = np.median(token_lengths)\n",
    "    max_length = np.max(token_lengths)\n",
    "    min_length = np.min(token_lengths)\n",
    "    \n",
    "    # Return the results as a dictionary\n",
    "    return {\n",
    "        \"average_length\": avg_length,\n",
    "        \"median_length\": median_length,\n",
    "        \"max_length\": max_length,\n",
    "        \"min_length\": min_length,\n",
    "        \"total_texts\": len(token_lengths)\n",
    "    }\n",
    "\n",
    "tok_stats(tok_lens)"
   ]
  },
  {
   "cell_type": "code",
   "execution_count": 34,
   "id": "5e565d73",
   "metadata": {},
   "outputs": [
    {
     "data": {
      "image/png": "[encoded data removed]",
      "text/plain": [
       "<Figure size 640x480 with 1 Axes>"
      ]
     },
     "metadata": {},
     "output_type": "display_data"
    }
   ],
   "source": [
    "plt.hist(tok_lens, bins=100, alpha=0.75, color='blue', edgecolor='black')\n",
    "\n",
    "# Draw the average line\n",
    "plt.axvline(np.mean(tok_lens), color='red', linestyle='dashed', linewidth=2, label=f'Average: {np.mean(tok_lens):.2f}')\n",
    "\n",
    "# Add labels and title\n",
    "plt.xlabel('Token Length')\n",
    "plt.ylabel('Frequency')\n",
    "plt.title('Histogram of Token Lengths For Full Dataset')\n",
    "\n",
    "# Add legend\n",
    "plt.legend()\n",
    "\n",
    "plt.savefig('efcamdat_full_hist.png')"
   ]
  },
  {
   "cell_type": "code",
   "execution_count": 73,
   "id": "8ac7947d",
   "metadata": {},
   "outputs": [],
   "source": [
    "df1 = pd.read_csv(\"../efcamdat_sub.csv\")"
   ]
  },
  {
   "cell_type": "code",
   "execution_count": 31,
   "id": "828e48a1",
   "metadata": {},
   "outputs": [
    {
     "data": {
      "text/plain": [
       "110053"
      ]
     },
     "execution_count": 31,
     "metadata": {},
     "output_type": "execute_result"
    }
   ],
   "source": [
    "#n unique learners\n",
    "len(df1['learner_id'].unique())"
   ]
  },
  {
   "cell_type": "code",
   "execution_count": 32,
   "id": "7620fdb0",
   "metadata": {},
   "outputs": [
    {
     "data": {
      "text/plain": [
       "186"
      ]
     },
     "execution_count": 32,
     "metadata": {},
     "output_type": "execute_result"
    }
   ],
   "source": [
    "#n unique countries\n",
    "len(df1['learner_nationality'].unique())"
   ]
  },
  {
   "cell_type": "code",
   "execution_count": 33,
   "id": "0b3532d0",
   "metadata": {},
   "outputs": [
    {
     "data": {
      "text/plain": [
       "128"
      ]
     },
     "execution_count": 33,
     "metadata": {},
     "output_type": "execute_result"
    }
   ],
   "source": [
    "#n unique topics\n",
    "len(df1['topic_id'].unique())"
   ]
  },
  {
   "cell_type": "code",
   "execution_count": 38,
   "id": "92c53de4",
   "metadata": {},
   "outputs": [],
   "source": [
    "tokens = rtokenizer(df1['text'].tolist(), truncation=True, padding=True, max_length=500, return_tensors='tf')"
   ]
  },
  {
   "cell_type": "code",
   "execution_count": 39,
   "id": "e8e7efb1",
   "metadata": {},
   "outputs": [
    {
     "data": {
      "text/plain": [
       "{'average_length': 115.34626038781164,\n",
       " 'median_length': 107.0,\n",
       " 'max_length': 500,\n",
       " 'min_length': 3,\n",
       " 'total_texts': 377967}"
      ]
     },
     "execution_count": 39,
     "metadata": {},
     "output_type": "execute_result"
    }
   ],
   "source": [
    "tok_lens = np.sum(np.array(tokens['input_ids']) != 1, axis=1)\n",
    "\n",
    "def tok_stats(token_lengths):\n",
    "    avg_length = np.mean(token_lengths)\n",
    "    median_length = np.median(token_lengths)\n",
    "    max_length = np.max(token_lengths)\n",
    "    min_length = np.min(token_lengths)\n",
    "    \n",
    "    # Return the results as a dictionary\n",
    "    return {\n",
    "        \"average_length\": avg_length,\n",
    "        \"median_length\": median_length,\n",
    "        \"max_length\": max_length,\n",
    "        \"min_length\": min_length,\n",
    "        \"total_texts\": len(token_lengths)\n",
    "    }\n",
    "\n",
    "tok_stats(tok_lens)"
   ]
  },
  {
   "cell_type": "code",
   "execution_count": 40,
   "id": "08a27fba",
   "metadata": {},
   "outputs": [
    {
     "data": {
      "image/png": "[encoded data removed]",
      "text/plain": [
       "<Figure size 640x480 with 1 Axes>"
      ]
     },
     "metadata": {},
     "output_type": "display_data"
    }
   ],
   "source": [
    "plt.hist(tok_lens, bins=100, alpha=0.75, color='blue', edgecolor='black')\n",
    "\n",
    "# Draw the average line\n",
    "plt.axvline(np.mean(tok_lens), color='red', linestyle='dashed', linewidth=2, label=f'Average: {np.mean(tok_lens):.2f}')\n",
    "\n",
    "# Add labels and title\n",
    "plt.xlabel('Token Length')\n",
    "plt.ylabel('Frequency')\n",
    "plt.title('Histogram of Token Lengths For Subset Dataset')\n",
    "\n",
    "# Add legend\n",
    "plt.legend()\n",
    "\n",
    "plt.savefig('efcamdat_sub_hist.png')"
   ]
  },
  {
   "cell_type": "code",
   "execution_count": 53,
   "id": "ffee5bbd",
   "metadata": {},
   "outputs": [
    {
     "data": {
      "text/plain": [
       "5    1166\n",
       "Name: cefr_numeric, dtype: int64"
      ]
     },
     "execution_count": 53,
     "metadata": {},
     "output_type": "execute_result"
    }
   ],
   "source": [
    "df[df['topic_id'] == 100]['cefr_numeric'].value_counts()"
   ]
  },
  {
   "cell_type": "code",
   "execution_count": null,
   "id": "2b310984",
   "metadata": {},
   "outputs": [],
   "source": []
  },
  {
   "cell_type": "code",
   "execution_count": 74,
   "id": "9b9ce27e",
   "metadata": {},
   "outputs": [],
   "source": [
    "df1['labels'] = df1['cefr_numeric'].apply(lambda x: x-1)"
   ]
  },
  {
   "cell_type": "code",
   "execution_count": 75,
   "id": "54faab4b",
   "metadata": {},
   "outputs": [],
   "source": [
    "def clip_words(text, num_words=5):\n",
    "    text = str(text)\n",
    "    words = text.split()\n",
    "    if len(words) > 2 * num_words:\n",
    "        return ' '.join(words[num_words:-num_words])\n",
    "    else:\n",
    "        # If the text has fewer than 2 * num_words, return an empty string or handle accordingly\n",
    "        return text"
   ]
  },
  {
   "cell_type": "code",
   "execution_count": 76,
   "id": "fd9ff1d0",
   "metadata": {},
   "outputs": [],
   "source": [
    "df1['text_clipped'] = df1['text'].apply(clip_words)"
   ]
  },
  {
   "cell_type": "code",
   "execution_count": 80,
   "id": "346556a4",
   "metadata": {},
   "outputs": [
    {
     "name": "stderr",
     "output_type": "stream",
     "text": [
      "[nltk_data] Downloading package wordnet to\n",
      "[nltk_data]     /Users/danielskahill/nltk_data...\n",
      "[nltk_data]   Package wordnet is already up-to-date!\n",
      "[nltk_data] Downloading package punkt to\n",
      "[nltk_data]     /Users/danielskahill/nltk_data...\n",
      "[nltk_data]   Unzipping tokenizers/punkt.zip.\n"
     ]
    },
    {
     "data": {
      "text/plain": [
       "True"
      ]
     },
     "execution_count": 80,
     "metadata": {},
     "output_type": "execute_result"
    }
   ],
   "source": [
    "import random\n",
    "from tqdm import tqdm\n",
    "import nltk\n",
    "from nltk.corpus import wordnet\n",
    "\n",
    "# Download the WordNet corpus\n",
    "nltk.download('wordnet')\n",
    "nltk.download('punkt')"
   ]
  },
  {
   "cell_type": "code",
   "execution_count": 81,
   "id": "96f2f773",
   "metadata": {},
   "outputs": [],
   "source": [
    "from nltk.tokenize import sent_tokenize\n",
    "\n",
    "def synonym_replacement(text):\n",
    "    words = text.split()\n",
    "    new_words = []\n",
    "    \n",
    "    for word in words:\n",
    "        synonyms = wordnet.synsets(word)\n",
    "        if synonyms:\n",
    "            synonym = random.choice(synonyms).lemmas()[0].name()\n",
    "            new_words.append(synonym if synonym != word else word)\n",
    "        else:\n",
    "            new_words.append(word)\n",
    "    \n",
    "    return ' '.join(new_words)\n",
    "\n",
    "def random_insertion(text):\n",
    "    words = text.split()\n",
    "    new_words = words.copy()\n",
    "    synonyms = [wordnet.synsets(word)[0].lemmas()[0].name() for word in words if wordnet.synsets(word)]\n",
    "    \n",
    "    num_insertions = random.randint(1, 3)\n",
    "    for _ in range(num_insertions):\n",
    "        insert_word = random.choice(synonyms) if synonyms else random.choice(words)\n",
    "        position = random.randint(0, len(new_words))\n",
    "        new_words.insert(position, insert_word)\n",
    "    \n",
    "    return ' '.join(new_words)\n",
    "\n",
    "def random_deletion(text, p=0.2):\n",
    "    words = text.split()\n",
    "    new_words = [word for word in words if random.random() > p]\n",
    "    return ' '.join(new_words) if new_words else words[0]\n",
    "\n",
    "def sentence_shuffling(text):\n",
    "    sentences = sent_tokenize(text)\n",
    "    if len(sentences) < 2:\n",
    "        return text\n",
    "    random.shuffle(sentences)\n",
    "    return ' '.join(sentences)\n",
    "\n",
    "def augment(text):\n",
    "    if random.random() > .3:\n",
    "        return text\n",
    "    else:\n",
    "        if random.random() < .2:\n",
    "            text = synonym_replacement(text)\n",
    "        if random.random() < .2: \n",
    "            text = random_insertion(text)\n",
    "        if random.random() < .2:\n",
    "            text = random_deletion(text, p=0.2)\n",
    "        if random.random() < .2: \n",
    "            text = sentence_shuffling(text)\n",
    "        return text \n"
   ]
  },
  {
   "cell_type": "code",
   "execution_count": 82,
   "id": "565c51c5",
   "metadata": {},
   "outputs": [
    {
     "name": "stderr",
     "output_type": "stream",
     "text": [
      "100%|███████████████████████████████████| 377967/377967 [01:00<00:00, 6295.99it/s]\n"
     ]
    }
   ],
   "source": [
    "tqdm.pandas()\n",
    "df1['text_clipped'] = df1['text_clipped'].progress_apply(lambda x: augment(x))\n"
   ]
  },
  {
   "cell_type": "code",
   "execution_count": 83,
   "id": "4301bbcd",
   "metadata": {},
   "outputs": [
    {
     "data": {
      "text/plain": [
       "0         xxx@IXW.corporation To whom it may concern. Im...\n",
       "1         receive this you. Also I wish interesting cour...\n",
       "2         give up of my idea. I understood the steps, br...\n",
       "3         have been brought to my attention relating to ...\n",
       "4         interest in our products. To 1000 pens and 100...\n",
       "                                ...                        \n",
       "377962    always is a difficult time. We are always bett...\n",
       "377963    a presentation about sales AS force's moral. E...\n",
       "377964    think that my first step was kicking a soccer ...\n",
       "377965    AG takes sometime, but now, I realize what a g...\n",
       "377966    meteting SP meeting to discuss some subjects a...\n",
       "Name: text_clipped, Length: 377967, dtype: object"
      ]
     },
     "execution_count": 83,
     "metadata": {},
     "output_type": "execute_result"
    }
   ],
   "source": [
    "df1['text_clipped']"
   ]
  },
  {
   "cell_type": "code",
   "execution_count": 91,
   "id": "1efc5591",
   "metadata": {},
   "outputs": [
    {
     "data": {
      "text/plain": [
       "cefr_numeric\n",
       "1    24\n",
       "2    24\n",
       "3    24\n",
       "4    24\n",
       "5    24\n",
       "6     8\n",
       "Name: topic_id, dtype: int64"
      ]
     },
     "execution_count": 91,
     "metadata": {},
     "output_type": "execute_result"
    }
   ],
   "source": [
    "df.groupby('cefr_numeric')['topic_id'].nunique()"
   ]
  },
  {
   "cell_type": "code",
   "execution_count": null,
   "id": "58dd7d36",
   "metadata": {},
   "outputs": [],
   "source": []
  }
 ],
 "metadata": {
  "kernelspec": {
   "display_name": "Python 3 (ipykernel)",
   "language": "python",
   "name": "python3"
  },
  "language_info": {
   "codemirror_mode": {
    "name": "ipython",
    "version": 3
   },
   "file_extension": ".py",
   "mimetype": "text/x-python",
   "name": "python",
   "nbconvert_exporter": "python",
   "pygments_lexer": "ipython3",
   "version": "3.8.13"
  }
 },
 "nbformat": 4,
 "nbformat_minor": 5
}
