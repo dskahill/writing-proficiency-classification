{
 "cells": [
  {
   "cell_type": "code",
   "execution_count": 1,
   "id": "e4557a86-c90d-4c18-bcee-668518f7a5cd",
   "metadata": {},
   "outputs": [],
   "source": [
    "from collections import Counter\n",
    "import numpy as np\n",
    "import pandas as pd\n",
    "import tensorflow as tf\n",
    "from tensorflow import keras\n",
    "\n",
    "# import seaborn as sns\n",
    "# import matplotlib.pyplot as plt\n",
    "from sklearn.model_selection import train_test_split\n",
    "from sklearn.metrics import classification_report"
   ]
  },
  {
   "cell_type": "code",
   "execution_count": 2,
   "id": "979e2805-4a21-4312-93d4-252e235ab4f2",
   "metadata": {},
   "outputs": [],
   "source": [
    "from transformers import RobertaTokenizer, TFRobertaModel"
   ]
  },
  {
   "cell_type": "code",
   "execution_count": 3,
   "id": "74559dba-93d5-4a3e-b7ee-597c7ffb4250",
   "metadata": {},
   "outputs": [],
   "source": [
    "seed = 7\n",
    "np.random.seed(seed)\n",
    "tf.random.set_seed(seed)"
   ]
  },
  {
   "cell_type": "code",
   "execution_count": 4,
   "id": "51ea467b-8534-401f-9157-86b909b597ff",
   "metadata": {},
   "outputs": [],
   "source": [
    "df = pd.read_csv(\"..//onestopec.csv\")"
   ]
  },
  {
   "cell_type": "code",
   "execution_count": 5,
   "id": "a883b1f5-0f69-43bf-911b-4d401c59a305",
   "metadata": {},
   "outputs": [
    {
     "data": {
      "text/plain": [
       "Index(['Unnamed: 0', 'text', 'labels'], dtype='object')"
      ]
     },
     "execution_count": 5,
     "metadata": {},
     "output_type": "execute_result"
    }
   ],
   "source": [
    "df.columns"
   ]
  },
  {
   "cell_type": "code",
   "execution_count": 6,
   "id": "2b16fb5c-735f-47f5-ab26-1513bbad7e2c",
   "metadata": {},
   "outputs": [
    {
     "data": {
      "text/plain": [
       "7397"
      ]
     },
     "execution_count": 6,
     "metadata": {},
     "output_type": "execute_result"
    }
   ],
   "source": [
    "df.shape[0]"
   ]
  },
  {
   "cell_type": "code",
   "execution_count": 7,
   "id": "5cf8d7dd-1120-4f9f-83b8-c0dd45f2dc0c",
   "metadata": {},
   "outputs": [],
   "source": [
    "df['labels'] = df['labels'].apply(lambda x: x-1)"
   ]
  },
  {
   "cell_type": "code",
   "execution_count": 8,
   "id": "dd3a4720-b6ed-416f-b1e3-8db7ca575319",
   "metadata": {},
   "outputs": [],
   "source": [
    "text = df['text']\n",
    "labels = df['labels']"
   ]
  },
  {
   "cell_type": "code",
   "execution_count": 9,
   "id": "274ff640-8ae6-4036-9ca7-30f498abbade",
   "metadata": {},
   "outputs": [],
   "source": [
    "(train_texts, test_texts, train_labels, test_labels) = train_test_split(text, labels, test_size=.05, shuffle=True)"
   ]
  },
  {
   "cell_type": "code",
   "execution_count": 10,
   "id": "e6cc4414-819c-415f-9e49-746cb6ae7e43",
   "metadata": {},
   "outputs": [
    {
     "data": {
      "text/plain": [
       "370"
      ]
     },
     "execution_count": 10,
     "metadata": {},
     "output_type": "execute_result"
    }
   ],
   "source": [
    "len(test_texts)"
   ]
  },
  {
   "cell_type": "code",
   "execution_count": 11,
   "id": "c9fa987a-b103-49c3-9de1-6485da4bad80",
   "metadata": {},
   "outputs": [
    {
     "data": {
      "text/plain": [
       "7027"
      ]
     },
     "execution_count": 11,
     "metadata": {},
     "output_type": "execute_result"
    }
   ],
   "source": [
    "len(train_texts)"
   ]
  },
  {
   "cell_type": "code",
   "execution_count": 12,
   "id": "3063d277-9b9e-4ee1-a9f4-49fbde6c2fab",
   "metadata": {},
   "outputs": [],
   "source": [
    "# valid_texts_s = train_texts.iloc[:1000]\n",
    "# valid_labels_s = train_labels.iloc[:1000]\n",
    "# train_texts_s = train_texts.iloc[1000:20000]\n",
    "# train_labels_s = train_labels.iloc[1000:20000]\n",
    "# test_texts_s = test_texts.iloc[:1000]\n",
    "# test_labels_s = test_labels.iloc[:1000]\n",
    "\n",
    "valid_texts = train_texts.iloc[:1000].copy()\n",
    "valid_labels = train_labels.iloc[:1000].copy()\n",
    "train_texts = train_texts.iloc[1000:]\n",
    "train_labels = train_labels.iloc[1000:]"
   ]
  },
  {
   "cell_type": "code",
   "execution_count": 13,
   "id": "9f19a1f6-0cde-4874-acf5-246078305560",
   "metadata": {},
   "outputs": [
    {
     "data": {
      "text/plain": [
       "6094    2\n",
       "4364    0\n",
       "6084    2\n",
       "1096    1\n",
       "7290    2\n",
       "       ..\n",
       "5699    2\n",
       "2550    1\n",
       "537     1\n",
       "1220    1\n",
       "4271    0\n",
       "Name: labels, Length: 6027, dtype: int64"
      ]
     },
     "execution_count": 13,
     "metadata": {},
     "output_type": "execute_result"
    }
   ],
   "source": [
    "train_labels"
   ]
  },
  {
   "cell_type": "code",
   "execution_count": 14,
   "id": "fd866f8f-e5a1-42c4-9de7-e96c6a4181c3",
   "metadata": {},
   "outputs": [],
   "source": [
    "max_length = 100"
   ]
  },
  {
   "cell_type": "code",
   "execution_count": 15,
   "id": "fd2c521a-af41-4376-a7b4-a88819341b52",
   "metadata": {},
   "outputs": [
    {
     "name": "stdout",
     "output_type": "stream",
     "text": [
      "Metal device set to: Apple M1 Pro\n"
     ]
    },
    {
     "name": "stderr",
     "output_type": "stream",
     "text": [
      "2024-07-20 15:11:21.146447: I tensorflow/core/common_runtime/pluggable_device/pluggable_device_factory.cc:306] Could not identify NUMA node of platform GPU ID 0, defaulting to 0. Your kernel may not have been built with NUMA support.\n",
      "2024-07-20 15:11:21.146631: I tensorflow/core/common_runtime/pluggable_device/pluggable_device_factory.cc:272] Created TensorFlow device (/job:localhost/replica:0/task:0/device:GPU:0 with 0 MB memory) -> physical PluggableDevice (device: 0, name: METAL, pci bus id: <undefined>)\n",
      "Some weights of the PyTorch model were not used when initializing the TF 2.0 model TFRobertaModel: ['lm_head.layer_norm.bias', 'lm_head.layer_norm.weight', 'lm_head.bias', 'lm_head.dense.weight', 'lm_head.dense.bias', 'roberta.embeddings.position_ids']\n",
      "- This IS expected if you are initializing TFRobertaModel from a PyTorch model trained on another task or with another architecture (e.g. initializing a TFBertForSequenceClassification model from a BertForPreTraining model).\n",
      "- This IS NOT expected if you are initializing TFRobertaModel from a PyTorch model that you expect to be exactly identical (e.g. initializing a TFBertForSequenceClassification model from a BertForSequenceClassification model).\n",
      "Some weights or buffers of the TF 2.0 model TFRobertaModel were not initialized from the PyTorch model and are newly initialized: ['roberta.pooler.dense.weight', 'roberta.pooler.dense.bias']\n",
      "You should probably TRAIN this model on a down-stream task to be able to use it for predictions and inference.\n"
     ]
    }
   ],
   "source": [
    "rtokenizer = RobertaTokenizer.from_pretrained('roberta-base')\n",
    "roberta_model = TFRobertaModel.from_pretrained('roberta-base')"
   ]
  },
  {
   "cell_type": "code",
   "execution_count": null,
   "id": "22bfac14",
   "metadata": {},
   "outputs": [],
   "source": []
  },
  {
   "cell_type": "code",
   "execution_count": 16,
   "id": "a4b03060-abd3-4c4b-928d-1b340e8251b0",
   "metadata": {},
   "outputs": [],
   "source": [
    "train_encodings = rtokenizer([str(t) for t in train_texts], truncation=True, padding=True, max_length=max_length, return_tensors='tf')\n",
    "valid_encodings = rtokenizer([str(t) for t in valid_texts], truncation=True, padding=True, max_length=max_length, return_tensors='tf')"
   ]
  },
  {
   "cell_type": "code",
   "execution_count": 17,
   "id": "a369d6b2-fd83-44ba-97e1-307c2c2cb90b",
   "metadata": {},
   "outputs": [],
   "source": [
    "def create_roberta_cl_model(model,\n",
    "                         num_classes = 3,\n",
    "                         dropout=0.3,\n",
    "                         learning_rate=0.00005):\n",
    "    \"\"\"\n",
    "    \"\"\"\n",
    "    model.trainable = False\n",
    "\n",
    "    #tf.keras.mixed_precision.set_global_policy('mixed_float16')\n",
    "\n",
    "    input_ids = tf.keras.layers.Input(shape=(None,), dtype=tf.int64, name='input_ids_layer')\n",
    "    #token_type_ids = tf.keras.layers.Input(shape=(300,), dtype=tf.int32, name='token_type_ids_layer')\n",
    "    attention_mask = tf.keras.layers.Input(shape=(None,), dtype=tf.int64, name='attention_mask_layer')\n",
    "\n",
    "    model_inputs = [input_ids, attention_mask]\n",
    "    model_out = model(input_ids=input_ids, attention_mask=attention_mask)\n",
    "\n",
    "    model_out = model_out.last_hidden_state\n",
    "\n",
    "    conv = tf.keras.layers.Conv1D(filters=256, kernel_size=3, activation='relu')(model_out)\n",
    "    conv = tf.keras.layers.MaxPooling1D(pool_size=2)(conv)\n",
    "    conv = tf.keras.layers.Dropout(dropout)(conv)\n",
    "    lstm = tf.keras.layers.Bidirectional(tf.keras.layers.LSTM(units=256, return_sequences=False, return_state=False))(conv)\n",
    "    # dense = tf.keras.layers.Dense(256, activation='relu')(lstm)\n",
    "\n",
    "    classification = tf.keras.layers.Dense(num_classes, activation='softmax',name='classification_layer')(lstm)\n",
    "\n",
    "    classification_model = tf.keras.Model(inputs=[input_ids, attention_mask], outputs=[classification])\n",
    "\n",
    "    optimizer = tf.keras.optimizers.Adam(learning_rate=learning_rate, clipnorm=0.1)\n",
    "    optimizer = tf.keras.mixed_precision.LossScaleOptimizer(optimizer)\n",
    "\n",
    "    classification_model.compile(optimizer=optimizer,\n",
    "                                 loss=tf.keras.losses.SparseCategoricalCrossentropy(from_logits=False),\n",
    "                                 metrics='accuracy')\n",
    "\n",
    "    return classification_model"
   ]
  },
  {
   "cell_type": "code",
   "execution_count": 18,
   "id": "61422bad-7c5d-45d4-8f23-9f7615e96d67",
   "metadata": {},
   "outputs": [],
   "source": [
    "def create_roberta_gru_model(model,\n",
    "                         num_classes = 6,\n",
    "                         dropout=0.3,\n",
    "                         learning_rate=0.0001):\n",
    "    \"\"\"\n",
    "    \"\"\"\n",
    "    model.trainable = False\n",
    "\n",
    "    tf.keras.mixed_precision.set_global_policy('mixed_float16')\n",
    "\n",
    "    input_ids = tf.keras.layers.Input(shape=(None,), dtype=tf.int64, name='input_ids_layer')\n",
    "    #token_type_ids = tf.keras.layers.Input(shape=(300,), dtype=tf.int32, name='token_type_ids_layer')\n",
    "    attention_mask = tf.keras.layers.Input(shape=(None,), dtype=tf.int64, name='attention_mask_layer')\n",
    "\n",
    "    model_inputs = [input_ids, attention_mask]\n",
    "    model_out = model(input_ids=input_ids, attention_mask=attention_mask)\n",
    "\n",
    "    model_out = model_out.last_hidden_state\n",
    "\n",
    "    conv = tf.keras.layers.Conv1D(filters=256, kernel_size=3, activation='relu')(model_out)\n",
    "    conv = tf.keras.layers.MaxPooling1D(pool_size=2)(conv)\n",
    "    conv = tf.keras.layers.Dropout(dropout)(conv)\n",
    "    gru = tf.keras.layers.GRU(256)(conv)\n",
    "\n",
    "    classification = tf.keras.layers.Dense(num_classes, activation='softmax',name='classification_layer')(gru)\n",
    "\n",
    "    classification_model = tf.keras.Model(inputs=[input_ids, attention_mask], outputs=[classification])\n",
    "\n",
    "    optimizer = tf.keras.optimizers.Adam(learning_rate=learning_rate, clipnorm=0.1)\n",
    "    optimizer = tf.keras.mixed_precision.LossScaleOptimizer(optimizer)\n",
    "\n",
    "    classification_model.compile(optimizer=optimizer,\n",
    "                                 loss=tf.keras.losses.SparseCategoricalCrossentropy(from_logits=False),\n",
    "                                 metrics='accuracy')\n",
    "\n",
    "    return classification_model"
   ]
  },
  {
   "cell_type": "code",
   "execution_count": 19,
   "id": "4e42a2cd-d654-4849-a6b0-8657583297f0",
   "metadata": {},
   "outputs": [],
   "source": [
    "roberta_cl_model = create_roberta_cl_model(model=roberta_model, num_classes=3)"
   ]
  },
  {
   "cell_type": "code",
   "execution_count": 20,
   "id": "5b37af6e-7f9d-4116-b1df-31b180c14af9",
   "metadata": {
    "scrolled": true
   },
   "outputs": [
    {
     "name": "stdout",
     "output_type": "stream",
     "text": [
      "Model: \"model\"\n",
      "__________________________________________________________________________________________________\n",
      " Layer (type)                   Output Shape         Param #     Connected to                     \n",
      "==================================================================================================\n",
      " input_ids_layer (InputLayer)   [(None, None)]       0           []                               \n",
      "                                                                                                  \n",
      " attention_mask_layer (InputLay  [(None, None)]      0           []                               \n",
      " er)                                                                                              \n",
      "                                                                                                  \n",
      " tf_roberta_model (TFRobertaMod  TFBaseModelOutputWi  124645632  ['input_ids_layer[0][0]',        \n",
      " el)                            thPoolingAndCrossAt               'attention_mask_layer[0][0]']   \n",
      "                                tentions(last_hidde                                               \n",
      "                                n_state=(None, None                                               \n",
      "                                , 768),                                                           \n",
      "                                 pooler_output=(Non                                               \n",
      "                                e, 768),                                                          \n",
      "                                 past_key_values=No                                               \n",
      "                                ne, hidden_states=N                                               \n",
      "                                one, attentions=Non                                               \n",
      "                                e, cross_attentions                                               \n",
      "                                =None)                                                            \n",
      "                                                                                                  \n",
      " conv1d (Conv1D)                (None, None, 256)    590080      ['tf_roberta_model[0][0]']       \n",
      "                                                                                                  \n",
      " max_pooling1d (MaxPooling1D)   (None, None, 256)    0           ['conv1d[0][0]']                 \n",
      "                                                                                                  \n",
      " dropout_37 (Dropout)           (None, None, 256)    0           ['max_pooling1d[0][0]']          \n",
      "                                                                                                  \n",
      " bidirectional (Bidirectional)  (None, 512)          1050624     ['dropout_37[0][0]']             \n",
      "                                                                                                  \n",
      " classification_layer (Dense)   (None, 3)            1539        ['bidirectional[0][0]']          \n",
      "                                                                                                  \n",
      "==================================================================================================\n",
      "Total params: 126,287,875\n",
      "Trainable params: 1,642,243\n",
      "Non-trainable params: 124,645,632\n",
      "__________________________________________________________________________________________________\n"
     ]
    }
   ],
   "source": [
    "roberta_cl_model.summary()"
   ]
  },
  {
   "cell_type": "code",
   "execution_count": 21,
   "id": "5955c16a-2322-4c21-9cb4-0d1b3cdb0289",
   "metadata": {},
   "outputs": [],
   "source": [
    "dataset = tf.data.Dataset.from_tensor_slices(({\"input_ids_layer\": train_encodings.input_ids, \"attention_mask_layer\": train_encodings.attention_mask}, train_labels))\n",
    "dataset = dataset.batch(32).prefetch(tf.data.experimental.AUTOTUNE)\n",
    "\n",
    "vdataset = tf.data.Dataset.from_tensor_slices(({\"input_ids_layer\": valid_encodings.input_ids, \"attention_mask_layer\": valid_encodings.attention_mask}, valid_labels))\n",
    "vdataset = vdataset.batch(32).prefetch(tf.data.experimental.AUTOTUNE)"
   ]
  },
  {
   "cell_type": "code",
   "execution_count": 22,
   "id": "382b356f-373c-483c-aaac-073c4db8582e",
   "metadata": {},
   "outputs": [
    {
     "data": {
      "text/plain": [
       "6459"
      ]
     },
     "execution_count": 22,
     "metadata": {},
     "output_type": "execute_result"
    }
   ],
   "source": [
    "import gc\n",
    "from tensorflow.keras.backend import clear_session\n",
    "\n",
    "# Clear session and free memory before starting the training\n",
    "clear_session()\n",
    "gc.collect()"
   ]
  },
  {
   "cell_type": "code",
   "execution_count": 23,
   "id": "bc518f0d-2fa7-42ed-bd21-e6767f3fedf6",
   "metadata": {},
   "outputs": [
    {
     "name": "stdout",
     "output_type": "stream",
     "text": [
      "Epoch 1/10\n"
     ]
    },
    {
     "name": "stderr",
     "output_type": "stream",
     "text": [
      "2024-07-20 15:11:32.304556: W tensorflow/core/platform/profile_utils/cpu_utils.cc:128] Failed to get CPU frequency: 0 Hz\n",
      "2024-07-20 15:11:32.315461: I tensorflow/core/grappler/optimizers/custom_graph_optimizer_registry.cc:114] Plugin optimizer for device_type GPU is enabled.\n",
      "2024-07-20 15:11:35.085858: I tensorflow/core/grappler/optimizers/custom_graph_optimizer_registry.cc:114] Plugin optimizer for device_type GPU is enabled.\n",
      "2024-07-20 15:11:35.097677: I tensorflow/core/grappler/optimizers/custom_graph_optimizer_registry.cc:114] Plugin optimizer for device_type GPU is enabled.\n",
      "2024-07-20 15:11:35.387051: I tensorflow/core/grappler/optimizers/custom_graph_optimizer_registry.cc:114] Plugin optimizer for device_type GPU is enabled.\n",
      "2024-07-20 15:11:35.403272: I tensorflow/core/grappler/optimizers/custom_graph_optimizer_registry.cc:114] Plugin optimizer for device_type GPU is enabled.\n"
     ]
    },
    {
     "name": "stdout",
     "output_type": "stream",
     "text": [
      "189/189 [==============================] - ETA: 0s - loss: 0.8794 - accuracy: 0.5842"
     ]
    },
    {
     "name": "stderr",
     "output_type": "stream",
     "text": [
      "2024-07-20 15:12:53.116698: I tensorflow/core/grappler/optimizers/custom_graph_optimizer_registry.cc:114] Plugin optimizer for device_type GPU is enabled.\n",
      "2024-07-20 15:12:55.821960: I tensorflow/core/grappler/optimizers/custom_graph_optimizer_registry.cc:114] Plugin optimizer for device_type GPU is enabled.\n",
      "2024-07-20 15:12:55.832709: I tensorflow/core/grappler/optimizers/custom_graph_optimizer_registry.cc:114] Plugin optimizer for device_type GPU is enabled.\n"
     ]
    },
    {
     "name": "stdout",
     "output_type": "stream",
     "text": [
      "189/189 [==============================] - 103s 504ms/step - loss: 0.8794 - accuracy: 0.5842 - val_loss: 0.6545 - val_accuracy: 0.6870\n",
      "Epoch 2/10\n",
      "189/189 [==============================] - 92s 486ms/step - loss: 0.6388 - accuracy: 0.7121 - val_loss: 0.5503 - val_accuracy: 0.7520\n",
      "Epoch 3/10\n",
      "189/189 [==============================] - 89s 472ms/step - loss: 0.5277 - accuracy: 0.7714 - val_loss: 0.4972 - val_accuracy: 0.7780\n",
      "Epoch 4/10\n",
      "189/189 [==============================] - 90s 476ms/step - loss: 0.4577 - accuracy: 0.8072 - val_loss: 0.4528 - val_accuracy: 0.7960\n",
      "Epoch 5/10\n",
      "189/189 [==============================] - 89s 470ms/step - loss: 0.4070 - accuracy: 0.8326 - val_loss: 0.5009 - val_accuracy: 0.7720\n",
      "Epoch 6/10\n",
      "189/189 [==============================] - 87s 462ms/step - loss: 0.3685 - accuracy: 0.8508 - val_loss: 0.5802 - val_accuracy: 0.7400\n",
      "Epoch 7/10\n",
      "189/189 [==============================] - 86s 453ms/step - loss: 0.3401 - accuracy: 0.8643 - val_loss: 0.6034 - val_accuracy: 0.7400\n",
      "Epoch 8/10\n",
      " 38/189 [=====>........................] - ETA: 1:04 - loss: 0.3365 - accuracy: 0.8577"
     ]
    },
    {
     "ename": "KeyboardInterrupt",
     "evalue": "",
     "output_type": "error",
     "traceback": [
      "\u001b[0;31m---------------------------------------------------------------------------\u001b[0m",
      "\u001b[0;31mKeyboardInterrupt\u001b[0m                         Traceback (most recent call last)",
      "Cell \u001b[0;32mIn [23], line 8\u001b[0m\n\u001b[1;32m      1\u001b[0m \u001b[38;5;66;03m# test_model_history = test_model2.fit([train_encodings.input_ids, train_encodings.attention_mask],\u001b[39;00m\n\u001b[1;32m      2\u001b[0m \u001b[38;5;66;03m#                                       train_labels,\u001b[39;00m\n\u001b[1;32m      3\u001b[0m \u001b[38;5;66;03m#                                       validation_data=([valid_encodings.input_ids, valid_encodings.attention_mask],\u001b[39;00m\n\u001b[1;32m      4\u001b[0m \u001b[38;5;66;03m#                                       valid_labels),\u001b[39;00m\n\u001b[1;32m      5\u001b[0m \u001b[38;5;66;03m#                                       batch_size=32,\u001b[39;00m\n\u001b[1;32m      6\u001b[0m \u001b[38;5;66;03m#                                       epochs=3)\u001b[39;00m\n\u001b[0;32m----> 8\u001b[0m roberta_cl_model_history \u001b[38;5;241m=\u001b[39m \u001b[43mroberta_cl_model\u001b[49m\u001b[38;5;241;43m.\u001b[39;49m\u001b[43mfit\u001b[49m\u001b[43m(\u001b[49m\u001b[43mdataset\u001b[49m\u001b[43m,\u001b[49m\n\u001b[1;32m      9\u001b[0m \u001b[43m                                      \u001b[49m\u001b[43mvalidation_data\u001b[49m\u001b[38;5;241;43m=\u001b[39;49m\u001b[43mvdataset\u001b[49m\u001b[43m,\u001b[49m\n\u001b[1;32m     10\u001b[0m \u001b[43m                                      \u001b[49m\u001b[43mepochs\u001b[49m\u001b[38;5;241;43m=\u001b[39;49m\u001b[38;5;241;43m10\u001b[39;49m\u001b[43m)\u001b[49m\n",
      "File \u001b[0;32m~/miniforge3/envs/tf/lib/python3.8/site-packages/keras/utils/traceback_utils.py:65\u001b[0m, in \u001b[0;36mfilter_traceback.<locals>.error_handler\u001b[0;34m(*args, **kwargs)\u001b[0m\n\u001b[1;32m     63\u001b[0m filtered_tb \u001b[38;5;241m=\u001b[39m \u001b[38;5;28;01mNone\u001b[39;00m\n\u001b[1;32m     64\u001b[0m \u001b[38;5;28;01mtry\u001b[39;00m:\n\u001b[0;32m---> 65\u001b[0m     \u001b[38;5;28;01mreturn\u001b[39;00m \u001b[43mfn\u001b[49m\u001b[43m(\u001b[49m\u001b[38;5;241;43m*\u001b[39;49m\u001b[43margs\u001b[49m\u001b[43m,\u001b[49m\u001b[43m \u001b[49m\u001b[38;5;241;43m*\u001b[39;49m\u001b[38;5;241;43m*\u001b[39;49m\u001b[43mkwargs\u001b[49m\u001b[43m)\u001b[49m\n\u001b[1;32m     66\u001b[0m \u001b[38;5;28;01mexcept\u001b[39;00m \u001b[38;5;167;01mException\u001b[39;00m \u001b[38;5;28;01mas\u001b[39;00m e:\n\u001b[1;32m     67\u001b[0m     filtered_tb \u001b[38;5;241m=\u001b[39m _process_traceback_frames(e\u001b[38;5;241m.\u001b[39m__traceback__)\n",
      "File \u001b[0;32m~/miniforge3/envs/tf/lib/python3.8/site-packages/keras/engine/training.py:1564\u001b[0m, in \u001b[0;36mModel.fit\u001b[0;34m(self, x, y, batch_size, epochs, verbose, callbacks, validation_split, validation_data, shuffle, class_weight, sample_weight, initial_epoch, steps_per_epoch, validation_steps, validation_batch_size, validation_freq, max_queue_size, workers, use_multiprocessing)\u001b[0m\n\u001b[1;32m   1556\u001b[0m \u001b[38;5;28;01mwith\u001b[39;00m tf\u001b[38;5;241m.\u001b[39mprofiler\u001b[38;5;241m.\u001b[39mexperimental\u001b[38;5;241m.\u001b[39mTrace(\n\u001b[1;32m   1557\u001b[0m     \u001b[38;5;124m\"\u001b[39m\u001b[38;5;124mtrain\u001b[39m\u001b[38;5;124m\"\u001b[39m,\n\u001b[1;32m   1558\u001b[0m     epoch_num\u001b[38;5;241m=\u001b[39mepoch,\n\u001b[0;32m   (...)\u001b[0m\n\u001b[1;32m   1561\u001b[0m     _r\u001b[38;5;241m=\u001b[39m\u001b[38;5;241m1\u001b[39m,\n\u001b[1;32m   1562\u001b[0m ):\n\u001b[1;32m   1563\u001b[0m     callbacks\u001b[38;5;241m.\u001b[39mon_train_batch_begin(step)\n\u001b[0;32m-> 1564\u001b[0m     tmp_logs \u001b[38;5;241m=\u001b[39m \u001b[38;5;28;43mself\u001b[39;49m\u001b[38;5;241;43m.\u001b[39;49m\u001b[43mtrain_function\u001b[49m\u001b[43m(\u001b[49m\u001b[43miterator\u001b[49m\u001b[43m)\u001b[49m\n\u001b[1;32m   1565\u001b[0m     \u001b[38;5;28;01mif\u001b[39;00m data_handler\u001b[38;5;241m.\u001b[39mshould_sync:\n\u001b[1;32m   1566\u001b[0m         context\u001b[38;5;241m.\u001b[39masync_wait()\n",
      "File \u001b[0;32m~/miniforge3/envs/tf/lib/python3.8/site-packages/tensorflow/python/util/traceback_utils.py:150\u001b[0m, in \u001b[0;36mfilter_traceback.<locals>.error_handler\u001b[0;34m(*args, **kwargs)\u001b[0m\n\u001b[1;32m    148\u001b[0m filtered_tb \u001b[38;5;241m=\u001b[39m \u001b[38;5;28;01mNone\u001b[39;00m\n\u001b[1;32m    149\u001b[0m \u001b[38;5;28;01mtry\u001b[39;00m:\n\u001b[0;32m--> 150\u001b[0m   \u001b[38;5;28;01mreturn\u001b[39;00m \u001b[43mfn\u001b[49m\u001b[43m(\u001b[49m\u001b[38;5;241;43m*\u001b[39;49m\u001b[43margs\u001b[49m\u001b[43m,\u001b[49m\u001b[43m \u001b[49m\u001b[38;5;241;43m*\u001b[39;49m\u001b[38;5;241;43m*\u001b[39;49m\u001b[43mkwargs\u001b[49m\u001b[43m)\u001b[49m\n\u001b[1;32m    151\u001b[0m \u001b[38;5;28;01mexcept\u001b[39;00m \u001b[38;5;167;01mException\u001b[39;00m \u001b[38;5;28;01mas\u001b[39;00m e:\n\u001b[1;32m    152\u001b[0m   filtered_tb \u001b[38;5;241m=\u001b[39m _process_traceback_frames(e\u001b[38;5;241m.\u001b[39m__traceback__)\n",
      "File \u001b[0;32m~/miniforge3/envs/tf/lib/python3.8/site-packages/tensorflow/python/eager/def_function.py:915\u001b[0m, in \u001b[0;36mFunction.__call__\u001b[0;34m(self, *args, **kwds)\u001b[0m\n\u001b[1;32m    912\u001b[0m compiler \u001b[38;5;241m=\u001b[39m \u001b[38;5;124m\"\u001b[39m\u001b[38;5;124mxla\u001b[39m\u001b[38;5;124m\"\u001b[39m \u001b[38;5;28;01mif\u001b[39;00m \u001b[38;5;28mself\u001b[39m\u001b[38;5;241m.\u001b[39m_jit_compile \u001b[38;5;28;01melse\u001b[39;00m \u001b[38;5;124m\"\u001b[39m\u001b[38;5;124mnonXla\u001b[39m\u001b[38;5;124m\"\u001b[39m\n\u001b[1;32m    914\u001b[0m \u001b[38;5;28;01mwith\u001b[39;00m OptionalXlaContext(\u001b[38;5;28mself\u001b[39m\u001b[38;5;241m.\u001b[39m_jit_compile):\n\u001b[0;32m--> 915\u001b[0m   result \u001b[38;5;241m=\u001b[39m \u001b[38;5;28;43mself\u001b[39;49m\u001b[38;5;241;43m.\u001b[39;49m\u001b[43m_call\u001b[49m\u001b[43m(\u001b[49m\u001b[38;5;241;43m*\u001b[39;49m\u001b[43margs\u001b[49m\u001b[43m,\u001b[49m\u001b[43m \u001b[49m\u001b[38;5;241;43m*\u001b[39;49m\u001b[38;5;241;43m*\u001b[39;49m\u001b[43mkwds\u001b[49m\u001b[43m)\u001b[49m\n\u001b[1;32m    917\u001b[0m new_tracing_count \u001b[38;5;241m=\u001b[39m \u001b[38;5;28mself\u001b[39m\u001b[38;5;241m.\u001b[39mexperimental_get_tracing_count()\n\u001b[1;32m    918\u001b[0m without_tracing \u001b[38;5;241m=\u001b[39m (tracing_count \u001b[38;5;241m==\u001b[39m new_tracing_count)\n",
      "File \u001b[0;32m~/miniforge3/envs/tf/lib/python3.8/site-packages/tensorflow/python/eager/def_function.py:947\u001b[0m, in \u001b[0;36mFunction._call\u001b[0;34m(self, *args, **kwds)\u001b[0m\n\u001b[1;32m    944\u001b[0m   \u001b[38;5;28mself\u001b[39m\u001b[38;5;241m.\u001b[39m_lock\u001b[38;5;241m.\u001b[39mrelease()\n\u001b[1;32m    945\u001b[0m   \u001b[38;5;66;03m# In this case we have created variables on the first call, so we run the\u001b[39;00m\n\u001b[1;32m    946\u001b[0m   \u001b[38;5;66;03m# defunned version which is guaranteed to never create variables.\u001b[39;00m\n\u001b[0;32m--> 947\u001b[0m   \u001b[38;5;28;01mreturn\u001b[39;00m \u001b[38;5;28;43mself\u001b[39;49m\u001b[38;5;241;43m.\u001b[39;49m\u001b[43m_stateless_fn\u001b[49m\u001b[43m(\u001b[49m\u001b[38;5;241;43m*\u001b[39;49m\u001b[43margs\u001b[49m\u001b[43m,\u001b[49m\u001b[43m \u001b[49m\u001b[38;5;241;43m*\u001b[39;49m\u001b[38;5;241;43m*\u001b[39;49m\u001b[43mkwds\u001b[49m\u001b[43m)\u001b[49m  \u001b[38;5;66;03m# pylint: disable=not-callable\u001b[39;00m\n\u001b[1;32m    948\u001b[0m \u001b[38;5;28;01melif\u001b[39;00m \u001b[38;5;28mself\u001b[39m\u001b[38;5;241m.\u001b[39m_stateful_fn \u001b[38;5;129;01mis\u001b[39;00m \u001b[38;5;129;01mnot\u001b[39;00m \u001b[38;5;28;01mNone\u001b[39;00m:\n\u001b[1;32m    949\u001b[0m   \u001b[38;5;66;03m# Release the lock early so that multiple threads can perform the call\u001b[39;00m\n\u001b[1;32m    950\u001b[0m   \u001b[38;5;66;03m# in parallel.\u001b[39;00m\n\u001b[1;32m    951\u001b[0m   \u001b[38;5;28mself\u001b[39m\u001b[38;5;241m.\u001b[39m_lock\u001b[38;5;241m.\u001b[39mrelease()\n",
      "File \u001b[0;32m~/miniforge3/envs/tf/lib/python3.8/site-packages/tensorflow/python/eager/function.py:2496\u001b[0m, in \u001b[0;36mFunction.__call__\u001b[0;34m(self, *args, **kwargs)\u001b[0m\n\u001b[1;32m   2493\u001b[0m \u001b[38;5;28;01mwith\u001b[39;00m \u001b[38;5;28mself\u001b[39m\u001b[38;5;241m.\u001b[39m_lock:\n\u001b[1;32m   2494\u001b[0m   (graph_function,\n\u001b[1;32m   2495\u001b[0m    filtered_flat_args) \u001b[38;5;241m=\u001b[39m \u001b[38;5;28mself\u001b[39m\u001b[38;5;241m.\u001b[39m_maybe_define_function(args, kwargs)\n\u001b[0;32m-> 2496\u001b[0m \u001b[38;5;28;01mreturn\u001b[39;00m \u001b[43mgraph_function\u001b[49m\u001b[38;5;241;43m.\u001b[39;49m\u001b[43m_call_flat\u001b[49m\u001b[43m(\u001b[49m\n\u001b[1;32m   2497\u001b[0m \u001b[43m    \u001b[49m\u001b[43mfiltered_flat_args\u001b[49m\u001b[43m,\u001b[49m\u001b[43m \u001b[49m\u001b[43mcaptured_inputs\u001b[49m\u001b[38;5;241;43m=\u001b[39;49m\u001b[43mgraph_function\u001b[49m\u001b[38;5;241;43m.\u001b[39;49m\u001b[43mcaptured_inputs\u001b[49m\u001b[43m)\u001b[49m\n",
      "File \u001b[0;32m~/miniforge3/envs/tf/lib/python3.8/site-packages/tensorflow/python/eager/function.py:1862\u001b[0m, in \u001b[0;36mConcreteFunction._call_flat\u001b[0;34m(self, args, captured_inputs, cancellation_manager)\u001b[0m\n\u001b[1;32m   1858\u001b[0m possible_gradient_type \u001b[38;5;241m=\u001b[39m gradients_util\u001b[38;5;241m.\u001b[39mPossibleTapeGradientTypes(args)\n\u001b[1;32m   1859\u001b[0m \u001b[38;5;28;01mif\u001b[39;00m (possible_gradient_type \u001b[38;5;241m==\u001b[39m gradients_util\u001b[38;5;241m.\u001b[39mPOSSIBLE_GRADIENT_TYPES_NONE\n\u001b[1;32m   1860\u001b[0m     \u001b[38;5;129;01mand\u001b[39;00m executing_eagerly):\n\u001b[1;32m   1861\u001b[0m   \u001b[38;5;66;03m# No tape is watching; skip to running the function.\u001b[39;00m\n\u001b[0;32m-> 1862\u001b[0m   \u001b[38;5;28;01mreturn\u001b[39;00m \u001b[38;5;28mself\u001b[39m\u001b[38;5;241m.\u001b[39m_build_call_outputs(\u001b[38;5;28;43mself\u001b[39;49m\u001b[38;5;241;43m.\u001b[39;49m\u001b[43m_inference_function\u001b[49m\u001b[38;5;241;43m.\u001b[39;49m\u001b[43mcall\u001b[49m\u001b[43m(\u001b[49m\n\u001b[1;32m   1863\u001b[0m \u001b[43m      \u001b[49m\u001b[43mctx\u001b[49m\u001b[43m,\u001b[49m\u001b[43m \u001b[49m\u001b[43margs\u001b[49m\u001b[43m,\u001b[49m\u001b[43m \u001b[49m\u001b[43mcancellation_manager\u001b[49m\u001b[38;5;241;43m=\u001b[39;49m\u001b[43mcancellation_manager\u001b[49m\u001b[43m)\u001b[49m)\n\u001b[1;32m   1864\u001b[0m forward_backward \u001b[38;5;241m=\u001b[39m \u001b[38;5;28mself\u001b[39m\u001b[38;5;241m.\u001b[39m_select_forward_and_backward_functions(\n\u001b[1;32m   1865\u001b[0m     args,\n\u001b[1;32m   1866\u001b[0m     possible_gradient_type,\n\u001b[1;32m   1867\u001b[0m     executing_eagerly)\n\u001b[1;32m   1868\u001b[0m forward_function, args_with_tangents \u001b[38;5;241m=\u001b[39m forward_backward\u001b[38;5;241m.\u001b[39mforward()\n",
      "File \u001b[0;32m~/miniforge3/envs/tf/lib/python3.8/site-packages/tensorflow/python/eager/function.py:499\u001b[0m, in \u001b[0;36m_EagerDefinedFunction.call\u001b[0;34m(self, ctx, args, cancellation_manager)\u001b[0m\n\u001b[1;32m    497\u001b[0m \u001b[38;5;28;01mwith\u001b[39;00m _InterpolateFunctionError(\u001b[38;5;28mself\u001b[39m):\n\u001b[1;32m    498\u001b[0m   \u001b[38;5;28;01mif\u001b[39;00m cancellation_manager \u001b[38;5;129;01mis\u001b[39;00m \u001b[38;5;28;01mNone\u001b[39;00m:\n\u001b[0;32m--> 499\u001b[0m     outputs \u001b[38;5;241m=\u001b[39m \u001b[43mexecute\u001b[49m\u001b[38;5;241;43m.\u001b[39;49m\u001b[43mexecute\u001b[49m\u001b[43m(\u001b[49m\n\u001b[1;32m    500\u001b[0m \u001b[43m        \u001b[49m\u001b[38;5;28;43mstr\u001b[39;49m\u001b[43m(\u001b[49m\u001b[38;5;28;43mself\u001b[39;49m\u001b[38;5;241;43m.\u001b[39;49m\u001b[43msignature\u001b[49m\u001b[38;5;241;43m.\u001b[39;49m\u001b[43mname\u001b[49m\u001b[43m)\u001b[49m\u001b[43m,\u001b[49m\n\u001b[1;32m    501\u001b[0m \u001b[43m        \u001b[49m\u001b[43mnum_outputs\u001b[49m\u001b[38;5;241;43m=\u001b[39;49m\u001b[38;5;28;43mself\u001b[39;49m\u001b[38;5;241;43m.\u001b[39;49m\u001b[43m_num_outputs\u001b[49m\u001b[43m,\u001b[49m\n\u001b[1;32m    502\u001b[0m \u001b[43m        \u001b[49m\u001b[43minputs\u001b[49m\u001b[38;5;241;43m=\u001b[39;49m\u001b[43margs\u001b[49m\u001b[43m,\u001b[49m\n\u001b[1;32m    503\u001b[0m \u001b[43m        \u001b[49m\u001b[43mattrs\u001b[49m\u001b[38;5;241;43m=\u001b[39;49m\u001b[43mattrs\u001b[49m\u001b[43m,\u001b[49m\n\u001b[1;32m    504\u001b[0m \u001b[43m        \u001b[49m\u001b[43mctx\u001b[49m\u001b[38;5;241;43m=\u001b[39;49m\u001b[43mctx\u001b[49m\u001b[43m)\u001b[49m\n\u001b[1;32m    505\u001b[0m   \u001b[38;5;28;01melse\u001b[39;00m:\n\u001b[1;32m    506\u001b[0m     outputs \u001b[38;5;241m=\u001b[39m execute\u001b[38;5;241m.\u001b[39mexecute_with_cancellation(\n\u001b[1;32m    507\u001b[0m         \u001b[38;5;28mstr\u001b[39m(\u001b[38;5;28mself\u001b[39m\u001b[38;5;241m.\u001b[39msignature\u001b[38;5;241m.\u001b[39mname),\n\u001b[1;32m    508\u001b[0m         num_outputs\u001b[38;5;241m=\u001b[39m\u001b[38;5;28mself\u001b[39m\u001b[38;5;241m.\u001b[39m_num_outputs,\n\u001b[0;32m   (...)\u001b[0m\n\u001b[1;32m    511\u001b[0m         ctx\u001b[38;5;241m=\u001b[39mctx,\n\u001b[1;32m    512\u001b[0m         cancellation_manager\u001b[38;5;241m=\u001b[39mcancellation_manager)\n",
      "File \u001b[0;32m~/miniforge3/envs/tf/lib/python3.8/site-packages/tensorflow/python/eager/execute.py:54\u001b[0m, in \u001b[0;36mquick_execute\u001b[0;34m(op_name, num_outputs, inputs, attrs, ctx, name)\u001b[0m\n\u001b[1;32m     52\u001b[0m \u001b[38;5;28;01mtry\u001b[39;00m:\n\u001b[1;32m     53\u001b[0m   ctx\u001b[38;5;241m.\u001b[39mensure_initialized()\n\u001b[0;32m---> 54\u001b[0m   tensors \u001b[38;5;241m=\u001b[39m \u001b[43mpywrap_tfe\u001b[49m\u001b[38;5;241;43m.\u001b[39;49m\u001b[43mTFE_Py_Execute\u001b[49m\u001b[43m(\u001b[49m\u001b[43mctx\u001b[49m\u001b[38;5;241;43m.\u001b[39;49m\u001b[43m_handle\u001b[49m\u001b[43m,\u001b[49m\u001b[43m \u001b[49m\u001b[43mdevice_name\u001b[49m\u001b[43m,\u001b[49m\u001b[43m \u001b[49m\u001b[43mop_name\u001b[49m\u001b[43m,\u001b[49m\n\u001b[1;32m     55\u001b[0m \u001b[43m                                      \u001b[49m\u001b[43minputs\u001b[49m\u001b[43m,\u001b[49m\u001b[43m \u001b[49m\u001b[43mattrs\u001b[49m\u001b[43m,\u001b[49m\u001b[43m \u001b[49m\u001b[43mnum_outputs\u001b[49m\u001b[43m)\u001b[49m\n\u001b[1;32m     56\u001b[0m \u001b[38;5;28;01mexcept\u001b[39;00m core\u001b[38;5;241m.\u001b[39m_NotOkStatusException \u001b[38;5;28;01mas\u001b[39;00m e:\n\u001b[1;32m     57\u001b[0m   \u001b[38;5;28;01mif\u001b[39;00m name \u001b[38;5;129;01mis\u001b[39;00m \u001b[38;5;129;01mnot\u001b[39;00m \u001b[38;5;28;01mNone\u001b[39;00m:\n",
      "\u001b[0;31mKeyboardInterrupt\u001b[0m: "
     ]
    }
   ],
   "source": [
    "# test_model_history = test_model2.fit([train_encodings.input_ids, train_encodings.attention_mask],\n",
    "#                                       train_labels,\n",
    "#                                       validation_data=([valid_encodings.input_ids, valid_encodings.attention_mask],\n",
    "#                                       valid_labels),\n",
    "#                                       batch_size=32,\n",
    "#                                       epochs=3)\n",
    "\n",
    "roberta_cl_model_history = roberta_cl_model.fit(dataset,\n",
    "                                      validation_data=vdataset,\n",
    "                                      epochs=10)"
   ]
  },
  {
   "cell_type": "code",
   "execution_count": null,
   "id": "4f96fdb7-938a-4fd8-815e-aa5d4f8f5a4c",
   "metadata": {},
   "outputs": [],
   "source": [
    "test_encodings = rtokenizer(list(test_texts), truncation=True, padding=True, max_length=max_length, return_tensors='tf')"
   ]
  },
  {
   "cell_type": "code",
   "execution_count": null,
   "id": "16260625-addc-4016-9bb4-17cc8f7ece7a",
   "metadata": {},
   "outputs": [],
   "source": [
    "tdataset = tf.data.Dataset.from_tensor_slices(({\"input_ids_layer\": test_encodings.input_ids, \"attention_mask_layer\": test_encodings.attention_mask}, test_labels))\n",
    "tdataset = tdataset.batch(32).prefetch(tf.data.experimental.AUTOTUNE)"
   ]
  },
  {
   "cell_type": "code",
   "execution_count": null,
   "id": "d7cc0ae0-54c4-4252-86d5-e4531a4da4c7",
   "metadata": {},
   "outputs": [],
   "source": [
    "roberta_cl_model.evaluate(tdataset)"
   ]
  },
  {
   "cell_type": "code",
   "execution_count": null,
   "id": "a08ec5d5-6349-42ab-8fb6-9bb04f94d048",
   "metadata": {},
   "outputs": [],
   "source": [
    "preds = roberta_cl_model.predict(tdataset)"
   ]
  },
  {
   "cell_type": "code",
   "execution_count": 29,
   "id": "8e15bf50-6a50-4f09-ba41-ec13cf21b203",
   "metadata": {},
   "outputs": [],
   "source": [
    "preds = tf.argmax(preds, axis=-1)"
   ]
  },
  {
   "cell_type": "code",
   "execution_count": 30,
   "id": "922ac461-b60d-4c24-b8ff-0cd848e1a9e6",
   "metadata": {},
   "outputs": [
    {
     "name": "stdout",
     "output_type": "stream",
     "text": [
      "              precision    recall  f1-score   support\n",
      "\n",
      "           0       0.98      0.98      0.98     10103\n",
      "           1       0.95      0.98      0.96      9890\n",
      "           2       0.96      0.95      0.96      9972\n",
      "           3       0.94      0.94      0.94      6204\n",
      "           4       0.92      0.86      0.89      1446\n",
      "           5       0.74      0.80      0.77       182\n",
      "\n",
      "    accuracy                           0.96     37797\n",
      "   macro avg       0.92      0.92      0.92     37797\n",
      "weighted avg       0.96      0.96      0.96     37797\n",
      "\n"
     ]
    }
   ],
   "source": [
    "print(classification_report(test_labels, preds.numpy()))"
   ]
  },
  {
   "cell_type": "code",
   "execution_count": 31,
   "id": "4f4c31d8-7ce6-4364-86b8-e151c9ab3427",
   "metadata": {},
   "outputs": [],
   "source": [
    "cm = tf.math.confusion_matrix(test_labels, preds)\n",
    "cm = cm/cm.numpy().sum(axis=1)[:, tf.newaxis]"
   ]
  },
  {
   "cell_type": "code",
   "execution_count": 32,
   "id": "2e38c3bf-b50b-4506-bdf6-827a2f08fd4d",
   "metadata": {},
   "outputs": [
    {
     "data": {
      "text/plain": [
       "<tf.Tensor: shape=(6, 6), dtype=float64, numpy=\n",
       "array([[9.83272295e-01, 1.00960111e-02, 2.57349302e-03, 2.87043452e-03,\n",
       "        1.18776601e-03, 0.00000000e+00],\n",
       "       [1.18301314e-02, 9.75126390e-01, 6.47118301e-03, 4.44893832e-03,\n",
       "        1.71890799e-03, 4.04448938e-04],\n",
       "       [3.81066988e-03, 2.68752507e-02, 9.45647814e-01, 1.82511031e-02,\n",
       "        4.21179302e-03, 1.20336943e-03],\n",
       "       [3.54609929e-03, 1.37008382e-02, 2.94970986e-02, 9.43745970e-01,\n",
       "        6.28626692e-03, 3.22372663e-03],\n",
       "       [1.17565698e-02, 1.65975104e-02, 4.49515906e-02, 5.80912863e-02,\n",
       "        8.57538036e-01, 1.10650069e-02],\n",
       "       [1.09890110e-02, 1.64835165e-02, 3.29670330e-02, 1.15384615e-01,\n",
       "        2.74725275e-02, 7.96703297e-01]])>"
      ]
     },
     "execution_count": 32,
     "metadata": {},
     "output_type": "execute_result"
    }
   ],
   "source": [
    "cm"
   ]
  },
  {
   "cell_type": "code",
   "execution_count": 33,
   "id": "ef6bedc6-c828-487b-ae97-8475f16f9d7a",
   "metadata": {},
   "outputs": [
    {
     "data": {
      "text/plain": [
       "Text(220.72222222222223, 0.5, 'True')"
      ]
     },
     "execution_count": 33,
     "metadata": {},
     "output_type": "execute_result"
    },
    {
     "data": {
      "image/png": "[encoded data removed]",
      "text/plain": [
       "<Figure size 2000x700 with 2 Axes>"
      ]
     },
     "metadata": {},
     "output_type": "display_data"
    }
   ],
   "source": [
    "import matplotlib.pyplot as plt\n",
    "import seaborn as sns\n",
    "\n",
    "plt.figure(figsize=(20,7))\n",
    "sns.heatmap(\n",
    "    cm, annot=True)\n",
    "plt.xlabel(\"Predicted\")\n",
    "plt.ylabel(\"True\")"
   ]
  },
  {
   "cell_type": "code",
   "execution_count": 34,
   "id": "4ad4fb82-3e26-4118-91e2-71adec9f143c",
   "metadata": {},
   "outputs": [
    {
     "name": "stdout",
     "output_type": "stream",
     "text": [
      "The % of A1s is:  0.2645733622247445\n",
      "The % of A2s is:  0.2645733622247445\n",
      "The % of B1s is:  0.2645733622247445\n",
      "The % of B2s is:  0.16226019731881355\n",
      "The % of C1s is:  0.03888699277979295\n"
     ]
    }
   ],
   "source": [
    "print(\"The % of A1s is: \", df['cefr_numeric'].value_counts()[1] / len(df))\n",
    "print(\"The % of A2s is: \", df['cefr_numeric'].value_counts()[2] / len(df))\n",
    "print(\"The % of B1s is: \", df['cefr_numeric'].value_counts()[3] / len(df))\n",
    "print(\"The % of B2s is: \", df['cefr_numeric'].value_counts()[4] / len(df))\n",
    "print(\"The % of C1s is: \", df['cefr_numeric'].value_counts()[5] / len(df))"
   ]
  },
  {
   "cell_type": "code",
   "execution_count": 35,
   "id": "29e0d238-5be8-4d13-8eb8-f97e3680584d",
   "metadata": {},
   "outputs": [],
   "source": [
    "roberta_cl_model.save('roberta-cl.keras')"
   ]
  },
  {
   "cell_type": "markdown",
   "id": "32a9db87-58ea-46ff-9338-538900c38cd8",
   "metadata": {},
   "source": [
    "## GRU"
   ]
  },
  {
   "cell_type": "code",
   "execution_count": null,
   "id": "be29a9fd-1285-49a3-baf0-0b8a03f3cd7c",
   "metadata": {},
   "outputs": [],
   "source": [
    "roberta_gru_model = create_roberta_gru_model(model=roberta_model, num_classes=6)"
   ]
  },
  {
   "cell_type": "code",
   "execution_count": 20,
   "id": "200d65f8-5e3f-41f4-9c1e-1645ef6242f7",
   "metadata": {},
   "outputs": [],
   "source": [
    "dataset = tf.data.Dataset.from_tensor_slices(({\"input_ids_layer\": train_encodings.input_ids, \"attention_mask_layer\": train_encodings.attention_mask}, train_labels))\n",
    "dataset = dataset.batch(32).prefetch(tf.data.experimental.AUTOTUNE)\n",
    "\n",
    "vdataset = tf.data.Dataset.from_tensor_slices(({\"input_ids_layer\": valid_encodings.input_ids, \"attention_mask_layer\": valid_encodings.attention_mask}, valid_labels))\n",
    "vdataset = vdataset.batch(32).prefetch(tf.data.experimental.AUTOTUNE)"
   ]
  },
  {
   "cell_type": "code",
   "execution_count": 21,
   "id": "1979c266-8b3d-4d34-a885-e230cf926420",
   "metadata": {},
   "outputs": [
    {
     "name": "stdout",
     "output_type": "stream",
     "text": [
      "WARNING:tensorflow:Gradients do not exist for variables ['tf_roberta_model/roberta/pooler/dense/kernel:0', 'tf_roberta_model/roberta/pooler/dense/bias:0'] when minimizing the loss. If you're using `model.compile()`, did you forget to provide a `loss` argument?\n",
      "WARNING:tensorflow:Gradients do not exist for variables ['tf_roberta_model/roberta/pooler/dense/kernel:0', 'tf_roberta_model/roberta/pooler/dense/bias:0'] when minimizing the loss. If you're using `model.compile()`, did you forget to provide a `loss` argument?\n",
      "9362/9362 [==============================] - 2811s 297ms/step - loss: 0.4601 - accuracy: 0.8568 - val_loss: 1.0921 - val_accuracy: 0.5661\n"
     ]
    }
   ],
   "source": [
    "roberta_gru_model_history = roberta_gru_model.fit(dataset,\n",
    "                                      validation_data=vdataset,\n",
    "                                      epochs=1)"
   ]
  },
  {
   "cell_type": "code",
   "execution_count": 22,
   "id": "7a6afc4b-f2ee-461b-abc4-73f11d3c2b20",
   "metadata": {},
   "outputs": [],
   "source": [
    "test_encodings = rtokenizer(list(test_texts), truncation=True, padding=True, max_length=max_length, return_tensors='tf')"
   ]
  },
  {
   "cell_type": "code",
   "execution_count": 23,
   "id": "5348bb00-dcb7-44fc-bc6d-8dfb99237064",
   "metadata": {},
   "outputs": [],
   "source": [
    "tdataset = tf.data.Dataset.from_tensor_slices(({\"input_ids_layer\": test_encodings.input_ids, \"attention_mask_layer\": test_encodings.attention_mask}, test_labels))\n",
    "tdataset = tdataset.batch(32).prefetch(tf.data.experimental.AUTOTUNE)"
   ]
  },
  {
   "cell_type": "code",
   "execution_count": 24,
   "id": "bf43f788-a57f-4b0e-ad7b-38f3c221e2ee",
   "metadata": {},
   "outputs": [
    {
     "name": "stdout",
     "output_type": "stream",
     "text": [
      "1182/1182 [==============================] - 112s 92ms/step\n"
     ]
    }
   ],
   "source": [
    "preds = roberta_gru_model.predict(tdataset)"
   ]
  },
  {
   "cell_type": "code",
   "execution_count": 25,
   "id": "79e3628f-31ee-4066-ae35-c63ece4a9d71",
   "metadata": {},
   "outputs": [],
   "source": [
    "preds = tf.argmax(preds, axis=-1)"
   ]
  },
  {
   "cell_type": "code",
   "execution_count": 26,
   "id": "f80b36a2-0486-4e09-a50e-178300e949d3",
   "metadata": {},
   "outputs": [
    {
     "name": "stdout",
     "output_type": "stream",
     "text": [
      "              precision    recall  f1-score   support\n",
      "\n",
      "           0       0.88      0.90      0.89      9971\n",
      "           1       0.39      0.97      0.56      9918\n",
      "           2       0.91      0.28      0.43     10079\n",
      "           3       0.67      0.00      0.00      6184\n",
      "           4       0.00      0.00      0.00      1444\n",
      "           5       0.00      0.00      0.00       201\n",
      "\n",
      "    accuracy                           0.57     37797\n",
      "   macro avg       0.47      0.36      0.31     37797\n",
      "weighted avg       0.69      0.57      0.50     37797\n",
      "\n"
     ]
    },
    {
     "name": "stderr",
     "output_type": "stream",
     "text": [
      "C:\\Users\\Danny Skahill\\miniconda3\\envs\\tf2\\lib\\site-packages\\sklearn\\metrics\\_classification.py:1509: UndefinedMetricWarning: Precision is ill-defined and being set to 0.0 in labels with no predicted samples. Use `zero_division` parameter to control this behavior.\n",
      "  _warn_prf(average, modifier, f\"{metric.capitalize()} is\", len(result))\n",
      "C:\\Users\\Danny Skahill\\miniconda3\\envs\\tf2\\lib\\site-packages\\sklearn\\metrics\\_classification.py:1509: UndefinedMetricWarning: Precision is ill-defined and being set to 0.0 in labels with no predicted samples. Use `zero_division` parameter to control this behavior.\n",
      "  _warn_prf(average, modifier, f\"{metric.capitalize()} is\", len(result))\n",
      "C:\\Users\\Danny Skahill\\miniconda3\\envs\\tf2\\lib\\site-packages\\sklearn\\metrics\\_classification.py:1509: UndefinedMetricWarning: Precision is ill-defined and being set to 0.0 in labels with no predicted samples. Use `zero_division` parameter to control this behavior.\n",
      "  _warn_prf(average, modifier, f\"{metric.capitalize()} is\", len(result))\n"
     ]
    }
   ],
   "source": [
    "print(classification_report(test_labels, preds.numpy()))"
   ]
  },
  {
   "cell_type": "code",
   "execution_count": 27,
   "id": "6d6835bf-497e-45d5-a82b-6bf68ab6b62d",
   "metadata": {},
   "outputs": [],
   "source": [
    "cm = tf.math.confusion_matrix(test_labels, preds)\n",
    "cm = cm/cm.numpy().sum(axis=1)[:, tf.newaxis]"
   ]
  },
  {
   "cell_type": "code",
   "execution_count": 28,
   "id": "1cb813f2-4c3d-457a-a3a6-71cd009dacb4",
   "metadata": {},
   "outputs": [
    {
     "data": {
      "text/plain": [
       "Text(220.72222222222223, 0.5, 'True')"
      ]
     },
     "execution_count": 28,
     "metadata": {},
     "output_type": "execute_result"
    },
    {
     "data": {
      "image/png": "[encoded data removed]",
      "text/plain": [
       "<Figure size 2000x700 with 2 Axes>"
      ]
     },
     "metadata": {},
     "output_type": "display_data"
    }
   ],
   "source": [
    "import matplotlib.pyplot as plt\n",
    "import seaborn as sns\n",
    "\n",
    "plt.figure(figsize=(20,7))\n",
    "sns.heatmap(\n",
    "    cm, annot=True)\n",
    "plt.xlabel(\"Predicted\")\n",
    "plt.ylabel(\"True\")"
   ]
  },
  {
   "cell_type": "markdown",
   "id": "d3304008-7b5b-452d-b1cd-9c4526e79b9d",
   "metadata": {},
   "source": [
    "## 3->6 Class Model"
   ]
  },
  {
   "cell_type": "code",
   "execution_count": 41,
   "id": "a00833d0-8f27-4fae-957a-ada6db9d407e",
   "metadata": {},
   "outputs": [],
   "source": [
    "train_labels_group = train_labels.copy()\n",
    "train_labels_group[train_labels_group == 1] = 0\n",
    "train_labels_group[(train_labels_group == 2) | (train_labels_group == 3)] = 1\n",
    "train_labels_group[(train_labels_group == 4) | (train_labels_group == 5)] = 2\n",
    "\n",
    "valid_labels_group = valid_labels.copy()\n",
    "valid_labels_group[valid_labels_group == 1] = 0\n",
    "valid_labels_group[(valid_labels_group == 2) | (valid_labels_group == 3)] = 1\n",
    "valid_labels_group[(valid_labels_group == 4) | (valid_labels_group == 5)] = 2\n",
    "\n",
    "test_labels_group = test_labels.copy()\n",
    "test_labels_group[test_labels_group == 1] = 0\n",
    "test_labels_group[(test_labels_group == 2) | (test_labels_group == 3)] = 1\n",
    "test_labels_group[(test_labels_group == 4) | (test_labels_group == 5)] = 2"
   ]
  },
  {
   "cell_type": "code",
   "execution_count": 42,
   "id": "6e2e4796-79e9-4413-8076-b27d48c07d4c",
   "metadata": {},
   "outputs": [],
   "source": [
    "roberta_model_grouped = create_roberta_gru_model(model=roberta_model, num_classes=3)"
   ]
  },
  {
   "cell_type": "code",
   "execution_count": 43,
   "id": "2da674d2-0fb2-4ccf-9a57-d80410a774e3",
   "metadata": {},
   "outputs": [],
   "source": [
    "dataset = tf.data.Dataset.from_tensor_slices(({\"input_ids_layer\": train_encodings.input_ids, \"attention_mask_layer\": train_encodings.attention_mask}, train_labels_group))\n",
    "dataset = dataset.batch(32).prefetch(tf.data.experimental.AUTOTUNE)\n",
    "\n",
    "vdataset = tf.data.Dataset.from_tensor_slices(({\"input_ids_layer\": valid_encodings.input_ids, \"attention_mask_layer\": valid_encodings.attention_mask}, valid_labels_group))\n",
    "vdataset = vdataset.batch(32).prefetch(tf.data.experimental.AUTOTUNE)"
   ]
  },
  {
   "cell_type": "code",
   "execution_count": 44,
   "id": "19784adc-b169-4cc0-a64a-37e228264220",
   "metadata": {},
   "outputs": [
    {
     "name": "stdout",
     "output_type": "stream",
     "text": [
      "9362/9362 [==============================] - 1136s 120ms/step - loss: 0.2017 - accuracy: 0.9283 - val_loss: 0.1125 - val_accuracy: 0.9611\n"
     ]
    }
   ],
   "source": [
    "roberta_grouped_history = roberta_model_grouped.fit(dataset,\n",
    "                                      validation_data=vdataset,\n",
    "                                      epochs=1)"
   ]
  },
  {
   "cell_type": "code",
   "execution_count": 45,
   "id": "e7f4c0f8-8626-49a1-95a3-54b3f87501c6",
   "metadata": {},
   "outputs": [],
   "source": [
    "tdataset = tf.data.Dataset.from_tensor_slices(({\"input_ids_layer\": test_encodings.input_ids, \"attention_mask_layer\": test_encodings.attention_mask}, test_labels_group))\n",
    "tdataset = tdataset.batch(32).prefetch(tf.data.experimental.AUTOTUNE)"
   ]
  },
  {
   "cell_type": "code",
   "execution_count": 46,
   "id": "d3c5b39f-933e-4c44-9c3c-81dbdcfed6ec",
   "metadata": {},
   "outputs": [
    {
     "name": "stdout",
     "output_type": "stream",
     "text": [
      "1182/1182 [==============================] - 118s 100ms/step - loss: 0.1153 - accuracy: 0.9603\n"
     ]
    },
    {
     "data": {
      "text/plain": [
       "[0.11529413610696793, 0.960287868976593]"
      ]
     },
     "execution_count": 46,
     "metadata": {},
     "output_type": "execute_result"
    }
   ],
   "source": [
    "roberta_model_grouped.evaluate(tdataset)"
   ]
  },
  {
   "cell_type": "code",
   "execution_count": 47,
   "id": "fb1a727d-ba66-4535-a383-f793c4ba20c4",
   "metadata": {},
   "outputs": [
    {
     "name": "stdout",
     "output_type": "stream",
     "text": [
      "1182/1182 [==============================] - 119s 98ms/step\n"
     ]
    }
   ],
   "source": [
    "preds = roberta_model_grouped.predict(tdataset)\n",
    "preds = tf.argmax(preds, axis=-1)"
   ]
  },
  {
   "cell_type": "code",
   "execution_count": 48,
   "id": "5e669e57-9644-49f6-b779-22ea8f68a023",
   "metadata": {},
   "outputs": [],
   "source": [
    "cm = tf.math.confusion_matrix(test_labels_group, preds)\n",
    "cm = cm/cm.numpy().sum(axis=1)[:, tf.newaxis]"
   ]
  },
  {
   "cell_type": "code",
   "execution_count": 49,
   "id": "9118541a-703a-4207-9ca5-7e15ceb28b9d",
   "metadata": {},
   "outputs": [
    {
     "data": {
      "text/plain": [
       "Text(220.72222222222223, 0.5, 'True')"
      ]
     },
     "execution_count": 49,
     "metadata": {},
     "output_type": "execute_result"
    },
    {
     "data": {
      "image/png": "[encoded data removed]",
      "text/plain": [
       "<Figure size 2000x700 with 2 Axes>"
      ]
     },
     "metadata": {},
     "output_type": "display_data"
    }
   ],
   "source": [
    "import matplotlib.pyplot as plt\n",
    "import seaborn as sns\n",
    "\n",
    "plt.figure(figsize=(20,7))\n",
    "sns.heatmap(\n",
    "    cm, annot=True)\n",
    "plt.xlabel(\"Predicted\")\n",
    "plt.ylabel(\"True\")"
   ]
  },
  {
   "cell_type": "markdown",
   "id": "def30777-857a-4741-8180-b67eff2c3eaf",
   "metadata": {},
   "source": [
    "### Discriminate betweeen A1/A2, B1/B2, C1/C2"
   ]
  },
  {
   "cell_type": "code",
   "execution_count": 50,
   "id": "2ea2a363-0db7-4583-bd4d-42efe5a2e480",
   "metadata": {},
   "outputs": [],
   "source": [
    "#A\n",
    "A_train_mask = tf.equal(train_labels_group, 0)\n",
    "A_train_encodings = {\"input_ids\": tf.boolean_mask(train_encodings['input_ids'], A_train_mask),\n",
    "                     \"attention_mask\": tf.boolean_mask(train_encodings['attention_mask'], A_train_mask)}\n",
    "A_train_labels =  tf.boolean_mask(train_labels.copy(), A_train_mask)\n",
    "A_dataset = tf.data.Dataset.from_tensor_slices(({\"input_ids_layer\": A_train_encodings['input_ids'], \"attention_mask_layer\": A_train_encodings['attention_mask']}, A_train_labels))\n",
    "A_dataset = A_dataset.batch(32).prefetch(tf.data.experimental.AUTOTUNE)\n",
    "\n",
    "A_valid_mask = tf.equal(valid_labels_group, 0)\n",
    "A_valid_encodings = {\"input_ids\": tf.boolean_mask(valid_encodings['input_ids'], A_valid_mask),\n",
    "                     \"attention_mask\": tf.boolean_mask(valid_encodings['attention_mask'], A_valid_mask)}\n",
    "A_valid_labels =  tf.boolean_mask(valid_labels.copy(), A_valid_mask)\n",
    "A_vdataset = tf.data.Dataset.from_tensor_slices(({\"input_ids_layer\": A_valid_encodings['input_ids'], \"attention_mask_layer\": A_valid_encodings['attention_mask']}, A_valid_labels))\n",
    "A_vdataset = A_vdataset.batch(32).prefetch(tf.data.experimental.AUTOTUNE)\n",
    "\n",
    "A_test_mask = tf.equal(test_labels_group, 0)\n",
    "A_test_encodings = {\"input_ids\": tf.boolean_mask(test_encodings['input_ids'], A_test_mask),\n",
    "                     \"attention_mask\": tf.boolean_mask(test_encodings['attention_mask'], A_test_mask)}\n",
    "A_test_labels =  tf.boolean_mask(test_labels.copy(), A_test_mask)\n",
    "A_tdataset = tf.data.Dataset.from_tensor_slices(({\"input_ids_layer\": A_test_encodings['input_ids'], \"attention_mask_layer\": A_test_encodings['attention_mask']}, A_test_labels))\n",
    "A_tdataset = A_tdataset.batch(32).prefetch(tf.data.experimental.AUTOTUNE)"
   ]
  },
  {
   "cell_type": "code",
   "execution_count": 51,
   "id": "4a10abf8-f291-485e-805c-776902335f73",
   "metadata": {},
   "outputs": [],
   "source": [
    "A_model = create_roberta_gru_model(model=roberta_model, num_classes=2)"
   ]
  },
  {
   "cell_type": "code",
   "execution_count": 52,
   "id": "cce14154-2592-4ea6-8453-e2d0d1dc891e",
   "metadata": {},
   "outputs": [
    {
     "name": "stdout",
     "output_type": "stream",
     "text": [
      "4956/4956 [==============================] - 620s 123ms/step - loss: 0.1415 - accuracy: 0.9479 - val_loss: 0.0797 - val_accuracy: 0.9750\n"
     ]
    }
   ],
   "source": [
    "A_model_history = A_model.fit(A_dataset,\n",
    "                            validation_data=A_vdataset,\n",
    "                            epochs=1)"
   ]
  },
  {
   "cell_type": "code",
   "execution_count": 53,
   "id": "bc321f06-6386-4652-8a6f-fa5566a1c78b",
   "metadata": {},
   "outputs": [],
   "source": [
    "#B\n",
    "B_train_mask = tf.equal(train_labels_group, 1)\n",
    "B_train_encodings = {\"input_ids\": tf.boolean_mask(train_encodings['input_ids'], B_train_mask),\n",
    "                     \"attention_mask\": tf.boolean_mask(train_encodings['attention_mask'], B_train_mask)}\n",
    "B_train_labels =  tf.boolean_mask(train_labels.copy(), B_train_mask) - 2\n",
    "B_dataset = tf.data.Dataset.from_tensor_slices(({\"input_ids_layer\": B_train_encodings['input_ids'], \"attention_mask_layer\": B_train_encodings['attention_mask']}, B_train_labels))\n",
    "B_dataset = B_dataset.batch(32).prefetch(tf.data.experimental.AUTOTUNE)\n",
    "\n",
    "B_valid_mask = tf.equal(valid_labels_group, 1)\n",
    "B_valid_encodings = {\"input_ids\": tf.boolean_mask(valid_encodings['input_ids'], B_valid_mask),\n",
    "                     \"attention_mask\": tf.boolean_mask(valid_encodings['attention_mask'], B_valid_mask)}\n",
    "B_valid_labels =  tf.boolean_mask(valid_labels.copy(), B_valid_mask) - 2\n",
    "B_vdataset = tf.data.Dataset.from_tensor_slices(({\"input_ids_layer\": B_valid_encodings['input_ids'], \"attention_mask_layer\": B_valid_encodings['attention_mask']}, B_valid_labels))\n",
    "B_vdataset = B_vdataset.batch(32).prefetch(tf.data.experimental.AUTOTUNE)\n",
    "\n",
    "B_test_mask = tf.equal(test_labels_group, 1)\n",
    "B_test_encodings = {\"input_ids\": tf.boolean_mask(test_encodings['input_ids'], B_test_mask),\n",
    "                     \"attention_mask\": tf.boolean_mask(test_encodings['attention_mask'], B_test_mask)}\n",
    "B_test_labels =  tf.boolean_mask(test_labels.copy(), B_test_mask) - 2\n",
    "B_tdataset = tf.data.Dataset.from_tensor_slices(({\"input_ids_layer\": B_test_encodings['input_ids'], \"attention_mask_layer\": B_test_encodings['attention_mask']}, B_test_labels))\n",
    "B_tdataset = B_tdataset.batch(32).prefetch(tf.data.experimental.AUTOTUNE)"
   ]
  },
  {
   "cell_type": "code",
   "execution_count": 54,
   "id": "24fdf31b-68c1-437f-be47-ac209309a274",
   "metadata": {},
   "outputs": [],
   "source": [
    "B_model = create_roberta_gru_model(model=roberta_model, num_classes=2)"
   ]
  },
  {
   "cell_type": "code",
   "execution_count": 55,
   "id": "17dfd057-7779-4673-90f9-7535b5953ed6",
   "metadata": {},
   "outputs": [
    {
     "name": "stdout",
     "output_type": "stream",
     "text": [
      "3993/3993 [==============================] - 503s 123ms/step - loss: 0.2355 - accuracy: 0.9027 - val_loss: 0.1159 - val_accuracy: 0.9557\n"
     ]
    }
   ],
   "source": [
    "B_model_history = B_model.fit(B_dataset,\n",
    "                              validation_data=B_vdataset,\n",
    "                              epochs=1)"
   ]
  },
  {
   "cell_type": "code",
   "execution_count": 56,
   "id": "42079614-af66-40c3-8bd7-fa02482b6a78",
   "metadata": {},
   "outputs": [],
   "source": [
    "#C\n",
    "C_train_mask = tf.equal(train_labels_group, 2)\n",
    "C_train_encodings = {\"input_ids\": tf.boolean_mask(train_encodings['input_ids'], C_train_mask),\n",
    "                     \"attention_mask\": tf.boolean_mask(train_encodings['attention_mask'], C_train_mask)}\n",
    "C_train_labels =  tf.boolean_mask(train_labels.copy(), C_train_mask) - 4\n",
    "C_dataset = tf.data.Dataset.from_tensor_slices(({\"input_ids_layer\": C_train_encodings['input_ids'], \"attention_mask_layer\": C_train_encodings['attention_mask']}, C_train_labels))\n",
    "C_dataset = C_dataset.batch(32).prefetch(tf.data.experimental.AUTOTUNE)\n",
    "\n",
    "C_valid_mask = tf.equal(valid_labels_group, 2)\n",
    "C_valid_encodings = {\"input_ids\": tf.boolean_mask(valid_encodings['input_ids'], C_valid_mask),\n",
    "                     \"attention_mask\": tf.boolean_mask(valid_encodings['attention_mask'], C_valid_mask)}\n",
    "C_valid_labels =  tf.boolean_mask(valid_labels.copy(), C_valid_mask) - 4\n",
    "C_vdataset = tf.data.Dataset.from_tensor_slices(({\"input_ids_layer\": C_valid_encodings['input_ids'], \"attention_mask_layer\": C_valid_encodings['attention_mask']}, C_valid_labels))\n",
    "C_vdataset = C_vdataset.batch(32).prefetch(tf.data.experimental.AUTOTUNE)\n",
    "\n",
    "C_test_mask = tf.equal(test_labels_group, 2)\n",
    "C_test_encodings = {\"input_ids\": tf.boolean_mask(test_encodings['input_ids'], C_test_mask),\n",
    "                     \"attention_mask\": tf.boolean_mask(test_encodings['attention_mask'], C_test_mask)}\n",
    "C_test_labels =  tf.boolean_mask(test_labels.copy(), C_test_mask) - 4\n",
    "C_tdataset = tf.data.Dataset.from_tensor_slices(({\"input_ids_layer\": C_test_encodings['input_ids'], \"attention_mask_layer\": C_test_encodings['attention_mask']}, C_test_labels))\n",
    "C_tdataset = C_tdataset.batch(32).prefetch(tf.data.experimental.AUTOTUNE)"
   ]
  },
  {
   "cell_type": "code",
   "execution_count": 57,
   "id": "31b7d1d6-9895-4e30-b386-ba856436ce08",
   "metadata": {},
   "outputs": [],
   "source": [
    "C_model = create_roberta_gru_model(model=roberta_model, num_classes=2)"
   ]
  },
  {
   "cell_type": "code",
   "execution_count": 58,
   "id": "1245d3d0-4748-4275-bd9b-80b288c6b688",
   "metadata": {},
   "outputs": [
    {
     "name": "stdout",
     "output_type": "stream",
     "text": [
      "413/413 [==============================] - 63s 124ms/step - loss: 0.2832 - accuracy: 0.8965 - val_loss: 0.1442 - val_accuracy: 0.9412\n"
     ]
    }
   ],
   "source": [
    "C_model_history = C_model.fit(C_dataset,\n",
    "                              validation_data=C_vdataset,\n",
    "                              epochs=1)"
   ]
  },
  {
   "cell_type": "markdown",
   "id": "d20cc346-e01c-4e41-8c12-bb7680dd8d2c",
   "metadata": {},
   "source": [
    "### Combine"
   ]
  },
  {
   "cell_type": "code",
   "execution_count": 59,
   "id": "c0d80e33-ff63-4d40-ad91-6f95d3a9d6f3",
   "metadata": {},
   "outputs": [
    {
     "name": "stdout",
     "output_type": "stream",
     "text": [
      "642/642 [==============================] - 63s 93ms/step\n",
      "497/497 [==============================] - 49s 94ms/step\n",
      "44/44 [==============================] - 7s 94ms/step\n"
     ]
    }
   ],
   "source": [
    "a_pred_mask = tf.equal(preds, 0)\n",
    "b_pred_mask = tf.equal(preds, 1)\n",
    "c_pred_mask = tf.equal(preds, 2)\n",
    "\n",
    "a_test_encodings = {\"input_ids\": tf.boolean_mask(test_encodings['input_ids'], a_pred_mask),\n",
    "                     \"attention_mask\": tf.boolean_mask(test_encodings['attention_mask'], a_pred_mask)}\n",
    "a_preds = A_model.predict([a_test_encodings['input_ids'], a_test_encodings[\"attention_mask\"]])\n",
    "a_preds = tf.argmax(a_preds, axis=-1)\n",
    "a_preds = a_preds.numpy() \n",
    "\n",
    "b_test_encodings = {\"input_ids\": tf.boolean_mask(test_encodings['input_ids'], b_pred_mask),\n",
    "                     \"attention_mask\": tf.boolean_mask(test_encodings['attention_mask'], b_pred_mask)}\n",
    "b_preds = B_model.predict([b_test_encodings['input_ids'], b_test_encodings[\"attention_mask\"]])\n",
    "b_preds = tf.argmax(b_preds, axis=-1)\n",
    "b_preds = b_preds.numpy() + 2\n",
    "\n",
    "c_test_encodings = {\"input_ids\": tf.boolean_mask(test_encodings['input_ids'], c_pred_mask),\n",
    "                     \"attention_mask\": tf.boolean_mask(test_encodings['attention_mask'], c_pred_mask)}\n",
    "c_preds = C_model.predict([c_test_encodings['input_ids'], c_test_encodings[\"attention_mask\"]])\n",
    "c_preds = tf.argmax(c_preds, axis=-1)\n",
    "c_preds = c_preds.numpy() + 4\n",
    "\n",
    "\n",
    "predictions_comb = preds.numpy()\n",
    "predictions_comb[a_pred_mask] = a_preds\n",
    "predictions_comb[b_pred_mask] = b_preds\n",
    "predictions_comb[c_pred_mask] = c_preds"
   ]
  },
  {
   "cell_type": "code",
   "execution_count": 60,
   "id": "3513ccac-b489-4421-9970-876c62b198e9",
   "metadata": {},
   "outputs": [],
   "source": [
    "cm = tf.math.confusion_matrix(test_labels, predictions_comb)\n",
    "cm = cm/cm.numpy().sum(axis=1)[:, tf.newaxis]"
   ]
  },
  {
   "cell_type": "code",
   "execution_count": 61,
   "id": "8d2d6249-e10c-4f6b-8dc2-2125a2b6c827",
   "metadata": {},
   "outputs": [
    {
     "data": {
      "text/plain": [
       "Text(220.72222222222223, 0.5, 'True')"
      ]
     },
     "execution_count": 61,
     "metadata": {},
     "output_type": "execute_result"
    },
    {
     "data": {
      "image/png": "[encoded data removed]",
      "text/plain": [
       "<Figure size 2000x700 with 2 Axes>"
      ]
     },
     "metadata": {},
     "output_type": "display_data"
    }
   ],
   "source": [
    "plt.figure(figsize=(20,7))\n",
    "sns.heatmap(\n",
    "    cm, annot=True)\n",
    "plt.xlabel(\"Predicted\")\n",
    "plt.ylabel(\"True\")"
   ]
  },
  {
   "cell_type": "code",
   "execution_count": 62,
   "id": "705ba94d-1df3-471b-8a23-9ecad0aae95d",
   "metadata": {},
   "outputs": [
    {
     "name": "stdout",
     "output_type": "stream",
     "text": [
      "              precision    recall  f1-score   support\n",
      "\n",
      "           0       0.94      0.99      0.96      9971\n",
      "           1       0.93      0.95      0.94      9918\n",
      "           2       0.94      0.93      0.93     10079\n",
      "           3       0.92      0.89      0.90      6184\n",
      "           4       0.85      0.73      0.78      1444\n",
      "           5       0.61      0.50      0.55       201\n",
      "\n",
      "    accuracy                           0.93     37797\n",
      "   macro avg       0.87      0.83      0.85     37797\n",
      "weighted avg       0.93      0.93      0.93     37797\n",
      "\n"
     ]
    }
   ],
   "source": [
    "print(classification_report(test_labels, predictions_comb))"
   ]
  },
  {
   "cell_type": "markdown",
   "id": "218c5c74-294f-4f7a-9cda-cdd57a864ada",
   "metadata": {},
   "source": [
    "## Multi-Step Model"
   ]
  },
  {
   "cell_type": "code",
   "execution_count": 61,
   "id": "7d69cf73-4654-4318-ae2c-07ca7beca554",
   "metadata": {},
   "outputs": [],
   "source": [
    "#del vdataset\n",
    "del tdataset\n",
    "del dataset"
   ]
  },
  {
   "cell_type": "markdown",
   "id": "f6781d05-7f23-4309-9662-91b7cd53edd9",
   "metadata": {},
   "source": [
    "### Step 1"
   ]
  },
  {
   "cell_type": "code",
   "execution_count": 48,
   "id": "9e379ea5-8e95-4f15-8ca4-67729d519033",
   "metadata": {},
   "outputs": [],
   "source": [
    "s1_train_labels = train_labels.copy()\n",
    "s1_train_labels[(s1_train_labels == 5) | (s1_train_labels == 4)] = 3\n",
    "\n",
    "s1_valid_labels = valid_labels.copy()\n",
    "s1_valid_labels[(s1_valid_labels == 5) | (s1_valid_labels == 4)] = 3\n",
    "\n",
    "s1_test_labels = test_labels.copy()\n",
    "s1_test_labels[(s1_test_labels == 5) | (s1_test_labels == 4)] = 3"
   ]
  },
  {
   "cell_type": "code",
   "execution_count": 49,
   "id": "f38a0e83-2086-4ea4-bee4-4cb82f9bc5c6",
   "metadata": {},
   "outputs": [],
   "source": [
    "s1_roberta_model = create_roberta_cl_model(model=roberta_model, num_classes=4)"
   ]
  },
  {
   "cell_type": "code",
   "execution_count": 50,
   "id": "a24ab8c2-327b-4055-9acd-d3c80699b0cb",
   "metadata": {},
   "outputs": [],
   "source": [
    "dataset = tf.data.Dataset.from_tensor_slices(({\"input_ids_layer\": train_encodings.input_ids, \"attention_mask_layer\": train_encodings.attention_mask}, s1_train_labels))\n",
    "dataset = dataset.batch(32).prefetch(tf.data.experimental.AUTOTUNE)\n",
    "\n",
    "vdataset = tf.data.Dataset.from_tensor_slices(({\"input_ids_layer\": valid_encodings.input_ids, \"attention_mask_layer\": valid_encodings.attention_mask}, s1_valid_labels))\n",
    "vdataset = vdataset.batch(32).prefetch(tf.data.experimental.AUTOTUNE)"
   ]
  },
  {
   "cell_type": "code",
   "execution_count": 51,
   "id": "260d2161-5eb6-4b9b-98eb-95eba63c1a84",
   "metadata": {},
   "outputs": [
    {
     "name": "stdout",
     "output_type": "stream",
     "text": [
      "9362/9362 [==============================] - 1168s 124ms/step - loss: 0.3031 - accuracy: 0.8897 - val_loss: 0.1552 - val_accuracy: 0.9449\n"
     ]
    }
   ],
   "source": [
    "s1_roberta_history = s1_roberta_model.fit(dataset,\n",
    "                                      validation_data=vdataset,\n",
    "                                      epochs=1)"
   ]
  },
  {
   "cell_type": "code",
   "execution_count": 52,
   "id": "9892158e-dca3-45f8-b418-0d3bae5a64b0",
   "metadata": {},
   "outputs": [],
   "source": [
    "tdataset = tf.data.Dataset.from_tensor_slices(({\"input_ids_layer\": test_encodings.input_ids, \"attention_mask_layer\": test_encodings.attention_mask}, s1_test_labels))\n",
    "tdataset = tdataset.batch(32).prefetch(tf.data.experimental.AUTOTUNE)"
   ]
  },
  {
   "cell_type": "code",
   "execution_count": 53,
   "id": "6cef9c75-aa21-4aca-bfdd-9bebd8120fb1",
   "metadata": {},
   "outputs": [
    {
     "name": "stdout",
     "output_type": "stream",
     "text": [
      "1182/1182 [==============================] - 114s 97ms/step - loss: 0.1570 - accuracy: 0.9455\n"
     ]
    },
    {
     "data": {
      "text/plain": [
       "[0.15700982511043549, 0.9454983472824097]"
      ]
     },
     "execution_count": 53,
     "metadata": {},
     "output_type": "execute_result"
    }
   ],
   "source": [
    "s1_roberta_model.evaluate(tdataset)"
   ]
  },
  {
   "cell_type": "code",
   "execution_count": 72,
   "id": "999a792d-a137-4c3b-b0e2-3b01fda5d02f",
   "metadata": {},
   "outputs": [
    {
     "name": "stdout",
     "output_type": "stream",
     "text": [
      "1182/1182 [==============================] - 119s 98ms/step\n"
     ]
    }
   ],
   "source": [
    "predictions_s1 = s1_roberta_model.predict([test_encodings['input_ids'], test_encodings[\"attention_mask\"]])\n",
    "predictions_s1 = tf.argmax(predictions_s1, axis=-1)"
   ]
  },
  {
   "cell_type": "markdown",
   "id": "f6ead44c-c982-4cfe-b242-8463faca089c",
   "metadata": {},
   "source": [
    "### Step 2"
   ]
  },
  {
   "cell_type": "code",
   "execution_count": 67,
   "id": "5b3a89df-6307-4b5d-b0c8-6618e0abb639",
   "metadata": {},
   "outputs": [],
   "source": [
    "train_mask = tf.equal(s1_train_labels, 3)\n",
    "s2_train_encodings = {\"input_ids\": tf.boolean_mask(train_encodings['input_ids'], train_mask),\n",
    "                     \"attention_mask\": tf.boolean_mask(train_encodings['attention_mask'], train_mask)}\n",
    "s2_train_labels =  tf.boolean_mask(train_labels.copy(), train_mask) -3\n",
    "s2_dataset = tf.data.Dataset.from_tensor_slices(({\"input_ids_layer\": s2_train_encodings['input_ids'], \"attention_mask_layer\": s2_train_encodings['attention_mask']}, s2_train_labels))\n",
    "s2_dataset = s2_dataset.batch(32).prefetch(tf.data.experimental.AUTOTUNE)\n",
    "\n",
    "\n",
    "valid_mask = tf.equal(s1_valid_labels, 3)\n",
    "s2_valid_encodings = {\"input_ids\": tf.boolean_mask(valid_encodings['input_ids'], valid_mask),\n",
    "                     \"attention_mask\": tf.boolean_mask(valid_encodings['attention_mask'], valid_mask)}\n",
    "s2_valid_labels = tf.boolean_mask(valid_labels.copy(), valid_mask) - 3\n",
    "s2_vdataset = tf.data.Dataset.from_tensor_slices(({\"input_ids_layer\": s2_valid_encodings['input_ids'], \"attention_mask_layer\": s2_valid_encodings['attention_mask']}, s2_valid_labels))\n",
    "s2_vdataset = s2_vdataset.batch(32).prefetch(tf.data.experimental.AUTOTUNE)\n",
    "\n",
    "test_mask = tf.equal(s1_test_labels, 3)\n",
    "s2_test_encodings = {\"input_ids\": tf.boolean_mask(test_encodings['input_ids'], test_mask),\n",
    "                     \"attention_mask\": tf.boolean_mask(test_encodings['attention_mask'], test_mask)}\n",
    "s2_test_labels = tf.boolean_mask(test_labels.copy(), test_mask) - 3\n",
    "s2_tdataset = tf.data.Dataset.from_tensor_slices(({\"input_ids_layer\": s2_test_encodings['input_ids'], \"attention_mask_layer\": s2_test_encodings['attention_mask']}, s2_test_labels))\n",
    "s2_tdataset = s2_tdataset.batch(32).prefetch(tf.data.experimental.AUTOTUNE)\n"
   ]
  },
  {
   "cell_type": "code",
   "execution_count": 68,
   "id": "5bf92250-86be-4811-b749-39dab1c15f4a",
   "metadata": {},
   "outputs": [],
   "source": [
    "s2_roberta_model = create_roberta_cl_model(model=roberta_model, num_classes=3)"
   ]
  },
  {
   "cell_type": "code",
   "execution_count": 69,
   "id": "c0b1d4e0-1393-496c-9da6-fbef4af45516",
   "metadata": {},
   "outputs": [
    {
     "name": "stdout",
     "output_type": "stream",
     "text": [
      "1932/1932 [==============================] - 254s 125ms/step - loss: 0.3297 - accuracy: 0.8851 - val_loss: 0.2267 - val_accuracy: 0.9234\n"
     ]
    }
   ],
   "source": [
    "s2_roberta_history = s2_roberta_model.fit(s2_dataset,\n",
    "                                      validation_data=s2_vdataset,\n",
    "                                      epochs=1)"
   ]
  },
  {
   "cell_type": "code",
   "execution_count": 73,
   "id": "1d62cc31-2a55-4f80-b59c-fbf92dc773de",
   "metadata": {},
   "outputs": [
    {
     "name": "stdout",
     "output_type": "stream",
     "text": [
      "243/243 [==============================] - 27s 98ms/step\n"
     ]
    }
   ],
   "source": [
    "predictions_s2 = s2_roberta_model.predict([s2_test_encodings['input_ids'], s2_test_encodings[\"attention_mask\"]])\n",
    "predictions_s2 = tf.argmax(predictions_s2, axis=-1)"
   ]
  },
  {
   "cell_type": "markdown",
   "id": "b7c163b7-db45-4d81-a82f-119bc375c71b",
   "metadata": {},
   "source": [
    "### Combine"
   ]
  },
  {
   "cell_type": "code",
   "execution_count": 86,
   "id": "b06c1ff9-79a6-465b-89d7-7385971eaac9",
   "metadata": {},
   "outputs": [
    {
     "name": "stdout",
     "output_type": "stream",
     "text": [
      "233/233 [==============================] - 23s 99ms/step\n"
     ]
    }
   ],
   "source": [
    "pred_mask = tf.equal(predictions_s1, 3)\n",
    "s2_test_encodings = {\"input_ids\": tf.boolean_mask(test_encodings['input_ids'], pred_mask),\n",
    "                     \"attention_mask\": tf.boolean_mask(test_encodings['attention_mask'], pred_mask)}\n",
    "predictions_s2_2 = s2_roberta_model.predict([s2_test_encodings['input_ids'], s2_test_encodings[\"attention_mask\"]])\n",
    "predictions_s2_2 = tf.argmax(predictions_s2_2, axis=-1)\n",
    "\n",
    "predictions_s2_2 = predictions_s2_2.numpy() + 3\n",
    "\n",
    "predictions_comb = predictions_s1.numpy()\n",
    "predictions_comb[pred_mask] = predictions_s2_2"
   ]
  },
  {
   "cell_type": "code",
   "execution_count": 87,
   "id": "d98875b2-dcff-4fc5-b0d8-c4004bddaf6e",
   "metadata": {},
   "outputs": [
    {
     "name": "stdout",
     "output_type": "stream",
     "text": [
      "              precision    recall  f1-score   support\n",
      "\n",
      "           0       0.96      0.98      0.97      9960\n",
      "           1       0.95      0.95      0.95     10064\n",
      "           2       0.93      0.94      0.93     10008\n",
      "           3       0.90      0.89      0.89      6042\n",
      "           4       0.81      0.72      0.76      1535\n",
      "           5       0.73      0.29      0.42       188\n",
      "\n",
      "    accuracy                           0.93     37797\n",
      "   macro avg       0.88      0.80      0.82     37797\n",
      "weighted avg       0.93      0.93      0.93     37797\n",
      "\n"
     ]
    }
   ],
   "source": [
    "print(classification_report(test_labels, predictions_comb))"
   ]
  },
  {
   "cell_type": "code",
   "execution_count": 88,
   "id": "17f33b2a-1335-4776-93ab-119f66bb7c37",
   "metadata": {},
   "outputs": [],
   "source": [
    "cm = tf.math.confusion_matrix(test_labels, predictions_comb)\n",
    "cm = cm/cm.numpy().sum(axis=1)[:, tf.newaxis]"
   ]
  },
  {
   "cell_type": "code",
   "execution_count": 90,
   "id": "8f61508d-480f-4d27-bd8a-ebda2392cab8",
   "metadata": {},
   "outputs": [
    {
     "data": {
      "text/plain": [
       "Text(220.72222222222223, 0.5, 'True')"
      ]
     },
     "execution_count": 90,
     "metadata": {},
     "output_type": "execute_result"
    },
    {
     "data": {
      "image/png": "[encoded data removed]",
      "text/plain": [
       "<Figure size 2000x700 with 2 Axes>"
      ]
     },
     "metadata": {},
     "output_type": "display_data"
    }
   ],
   "source": [
    "plt.figure(figsize=(20,7))\n",
    "sns.heatmap(\n",
    "    cm, annot=True)\n",
    "plt.xlabel(\"Predicted\")\n",
    "plt.ylabel(\"True\")"
   ]
  },
  {
   "cell_type": "code",
   "execution_count": null,
   "id": "c1dcfee9-4e42-44a1-ad5b-f50994b72da4",
   "metadata": {},
   "outputs": [],
   "source": []
  }
 ],
 "metadata": {
  "kernelspec": {
   "display_name": "Python 3 (ipykernel)",
   "language": "python",
   "name": "python3"
  },
  "language_info": {
   "codemirror_mode": {
    "name": "ipython",
    "version": 3
   },
   "file_extension": ".py",
   "mimetype": "text/x-python",
   "name": "python",
   "nbconvert_exporter": "python",
   "pygments_lexer": "ipython3",
   "version": "3.8.13"
  }
 },
 "nbformat": 4,
 "nbformat_minor": 5
}
