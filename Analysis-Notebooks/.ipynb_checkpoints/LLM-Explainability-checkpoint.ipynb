{
 "cells": [
  {
   "cell_type": "code",
   "execution_count": 1,
   "id": "d970d855",
   "metadata": {},
   "outputs": [],
   "source": [
    "import pandas as pd\n",
    "import numpy as np"
   ]
  },
  {
   "cell_type": "code",
   "execution_count": 69,
   "id": "a10d541e",
   "metadata": {},
   "outputs": [],
   "source": [
    "rubric = pd.read_csv(\"../cefr_desc.csv\")"
   ]
  },
  {
   "cell_type": "code",
   "execution_count": 81,
   "id": "4997245e",
   "metadata": {},
   "outputs": [
    {
     "data": {
      "text/html": [
       "<div>\n",
       "<style scoped>\n",
       "    .dataframe tbody tr th:only-of-type {\n",
       "        vertical-align: middle;\n",
       "    }\n",
       "\n",
       "    .dataframe tbody tr th {\n",
       "        vertical-align: top;\n",
       "    }\n",
       "\n",
       "    .dataframe thead th {\n",
       "        text-align: right;\n",
       "    }\n",
       "</style>\n",
       "<table border=\"1\" class=\"dataframe\">\n",
       "  <thead>\n",
       "    <tr style=\"text-align: right;\">\n",
       "      <th></th>\n",
       "      <th>No</th>\n",
       "      <th>CEFR Descriptor Scheme (updated)</th>\n",
       "      <th>Mode of\\ncommunication</th>\n",
       "      <th>Activity, strategy or competence</th>\n",
       "      <th>Scale</th>\n",
       "      <th>Level</th>\n",
       "      <th>Descriptor</th>\n",
       "    </tr>\n",
       "  </thead>\n",
       "  <tbody>\n",
       "    <tr>\n",
       "      <th>0</th>\n",
       "      <td>1.0</td>\n",
       "      <td>Communicative language activities</td>\n",
       "      <td>Reception</td>\n",
       "      <td>Oral comprehension</td>\n",
       "      <td>Overall oral comprehension</td>\n",
       "      <td>C2</td>\n",
       "      <td>Can understand with ease virtually any kind of...</td>\n",
       "    </tr>\n",
       "    <tr>\n",
       "      <th>1</th>\n",
       "      <td>2.0</td>\n",
       "      <td>Communicative language activities</td>\n",
       "      <td>Reception</td>\n",
       "      <td>Oral comprehension</td>\n",
       "      <td>Overall oral comprehension</td>\n",
       "      <td>C1</td>\n",
       "      <td>Can understand enough to follow extended disco...</td>\n",
       "    </tr>\n",
       "    <tr>\n",
       "      <th>2</th>\n",
       "      <td>3.0</td>\n",
       "      <td>Communicative language activities</td>\n",
       "      <td>Reception</td>\n",
       "      <td>Oral comprehension</td>\n",
       "      <td>Overall oral comprehension</td>\n",
       "      <td>C1</td>\n",
       "      <td>Can recognise a wide range of idiomatic expres...</td>\n",
       "    </tr>\n",
       "    <tr>\n",
       "      <th>3</th>\n",
       "      <td>4.0</td>\n",
       "      <td>Communicative language activities</td>\n",
       "      <td>Reception</td>\n",
       "      <td>Oral comprehension</td>\n",
       "      <td>Overall oral comprehension</td>\n",
       "      <td>C1</td>\n",
       "      <td>Can follow extended discourse even when it is ...</td>\n",
       "    </tr>\n",
       "    <tr>\n",
       "      <th>4</th>\n",
       "      <td>5.0</td>\n",
       "      <td>Communicative language activities</td>\n",
       "      <td>Reception</td>\n",
       "      <td>Oral comprehension</td>\n",
       "      <td>Overall oral comprehension</td>\n",
       "      <td>B2+</td>\n",
       "      <td>Can understand standard language or a familiar...</td>\n",
       "    </tr>\n",
       "    <tr>\n",
       "      <th>...</th>\n",
       "      <td>...</td>\n",
       "      <td>...</td>\n",
       "      <td>...</td>\n",
       "      <td>...</td>\n",
       "      <td>...</td>\n",
       "      <td>...</td>\n",
       "      <td>...</td>\n",
       "    </tr>\n",
       "    <tr>\n",
       "      <th>1830</th>\n",
       "      <td>1831.0</td>\n",
       "      <td>Signing competences</td>\n",
       "      <td>NaN</td>\n",
       "      <td>Pragmatic competence</td>\n",
       "      <td>Signing fluency</td>\n",
       "      <td>A2</td>\n",
       "      <td>Can indicate the end of a sentence clearly by ...</td>\n",
       "    </tr>\n",
       "    <tr>\n",
       "      <th>1831</th>\n",
       "      <td>1832.0</td>\n",
       "      <td>Signing competences</td>\n",
       "      <td>NaN</td>\n",
       "      <td>Pragmatic competence</td>\n",
       "      <td>Signing fluency</td>\n",
       "      <td>A1</td>\n",
       "      <td>No descriptors available</td>\n",
       "    </tr>\n",
       "    <tr>\n",
       "      <th>1832</th>\n",
       "      <td>NaN</td>\n",
       "      <td>NaN</td>\n",
       "      <td>NaN</td>\n",
       "      <td>NaN</td>\n",
       "      <td>NaN</td>\n",
       "      <td>NaN</td>\n",
       "      <td>NaN</td>\n",
       "    </tr>\n",
       "    <tr>\n",
       "      <th>1833</th>\n",
       "      <td>NaN</td>\n",
       "      <td>NaN</td>\n",
       "      <td>NaN</td>\n",
       "      <td>NaN</td>\n",
       "      <td>NaN</td>\n",
       "      <td>NaN</td>\n",
       "      <td>NaN</td>\n",
       "    </tr>\n",
       "    <tr>\n",
       "      <th>1834</th>\n",
       "      <td>NaN</td>\n",
       "      <td>NaN</td>\n",
       "      <td>NaN</td>\n",
       "      <td>NaN</td>\n",
       "      <td>NaN</td>\n",
       "      <td>NaN</td>\n",
       "      <td>NaN</td>\n",
       "    </tr>\n",
       "  </tbody>\n",
       "</table>\n",
       "<p>1835 rows × 7 columns</p>\n",
       "</div>"
      ],
      "text/plain": [
       "          No   CEFR Descriptor Scheme (updated) Mode of\\ncommunication  \\\n",
       "0        1.0  Communicative language activities              Reception   \n",
       "1        2.0  Communicative language activities              Reception   \n",
       "2        3.0  Communicative language activities              Reception   \n",
       "3        4.0  Communicative language activities              Reception   \n",
       "4        5.0  Communicative language activities              Reception   \n",
       "...      ...                                ...                    ...   \n",
       "1830  1831.0                Signing competences                    NaN   \n",
       "1831  1832.0                Signing competences                    NaN   \n",
       "1832     NaN                                NaN                    NaN   \n",
       "1833     NaN                                NaN                    NaN   \n",
       "1834     NaN                                NaN                    NaN   \n",
       "\n",
       "     Activity, strategy or competence                       Scale Level  \\\n",
       "0                  Oral comprehension  Overall oral comprehension    C2   \n",
       "1                  Oral comprehension  Overall oral comprehension    C1   \n",
       "2                  Oral comprehension  Overall oral comprehension    C1   \n",
       "3                  Oral comprehension  Overall oral comprehension    C1   \n",
       "4                  Oral comprehension  Overall oral comprehension   B2+   \n",
       "...                               ...                         ...   ...   \n",
       "1830             Pragmatic competence             Signing fluency    A2   \n",
       "1831             Pragmatic competence             Signing fluency    A1   \n",
       "1832                              NaN                         NaN   NaN   \n",
       "1833                              NaN                         NaN   NaN   \n",
       "1834                              NaN                         NaN   NaN   \n",
       "\n",
       "                                             Descriptor  \n",
       "0     Can understand with ease virtually any kind of...  \n",
       "1     Can understand enough to follow extended disco...  \n",
       "2     Can recognise a wide range of idiomatic expres...  \n",
       "3     Can follow extended discourse even when it is ...  \n",
       "4     Can understand standard language or a familiar...  \n",
       "...                                                 ...  \n",
       "1830  Can indicate the end of a sentence clearly by ...  \n",
       "1831                           No descriptors available  \n",
       "1832                                                NaN  \n",
       "1833                                                NaN  \n",
       "1834                                                NaN  \n",
       "\n",
       "[1835 rows x 7 columns]"
      ]
     },
     "execution_count": 81,
     "metadata": {},
     "output_type": "execute_result"
    }
   ],
   "source": [
    "rubric"
   ]
  },
  {
   "cell_type": "code",
   "execution_count": 70,
   "id": "d69e95de",
   "metadata": {},
   "outputs": [],
   "source": [
    "rubric.columns\n",
    "rubric['Activity, strategy or competence'].unique()\n",
    "wrubric = rubric.loc[(rubric['Activity, strategy or competence'] == 'Written production')\n",
    "          | (rubric['Activity, strategy or competence'] == 'Written interaction')]"
   ]
  },
  {
   "cell_type": "code",
   "execution_count": 71,
   "id": "99b06d59",
   "metadata": {},
   "outputs": [],
   "source": [
    "wrubric = wrubric[wrubric['Level'] != 'Pre-A1']"
   ]
  },
  {
   "cell_type": "code",
   "execution_count": 74,
   "id": "61add120",
   "metadata": {},
   "outputs": [],
   "source": [
    "wrubric.loc[wrubric['Level'] == 'A2+'] = 'B1'\n",
    "wrubric.loc[wrubric['Level'] == 'B1+'] = 'B2'\n",
    "wrubric.loc[wrubric['Level'] == 'B2+'] = 'C1'"
   ]
  },
  {
   "cell_type": "code",
   "execution_count": 75,
   "id": "5f859b39",
   "metadata": {},
   "outputs": [],
   "source": [
    "wrubric = wrubric.groupby('Level')['Descriptor'].apply(lambda x: '; '.join(x)).reset_index()"
   ]
  },
  {
   "cell_type": "code",
   "execution_count": 76,
   "id": "ce6f7231",
   "metadata": {},
   "outputs": [],
   "source": [
    "rub = {}\n",
    "for idx, row in wrubric.iterrows():\n",
    "    rub[row['Level']] = row['Descriptor']"
   ]
  },
  {
   "cell_type": "code",
   "execution_count": 78,
   "id": "fbdcb3d1",
   "metadata": {},
   "outputs": [],
   "source": [
    "preamble = f\"\"\"You are an agent designed to provide feedback on writing samples according to the provided rubric. You will first \n",
    "            receive the rubric, then you will receive the writing sample and what classification it falls under. You will use\n",
    "            this information to explain why the writing sample falls under that classification based on the rubric. \n",
    "\n",
    "            The following rubric is given in the format of Classification level: Description, Classification level: Description, ...\n",
    "            Here is the rubric:\n",
    "\n",
    "            {str(rub)}\n",
    "\n",
    "            \"\"\""
   ]
  },
  {
   "cell_type": "code",
   "execution_count": 80,
   "id": "b6b86182",
   "metadata": {},
   "outputs": [
    {
     "name": "stdout",
     "output_type": "stream",
     "text": [
      "text='This piece of text is classified as A1 because it demonstrates the writer\\'s ability to convey personal information and describe daily routines using simple phrases and sentences. Here are the specific reasons:\\n\\n- **Simple phrases and sentences**: The text is written using short and basic phrases such as \"I put on my shoes\" and \"I go to my car.\" These are simple sentences that convey a single idea or action, which is characteristic of the A1 level.\\n- **Personal information and daily routine**: The writer is describing their morning routine and daily activities, which fall under the category of personal information. They are sharing what they do when they wake up, where they go, and their means of transportation. This type of content is typical of the A1 level, where individuals can talk about their daily routines and personal habits.\\n- **Limited vocabulary and basic grammar**: The text uses a limited vocabulary with mostly simple words like \"nice,\" \"car,\" and \"work.\" The grammar is also basic, with primarily present tense verbs and simple sentence structures. This simplicity in vocabulary and grammar is indicative of the A1 level.\\n- **No complex connectors**: The text does not use complex connectors like \"because,\" \"although,\" or \"despite,\" which are characteristic of higher levels. Instead, the sentences are mostly independent and lack complex connections between ideas.\\n- **Lack of detail and elaboration**: While the writer describes their morning routine, they do not provide many details or elaborate on their experiences. Higher levels (e.g., B1 and above) would typically include more specific information, descriptions, and explanations.\\n\\nThis text is not classified higher (e.g., A2 or B1) because it lacks the complexity and variety expected at those levels. Here are the reasons why it is not classified higher:\\n\\n- **Lack of connectors and sentence variety**: At the A2 level and above, writers are expected to use connectors like \"and,\" \"but,\" and \"because\" to link sentences and show relationships between ideas. In this text, the sentences are mostly independent and lack these connectors.\\n- **Limited descriptive language**: Higher levels require a more diverse vocabulary and descriptive language to convey experiences and impressions. This text does not include many adjectives or descriptive phrases to give a more detailed picture of the writer\\'s morning routine.\\n- **No expression of opinions or impressions**: Levels A2 and above involve expressing personal opinions, impressions, and feelings about topics of interest. This text does not include any expressions of the writer\\'s thoughts or emotions about their daily routine.\\n\\nSimilarly, this text is not classified lower (e.g., pre-A1) because it demonstrates a basic understanding of sentence structure and personal information sharing. Here are the reasons why it is not classified lower:\\n\\n- **Simple sentence structure**: The text does show an understanding of basic sentence structure, with subjects, verbs, and objects in most sentences. This is more advanced than the pre-A1 level, where individuals may still be learning how to form basic sentences.\\n- **Personal information sharing**: The writer is able to convey personal information, such as their morning routine and daily activities. This level of personal information sharing is not typically seen at the pre-A1 level.\\n\\nIn summary, this piece of text is classified as A1 because it demonstrates the writer\\'s ability to convey personal information and describe daily routines using simple phrases and sentences, with limited vocabulary and basic grammar. It lacks the complexity and variety expected at higher levels but shows a more advanced understanding than the pre-A1 level.' generation_id='fd939e56-0c2d-4d37-8eab-b3cb4b0850e8' citations=None documents=None is_search_required=None search_queries=None search_results=None finish_reason='COMPLETE' tool_calls=None chat_history=[Message_User(message='Please explain to me why this piece of text When I wokes up in the ealry morning I put on my showes and go outside. It is a nice day out. I go to my car. I go to work. was classified as A1. Give me specific details why it is not classified higher or lower', tool_calls=None, role='USER'), Message_Chatbot(message='This piece of text is classified as A1 because it demonstrates the writer\\'s ability to convey personal information and describe daily routines using simple phrases and sentences. Here are the specific reasons:\\n\\n- **Simple phrases and sentences**: The text is written using short and basic phrases such as \"I put on my shoes\" and \"I go to my car.\" These are simple sentences that convey a single idea or action, which is characteristic of the A1 level.\\n- **Personal information and daily routine**: The writer is describing their morning routine and daily activities, which fall under the category of personal information. They are sharing what they do when they wake up, where they go, and their means of transportation. This type of content is typical of the A1 level, where individuals can talk about their daily routines and personal habits.\\n- **Limited vocabulary and basic grammar**: The text uses a limited vocabulary with mostly simple words like \"nice,\" \"car,\" and \"work.\" The grammar is also basic, with primarily present tense verbs and simple sentence structures. This simplicity in vocabulary and grammar is indicative of the A1 level.\\n- **No complex connectors**: The text does not use complex connectors like \"because,\" \"although,\" or \"despite,\" which are characteristic of higher levels. Instead, the sentences are mostly independent and lack complex connections between ideas.\\n- **Lack of detail and elaboration**: While the writer describes their morning routine, they do not provide many details or elaborate on their experiences. Higher levels (e.g., B1 and above) would typically include more specific information, descriptions, and explanations.\\n\\nThis text is not classified higher (e.g., A2 or B1) because it lacks the complexity and variety expected at those levels. Here are the reasons why it is not classified higher:\\n\\n- **Lack of connectors and sentence variety**: At the A2 level and above, writers are expected to use connectors like \"and,\" \"but,\" and \"because\" to link sentences and show relationships between ideas. In this text, the sentences are mostly independent and lack these connectors.\\n- **Limited descriptive language**: Higher levels require a more diverse vocabulary and descriptive language to convey experiences and impressions. This text does not include many adjectives or descriptive phrases to give a more detailed picture of the writer\\'s morning routine.\\n- **No expression of opinions or impressions**: Levels A2 and above involve expressing personal opinions, impressions, and feelings about topics of interest. This text does not include any expressions of the writer\\'s thoughts or emotions about their daily routine.\\n\\nSimilarly, this text is not classified lower (e.g., pre-A1) because it demonstrates a basic understanding of sentence structure and personal information sharing. Here are the reasons why it is not classified lower:\\n\\n- **Simple sentence structure**: The text does show an understanding of basic sentence structure, with subjects, verbs, and objects in most sentences. This is more advanced than the pre-A1 level, where individuals may still be learning how to form basic sentences.\\n- **Personal information sharing**: The writer is able to convey personal information, such as their morning routine and daily activities. This level of personal information sharing is not typically seen at the pre-A1 level.\\n\\nIn summary, this piece of text is classified as A1 because it demonstrates the writer\\'s ability to convey personal information and describe daily routines using simple phrases and sentences, with limited vocabulary and basic grammar. It lacks the complexity and variety expected at higher levels but shows a more advanced understanding than the pre-A1 level.', tool_calls=None, role='CHATBOT')] prompt=None meta=ApiMeta(api_version=ApiMetaApiVersion(version='1', is_deprecated=None, is_experimental=None), billed_units=ApiMetaBilledUnits(input_tokens=1920, output_tokens=729, search_units=None, classifications=None), tokens=ApiMetaTokens(input_tokens=1929, output_tokens=729), warnings=None) response_id='d8ff603f-aeda-4d88-8f6b-6a092f1cd9b9'\n"
     ]
    }
   ],
   "source": [
    "import cohere\n",
    "\n",
    "co = cohere.Client(\"LlM1W4742lSDOS9JdtL9VQp2yQKyBJXOzVOwoHZK\")\n",
    "\n",
    "text = \"When I wokes up in the ealry morning I put on my showes and go outside. It is a nice day out. I go to my car. I go to work.\"\n",
    "classification = 'A1'\n",
    "\n",
    "response = co.chat(message=f\"Please explain to me why this piece of text {text} was classified as {classification}. Give me specific details why it is not classified higher or lower.\", preamble=preamble)\n",
    "\n",
    "print(response)"
   ]
  },
  {
   "cell_type": "code",
   "execution_count": null,
   "id": "4070caed",
   "metadata": {},
   "outputs": [],
   "source": []
  },
  {
   "cell_type": "code",
   "execution_count": null,
   "id": "d0991c86",
   "metadata": {},
   "outputs": [],
   "source": []
  }
 ],
 "metadata": {
  "kernelspec": {
   "display_name": "Python 3 (ipykernel)",
   "language": "python",
   "name": "python3"
  },
  "language_info": {
   "codemirror_mode": {
    "name": "ipython",
    "version": 3
   },
   "file_extension": ".py",
   "mimetype": "text/x-python",
   "name": "python",
   "nbconvert_exporter": "python",
   "pygments_lexer": "ipython3",
   "version": "3.8.13"
  }
 },
 "nbformat": 4,
 "nbformat_minor": 5
}
