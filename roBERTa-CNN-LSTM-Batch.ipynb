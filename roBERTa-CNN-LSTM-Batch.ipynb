{
 "cells": [
  {
   "cell_type": "code",
   "execution_count": 1,
   "id": "e4557a86-c90d-4c18-bcee-668518f7a5cd",
   "metadata": {},
   "outputs": [],
   "source": [
    "from collections import Counter\n",
    "import numpy as np\n",
    "import pandas as pd\n",
    "import tensorflow as tf\n",
    "from tensorflow import keras\n",
    "\n",
    "# import seaborn as sns\n",
    "# import matplotlib.pyplot as plt\n",
    "from sklearn.model_selection import train_test_split\n",
    "from sklearn.metrics import classification_report"
   ]
  },
  {
   "cell_type": "code",
   "execution_count": 2,
   "id": "979e2805-4a21-4312-93d4-252e235ab4f2",
   "metadata": {},
   "outputs": [],
   "source": [
    "from transformers import RobertaTokenizer, TFRobertaModel"
   ]
  },
  {
   "cell_type": "code",
   "execution_count": 3,
   "id": "74559dba-93d5-4a3e-b7ee-597c7ffb4250",
   "metadata": {},
   "outputs": [],
   "source": [
    "seed = 7\n",
    "np.random.seed(seed)\n",
    "tf.random.set_seed(seed)"
   ]
  },
  {
   "cell_type": "code",
   "execution_count": 4,
   "id": "51ea467b-8534-401f-9157-86b909b597ff",
   "metadata": {},
   "outputs": [],
   "source": [
    "df = pd.read_csv(\"..//efcamdat_sub.csv\")"
   ]
  },
  {
   "cell_type": "code",
   "execution_count": 5,
   "id": "a7817741-25c5-4a8c-a051-a6c175e09c51",
   "metadata": {},
   "outputs": [
    {
     "data": {
      "text/plain": [
       "cefr_numeric\n",
       "3    100000\n",
       "2    100000\n",
       "1    100000\n",
       "4     61329\n",
       "5     14698\n",
       "6      1940\n",
       "Name: count, dtype: int64"
      ]
     },
     "execution_count": 5,
     "metadata": {},
     "output_type": "execute_result"
    }
   ],
   "source": [
    "df['cefr_numeric'].value_counts()"
   ]
  },
  {
   "cell_type": "code",
   "execution_count": 6,
   "id": "a883b1f5-0f69-43bf-911b-4d401c59a305",
   "metadata": {},
   "outputs": [
    {
     "data": {
      "text/plain": [
       "Index(['id', 'level', 'unit', 'learner_id', 'learner_nationality', 'grade',\n",
       "       'date', 'topic_id', 'text', 'cefr_numeric', 'cefr_grouped'],\n",
       "      dtype='object')"
      ]
     },
     "execution_count": 6,
     "metadata": {},
     "output_type": "execute_result"
    }
   ],
   "source": [
    "df.columns"
   ]
  },
  {
   "cell_type": "code",
   "execution_count": 7,
   "id": "2b16fb5c-735f-47f5-ab26-1513bbad7e2c",
   "metadata": {},
   "outputs": [
    {
     "data": {
      "text/plain": [
       "377967"
      ]
     },
     "execution_count": 7,
     "metadata": {},
     "output_type": "execute_result"
    }
   ],
   "source": [
    "df.shape[0]"
   ]
  },
  {
   "cell_type": "code",
   "execution_count": 8,
   "id": "5cf8d7dd-1120-4f9f-83b8-c0dd45f2dc0c",
   "metadata": {},
   "outputs": [],
   "source": [
    "df['labels'] = df['cefr_numeric'].apply(lambda x: x-1)"
   ]
  },
  {
   "cell_type": "code",
   "execution_count": 9,
   "id": "dd3a4720-b6ed-416f-b1e3-8db7ca575319",
   "metadata": {},
   "outputs": [],
   "source": [
    "text = df['text']\n",
    "labels = df['labels']"
   ]
  },
  {
   "cell_type": "code",
   "execution_count": 10,
   "id": "274ff640-8ae6-4036-9ca7-30f498abbade",
   "metadata": {},
   "outputs": [],
   "source": [
    "(train_texts, test_texts, train_labels, test_labels) = train_test_split(text, labels, test_size=.1, shuffle=True)"
   ]
  },
  {
   "cell_type": "code",
   "execution_count": 11,
   "id": "e6cc4414-819c-415f-9e49-746cb6ae7e43",
   "metadata": {},
   "outputs": [
    {
     "data": {
      "text/plain": [
       "37797"
      ]
     },
     "execution_count": 11,
     "metadata": {},
     "output_type": "execute_result"
    }
   ],
   "source": [
    "len(test_texts)"
   ]
  },
  {
   "cell_type": "code",
   "execution_count": 12,
   "id": "c9fa987a-b103-49c3-9de1-6485da4bad80",
   "metadata": {},
   "outputs": [
    {
     "data": {
      "text/plain": [
       "340170"
      ]
     },
     "execution_count": 12,
     "metadata": {},
     "output_type": "execute_result"
    }
   ],
   "source": [
    "len(train_texts)"
   ]
  },
  {
   "cell_type": "code",
   "execution_count": 13,
   "id": "3063d277-9b9e-4ee1-a9f4-49fbde6c2fab",
   "metadata": {},
   "outputs": [],
   "source": [
    "# valid_texts_s = train_texts.iloc[:1000]\n",
    "# valid_labels_s = train_labels.iloc[:1000]\n",
    "# train_texts_s = train_texts.iloc[1000:20000]\n",
    "# train_labels_s = train_labels.iloc[1000:20000]\n",
    "# test_texts_s = test_texts.iloc[:1000]\n",
    "# test_labels_s = test_labels.iloc[:1000]\n",
    "\n",
    "valid_texts = train_texts.iloc[:40607].copy()\n",
    "valid_labels = train_labels.iloc[:40607].copy()\n",
    "train_texts = train_texts.iloc[40607:]\n",
    "train_labels = train_labels.iloc[40607:]"
   ]
  },
  {
   "cell_type": "code",
   "execution_count": 14,
   "id": "2dd3528c-9dd5-484f-9dea-8bddbdc7376c",
   "metadata": {},
   "outputs": [],
   "source": [
    "(pd.DataFrame(data={'text': train_texts, 'labels': train_labels})).to_csv('..//efcamdat_train_data.csv')"
   ]
  },
  {
   "cell_type": "code",
   "execution_count": 15,
   "id": "fd866f8f-e5a1-42c4-9de7-e96c6a4181c3",
   "metadata": {},
   "outputs": [],
   "source": [
    "max_length = 150"
   ]
  },
  {
   "cell_type": "code",
   "execution_count": 16,
   "id": "fd2c521a-af41-4376-a7b4-a88819341b52",
   "metadata": {},
   "outputs": [
    {
     "name": "stderr",
     "output_type": "stream",
     "text": [
      "Some weights of the PyTorch model were not used when initializing the TF 2.0 model TFRobertaModel: ['roberta.embeddings.position_ids', 'lm_head.layer_norm.bias', 'lm_head.dense.weight', 'lm_head.layer_norm.weight', 'lm_head.bias', 'lm_head.dense.bias']\n",
      "- This IS expected if you are initializing TFRobertaModel from a PyTorch model trained on another task or with another architecture (e.g. initializing a TFBertForSequenceClassification model from a BertForPreTraining model).\n",
      "- This IS NOT expected if you are initializing TFRobertaModel from a PyTorch model that you expect to be exactly identical (e.g. initializing a TFBertForSequenceClassification model from a BertForSequenceClassification model).\n",
      "Some weights or buffers of the TF 2.0 model TFRobertaModel were not initialized from the PyTorch model and are newly initialized: ['roberta.pooler.dense.weight', 'roberta.pooler.dense.bias']\n",
      "You should probably TRAIN this model on a down-stream task to be able to use it for predictions and inference.\n"
     ]
    }
   ],
   "source": [
    "rtokenizer = RobertaTokenizer.from_pretrained('roberta-base')\n",
    "roberta_model = TFRobertaModel.from_pretrained('roberta-base')"
   ]
  },
  {
   "cell_type": "code",
   "execution_count": 17,
   "id": "9f19a1f6-0cde-4874-acf5-246078305560",
   "metadata": {},
   "outputs": [],
   "source": [
    "class SNLIDataGeneratorFromFile(tf.keras.utils.Sequence):\n",
    "\n",
    "    def __init__(self,\n",
    "                 tokenizer,\n",
    "                 n_examples,\n",
    "                 data_filename,\n",
    "                 max_length=100,\n",
    "                 batch_size=128,\n",
    "                 shuffle=True):\n",
    "\n",
    "        self.tokenizer = tokenizer\n",
    "        self.n_examples = n_examples\n",
    "        self.data_filename = data_filename\n",
    "        self.max_length = max_length\n",
    "        self.batch_size = batch_size\n",
    "        self.shuffle = shuffle\n",
    "\n",
    "        # Initialize row order, call on_epoch_end to shuffle row indices\n",
    "        self.row_order = np.arange(1, self.n_examples+1)\n",
    "        self.on_epoch_end()\n",
    "\n",
    "    def __len__(self):\n",
    "        # Return the number of batches in the full dataset\n",
    "        return self.n_examples // self.batch_size\n",
    "\n",
    "    def __getitem__(self, idx):\n",
    "        batch_start = idx * self.batch_size\n",
    "        batch_end = (idx + 1) * self.batch_size\n",
    "\n",
    "        # Indices to skip are the ones in the shuffled row_order before and\n",
    "        # after the chunk we'll use for this batch\n",
    "        batch_idx_skip = self.row_order[:batch_start] + self.row_order[batch_end:]\n",
    "        df = pd.read_csv(self.data_filename, skiprows=batch_idx_skip)\n",
    "\n",
    "        texts = df['text'].values.astype(str).tolist()\n",
    "        labels = df['labels'].values\n",
    "\n",
    "        tokens = rtokenizer(list(texts), truncation=True, padding=True, max_length=max_length, return_tensors='tf')\n",
    "\n",
    "        input_ids = np.array(tokens[\"input_ids\"], dtype=\"int32\")\n",
    "        attention_masks = np.array(tokens[\"attention_mask\"], dtype=\"int32\")\n",
    "    \n",
    "        return [input_ids, attention_masks], labels\n",
    "\n",
    "    def on_epoch_end(self):\n",
    "        if self.shuffle:\n",
    "            self.row_order = list(np.random.permutation(self.row_order))"
   ]
  },
  {
   "cell_type": "code",
   "execution_count": 18,
   "id": "a4b03060-abd3-4c4b-928d-1b340e8251b0",
   "metadata": {},
   "outputs": [],
   "source": [
    "#train_encodings = rtokenizer(list(train_texts), truncation=True, padding=True, max_length=max_length, return_tensors='tf')\n",
    "train_data_generator = SNLIDataGeneratorFromFile(\n",
    "    tokenizer=rtokenizer,\n",
    "    n_examples=len(train_texts),\n",
    "    data_filename='..//efcamdat_train_data.csv'\n",
    ")\n",
    "\n",
    "valid_encodings = rtokenizer(list(valid_texts), truncation=True, padding=True, max_length=max_length, return_tensors='tf')"
   ]
  },
  {
   "cell_type": "code",
   "execution_count": 19,
   "id": "a369d6b2-fd83-44ba-97e1-307c2c2cb90b",
   "metadata": {},
   "outputs": [],
   "source": [
    "def create_roberta_cl_model(model,\n",
    "                         num_classes = 6,\n",
    "                         dropout=0.3,\n",
    "                         learning_rate=0.0001):\n",
    "    \"\"\"\n",
    "    \"\"\"\n",
    "    model.trainable = False\n",
    "\n",
    "    #tf.keras.mixed_precision.set_global_policy('mixed_float16')\n",
    "\n",
    "    input_ids = tf.keras.layers.Input(shape=(None,), dtype=tf.int64, name='input_ids_layer')\n",
    "    #token_type_ids = tf.keras.layers.Input(shape=(300,), dtype=tf.int32, name='token_type_ids_layer')\n",
    "    attention_mask = tf.keras.layers.Input(shape=(None,), dtype=tf.int64, name='attention_mask_layer')\n",
    "\n",
    "    model_inputs = [input_ids, attention_mask]\n",
    "    model_out = model(input_ids=input_ids, attention_mask=attention_mask)\n",
    "\n",
    "    model_out = model_out.last_hidden_state\n",
    "\n",
    "    conv = tf.keras.layers.Conv1D(filters=256, kernel_size=3, activation='relu')(model_out)\n",
    "    conv = tf.keras.layers.MaxPooling1D(pool_size=2)(conv)\n",
    "    conv = tf.keras.layers.Dropout(dropout)(conv)\n",
    "    lstm = tf.keras.layers.LSTM(units=256, return_sequences=False, return_state=False)(conv)\n",
    "    lstm = tf.keras.layers.Dropout(dropout)(lstm)\n",
    "    # dense = tf.keras.layers.Dense(256, activation='relu')(lstm)\n",
    "\n",
    "    classification = tf.keras.layers.Dense(num_classes, activation='softmax',name='classification_layer')(lstm)\n",
    "\n",
    "    classification_model = tf.keras.Model(inputs=[input_ids, attention_mask], outputs=[classification])\n",
    "\n",
    "    optimizer = tf.keras.optimizers.Adam(learning_rate=learning_rate, clipnorm=0.1)\n",
    "    optimizer = tf.keras.mixed_precision.LossScaleOptimizer(optimizer)\n",
    "\n",
    "    classification_model.compile(optimizer=optimizer,\n",
    "                                 loss=tf.keras.losses.SparseCategoricalCrossentropy(from_logits=False),\n",
    "                                 metrics='accuracy')\n",
    "\n",
    "    return classification_model"
   ]
  },
  {
   "cell_type": "code",
   "execution_count": 20,
   "id": "61422bad-7c5d-45d4-8f23-9f7615e96d67",
   "metadata": {},
   "outputs": [],
   "source": [
    "def create_roberta_gru_model(model,\n",
    "                         num_classes = 6,\n",
    "                         dropout=0.3,\n",
    "                         learning_rate=0.0001):\n",
    "    \"\"\"\n",
    "    \"\"\"\n",
    "    model.trainable = False\n",
    "\n",
    "    tf.keras.mixed_precision.set_global_policy('mixed_float16')\n",
    "\n",
    "    input_ids = tf.keras.layers.Input(shape=(None,), dtype=tf.int64, name='input_ids_layer')\n",
    "    #token_type_ids = tf.keras.layers.Input(shape=(300,), dtype=tf.int32, name='token_type_ids_layer')\n",
    "    attention_mask = tf.keras.layers.Input(shape=(None,), dtype=tf.int64, name='attention_mask_layer')\n",
    "\n",
    "    model_inputs = [input_ids, attention_mask]\n",
    "    model_out = model(input_ids=input_ids, attention_mask=attention_mask)\n",
    "\n",
    "    model_out = model_out.last_hidden_state\n",
    "\n",
    "    conv = tf.keras.layers.Conv1D(filters=256, kernel_size=3, activation='relu')(model_out)\n",
    "    conv = tf.keras.layers.MaxPooling1D(pool_size=2)(conv)\n",
    "    conv = tf.keras.layers.Dropout(dropout)(conv)\n",
    "    gru = tf.keras.layers.GRU(256)(conv)\n",
    "\n",
    "    classification = tf.keras.layers.Dense(num_classes, activation='softmax',name='classification_layer')(gru)\n",
    "\n",
    "    classification_model = tf.keras.Model(inputs=[input_ids, attention_mask], outputs=[classification])\n",
    "\n",
    "    optimizer = tf.keras.optimizers.Adam(learning_rate=learning_rate, clipnorm=0.1)\n",
    "    optimizer = tf.keras.mixed_precision.LossScaleOptimizer(optimizer)\n",
    "\n",
    "    classification_model.compile(optimizer=optimizer,\n",
    "                                 loss=tf.keras.losses.SparseCategoricalCrossentropy(from_logits=False),\n",
    "                                 metrics='accuracy')\n",
    "\n",
    "    return classification_model"
   ]
  },
  {
   "cell_type": "code",
   "execution_count": 21,
   "id": "4e42a2cd-d654-4849-a6b0-8657583297f0",
   "metadata": {},
   "outputs": [],
   "source": [
    "roberta_cl_model = create_roberta_cl_model(model=roberta_model, num_classes=6)"
   ]
  },
  {
   "cell_type": "code",
   "execution_count": 22,
   "id": "5b37af6e-7f9d-4116-b1df-31b180c14af9",
   "metadata": {
    "scrolled": true
   },
   "outputs": [
    {
     "name": "stdout",
     "output_type": "stream",
     "text": [
      "Model: \"model\"\n",
      "__________________________________________________________________________________________________\n",
      " Layer (type)                   Output Shape         Param #     Connected to                     \n",
      "==================================================================================================\n",
      " input_ids_layer (InputLayer)   [(None, None)]       0           []                               \n",
      "                                                                                                  \n",
      " attention_mask_layer (InputLay  [(None, None)]      0           []                               \n",
      " er)                                                                                              \n",
      "                                                                                                  \n",
      " tf_roberta_model (TFRobertaMod  TFBaseModelOutputWi  124645632  ['input_ids_layer[0][0]',        \n",
      " el)                            thPoolingAndCrossAt               'attention_mask_layer[0][0]']   \n",
      "                                tentions(last_hidde                                               \n",
      "                                n_state=(None, None                                               \n",
      "                                , 768),                                                           \n",
      "                                 pooler_output=(Non                                               \n",
      "                                e, 768),                                                          \n",
      "                                 past_key_values=No                                               \n",
      "                                ne, hidden_states=N                                               \n",
      "                                one, attentions=Non                                               \n",
      "                                e, cross_attentions                                               \n",
      "                                =None)                                                            \n",
      "                                                                                                  \n",
      " conv1d (Conv1D)                (None, None, 256)    590080      ['tf_roberta_model[0][0]']       \n",
      "                                                                                                  \n",
      " max_pooling1d (MaxPooling1D)   (None, None, 256)    0           ['conv1d[0][0]']                 \n",
      "                                                                                                  \n",
      " dropout_37 (Dropout)           (None, None, 256)    0           ['max_pooling1d[0][0]']          \n",
      "                                                                                                  \n",
      " lstm (LSTM)                    (None, 256)          525312      ['dropout_37[0][0]']             \n",
      "                                                                                                  \n",
      " dropout_38 (Dropout)           (None, 256)          0           ['lstm[0][0]']                   \n",
      "                                                                                                  \n",
      " classification_layer (Dense)   (None, 6)            1542        ['dropout_38[0][0]']             \n",
      "                                                                                                  \n",
      "==================================================================================================\n",
      "Total params: 125,762,566\n",
      "Trainable params: 1,116,934\n",
      "Non-trainable params: 124,645,632\n",
      "__________________________________________________________________________________________________\n"
     ]
    }
   ],
   "source": [
    "roberta_cl_model.summary()"
   ]
  },
  {
   "cell_type": "code",
   "execution_count": 23,
   "id": "5955c16a-2322-4c21-9cb4-0d1b3cdb0289",
   "metadata": {},
   "outputs": [],
   "source": [
    "# dataset = tf.data.Dataset.from_tensor_slices(({\"input_ids_layer\": train_encodings.input_ids, \"attention_mask_layer\": train_encodings.attention_mask}, train_labels))\n",
    "# dataset = dataset.batch(32).prefetch(tf.data.experimental.AUTOTUNE)\n",
    "\n",
    "vdataset = tf.data.Dataset.from_tensor_slices(({\"input_ids_layer\": valid_encodings.input_ids, \"attention_mask_layer\": valid_encodings.attention_mask}, valid_labels))\n",
    "vdataset = vdataset.batch(32).prefetch(tf.data.experimental.AUTOTUNE)"
   ]
  },
  {
   "cell_type": "code",
   "execution_count": 24,
   "id": "382b356f-373c-483c-aaac-073c4db8582e",
   "metadata": {},
   "outputs": [
    {
     "data": {
      "text/plain": [
       "26526"
      ]
     },
     "execution_count": 24,
     "metadata": {},
     "output_type": "execute_result"
    }
   ],
   "source": [
    "import gc\n",
    "from tensorflow.keras.backend import clear_session\n",
    "\n",
    "# Clear session and free memory before starting the training\n",
    "clear_session()\n",
    "gc.collect()"
   ]
  },
  {
   "cell_type": "code",
   "execution_count": 25,
   "id": "bc518f0d-2fa7-42ed-bd21-e6767f3fedf6",
   "metadata": {},
   "outputs": [
    {
     "name": "stdout",
     "output_type": "stream",
     "text": [
      "Epoch 1/3\n",
      "2340/2340 [==============================] - 1646s 694ms/step - loss: 0.4316 - accuracy: 0.8490 - val_loss: 0.2722 - val_accuracy: 0.9074\n",
      "Epoch 2/3\n",
      "2340/2340 [==============================] - 1929s 824ms/step - loss: 0.2248 - accuracy: 0.9252 - val_loss: 0.2097 - val_accuracy: 0.9325\n",
      "Epoch 3/3\n",
      "2340/2340 [==============================] - 1973s 843ms/step - loss: 0.1686 - accuracy: 0.9441 - val_loss: 0.1380 - val_accuracy: 0.9542\n"
     ]
    }
   ],
   "source": [
    "# test_model_history = test_model2.fit([train_encodings.input_ids, train_encodings.attention_mask],\n",
    "#                                       train_labels,\n",
    "#                                       validation_data=([valid_encodings.input_ids, valid_encodings.attention_mask],\n",
    "#                                       valid_labels),\n",
    "#                                       batch_size=32,\n",
    "#                                       epochs=3)\n",
    "\n",
    "roberta_cl_model_history = roberta_cl_model.fit(train_data_generator,\n",
    "                                      validation_data=vdataset,\n",
    "                                      epochs=3)"
   ]
  },
  {
   "cell_type": "code",
   "execution_count": 26,
   "id": "4f96fdb7-938a-4fd8-815e-aa5d4f8f5a4c",
   "metadata": {},
   "outputs": [],
   "source": [
    "test_encodings = rtokenizer(list(test_texts), truncation=True, padding=True, max_length=max_length, return_tensors='tf')"
   ]
  },
  {
   "cell_type": "code",
   "execution_count": 27,
   "id": "16260625-addc-4016-9bb4-17cc8f7ece7a",
   "metadata": {},
   "outputs": [],
   "source": [
    "tdataset = tf.data.Dataset.from_tensor_slices(({\"input_ids_layer\": test_encodings.input_ids, \"attention_mask_layer\": test_encodings.attention_mask}, test_labels))\n",
    "tdataset = tdataset.batch(32).prefetch(tf.data.experimental.AUTOTUNE)"
   ]
  },
  {
   "cell_type": "code",
   "execution_count": 28,
   "id": "d7cc0ae0-54c4-4252-86d5-e4531a4da4c7",
   "metadata": {},
   "outputs": [
    {
     "name": "stdout",
     "output_type": "stream",
     "text": [
      "1182/1182 [==============================] - 163s 138ms/step - loss: 0.1357 - accuracy: 0.9553\n"
     ]
    },
    {
     "data": {
      "text/plain": [
       "[0.13572627305984497, 0.9552874565124512]"
      ]
     },
     "execution_count": 28,
     "metadata": {},
     "output_type": "execute_result"
    }
   ],
   "source": [
    "roberta_cl_model.evaluate(tdataset)"
   ]
  },
  {
   "cell_type": "code",
   "execution_count": 29,
   "id": "a08ec5d5-6349-42ab-8fb6-9bb04f94d048",
   "metadata": {},
   "outputs": [
    {
     "name": "stdout",
     "output_type": "stream",
     "text": [
      "1182/1182 [==============================] - 165s 137ms/step\n"
     ]
    }
   ],
   "source": [
    "preds = roberta_cl_model.predict(tdataset)"
   ]
  },
  {
   "cell_type": "code",
   "execution_count": 30,
   "id": "8e15bf50-6a50-4f09-ba41-ec13cf21b203",
   "metadata": {},
   "outputs": [],
   "source": [
    "preds = tf.argmax(preds, axis=-1)"
   ]
  },
  {
   "cell_type": "code",
   "execution_count": 31,
   "id": "922ac461-b60d-4c24-b8ff-0cd848e1a9e6",
   "metadata": {},
   "outputs": [
    {
     "name": "stdout",
     "output_type": "stream",
     "text": [
      "              precision    recall  f1-score   support\n",
      "\n",
      "           0       0.97      0.98      0.97     10103\n",
      "           1       0.97      0.96      0.96      9890\n",
      "           2       0.96      0.96      0.96      9972\n",
      "           3       0.92      0.95      0.94      6204\n",
      "           4       0.90      0.80      0.85      1446\n",
      "           5       0.89      0.55      0.68       182\n",
      "\n",
      "    accuracy                           0.96     37797\n",
      "   macro avg       0.94      0.87      0.89     37797\n",
      "weighted avg       0.96      0.96      0.95     37797\n",
      "\n"
     ]
    }
   ],
   "source": [
    "print(classification_report(test_labels, preds.numpy()))"
   ]
  },
  {
   "cell_type": "code",
   "execution_count": 32,
   "id": "4f4c31d8-7ce6-4364-86b8-e151c9ab3427",
   "metadata": {},
   "outputs": [],
   "source": [
    "cm = tf.math.confusion_matrix(test_labels, preds)\n",
    "cm = cm/cm.numpy().sum(axis=1)[:, tf.newaxis]"
   ]
  },
  {
   "cell_type": "code",
   "execution_count": 33,
   "id": "2e38c3bf-b50b-4506-bdf6-827a2f08fd4d",
   "metadata": {},
   "outputs": [
    {
     "data": {
      "text/plain": [
       "<tf.Tensor: shape=(6, 6), dtype=float64, numpy=\n",
       "array([[9.81688607e-01, 1.20756211e-02, 2.77145402e-03, 2.37553202e-03,\n",
       "        1.08878551e-03, 0.00000000e+00],\n",
       "       [1.78968655e-02, 9.58240647e-01, 1.57735086e-02, 6.67340748e-03,\n",
       "        1.41557128e-03, 0.00000000e+00],\n",
       "       [5.51544324e-03, 9.62695548e-03, 9.55475331e-01, 2.46690734e-02,\n",
       "        4.51263538e-03, 2.00561572e-04],\n",
       "       [6.76982592e-03, 8.38168923e-03, 2.33720181e-02, 9.54867827e-01,\n",
       "        6.12508059e-03, 4.83558994e-04],\n",
       "       [3.18118949e-02, 1.38312586e-02, 4.35684647e-02, 1.04426003e-01,\n",
       "        8.01521438e-01, 4.84094053e-03],\n",
       "       [2.19780220e-02, 2.19780220e-02, 4.94505495e-02, 2.63736264e-01,\n",
       "        8.79120879e-02, 5.54945055e-01]])>"
      ]
     },
     "execution_count": 33,
     "metadata": {},
     "output_type": "execute_result"
    }
   ],
   "source": [
    "cm"
   ]
  },
  {
   "cell_type": "code",
   "execution_count": 34,
   "id": "ef6bedc6-c828-487b-ae97-8475f16f9d7a",
   "metadata": {},
   "outputs": [
    {
     "data": {
      "text/plain": [
       "Text(220.72222222222223, 0.5, 'True')"
      ]
     },
     "execution_count": 34,
     "metadata": {},
     "output_type": "execute_result"
    },
    {
     "data": {
      "image/png": "[encoded data removed]",
      "text/plain": [
       "<Figure size 2000x700 with 2 Axes>"
      ]
     },
     "metadata": {},
     "output_type": "display_data"
    }
   ],
   "source": [
    "import matplotlib.pyplot as plt\n",
    "import seaborn as sns\n",
    "\n",
    "plt.figure(figsize=(20,7))\n",
    "sns.heatmap(\n",
    "    cm, annot=True)\n",
    "plt.xlabel(\"Predicted\")\n",
    "plt.ylabel(\"True\")"
   ]
  },
  {
   "cell_type": "code",
   "execution_count": 35,
   "id": "4ad4fb82-3e26-4118-91e2-71adec9f143c",
   "metadata": {},
   "outputs": [
    {
     "name": "stdout",
     "output_type": "stream",
     "text": [
      "The % of A1s is:  0.2645733622247445\n",
      "The % of A2s is:  0.2645733622247445\n",
      "The % of B1s is:  0.2645733622247445\n",
      "The % of B2s is:  0.16226019731881355\n",
      "The % of C1s is:  0.03888699277979295\n"
     ]
    }
   ],
   "source": [
    "print(\"The % of A1s is: \", df['cefr_numeric'].value_counts()[1] / len(df))\n",
    "print(\"The % of A2s is: \", df['cefr_numeric'].value_counts()[2] / len(df))\n",
    "print(\"The % of B1s is: \", df['cefr_numeric'].value_counts()[3] / len(df))\n",
    "print(\"The % of B2s is: \", df['cefr_numeric'].value_counts()[4] / len(df))\n",
    "print(\"The % of C1s is: \", df['cefr_numeric'].value_counts()[5] / len(df))"
   ]
  },
  {
   "cell_type": "code",
   "execution_count": 36,
   "id": "29e0d238-5be8-4d13-8eb8-f97e3680584d",
   "metadata": {},
   "outputs": [],
   "source": [
    "roberta_cl_model.save('roberta-cl.keras')"
   ]
  },
  {
   "cell_type": "markdown",
   "id": "32a9db87-58ea-46ff-9338-538900c38cd8",
   "metadata": {},
   "source": [
    "## GRU"
   ]
  },
  {
   "cell_type": "code",
   "execution_count": 37,
   "id": "be29a9fd-1285-49a3-baf0-0b8a03f3cd7c",
   "metadata": {},
   "outputs": [
    {
     "name": "stdout",
     "output_type": "stream",
     "text": [
      "INFO:tensorflow:Mixed precision compatibility check (mixed_float16): OK\n",
      "Your GPU will likely run quickly with dtype policy mixed_float16 as it has compute capability of at least 7.0. Your GPU: NVIDIA GeForce RTX 3060 Ti, compute capability 8.6\n"
     ]
    }
   ],
   "source": [
    "roberta_gru_model = create_roberta_gru_model(model=roberta_model, num_classes=6)"
   ]
  },
  {
   "cell_type": "code",
   "execution_count": 38,
   "id": "200d65f8-5e3f-41f4-9c1e-1645ef6242f7",
   "metadata": {},
   "outputs": [],
   "source": [
    "# dataset = tf.data.Dataset.from_tensor_slices(({\"input_ids_layer\": train_encodings.input_ids, \"attention_mask_layer\": train_encodings.attention_mask}, train_labels))\n",
    "# dataset = dataset.batch(32).prefetch(tf.data.experimental.AUTOTUNE)\n",
    "\n",
    "vdataset = tf.data.Dataset.from_tensor_slices(({\"input_ids_layer\": valid_encodings.input_ids, \"attention_mask_layer\": valid_encodings.attention_mask}, valid_labels))\n",
    "vdataset = vdataset.batch(32).prefetch(tf.data.experimental.AUTOTUNE)"
   ]
  },
  {
   "cell_type": "code",
   "execution_count": 39,
   "id": "1979c266-8b3d-4d34-a885-e230cf926420",
   "metadata": {},
   "outputs": [
    {
     "name": "stdout",
     "output_type": "stream",
     "text": [
      "2340/2340 [==============================] - 1772s 752ms/step - loss: 0.4738 - accuracy: 0.8280 - val_loss: 0.3176 - val_accuracy: 0.8947\n"
     ]
    }
   ],
   "source": [
    "roberta_gru_model_history = roberta_gru_model.fit(train_data_generator,\n",
    "                                      validation_data=vdataset,\n",
    "                                      epochs=1)"
   ]
  },
  {
   "cell_type": "code",
   "execution_count": 40,
   "id": "7a6afc4b-f2ee-461b-abc4-73f11d3c2b20",
   "metadata": {},
   "outputs": [],
   "source": [
    "test_encodings = rtokenizer(list(test_texts), truncation=True, padding=True, max_length=max_length, return_tensors='tf')"
   ]
  },
  {
   "cell_type": "code",
   "execution_count": 41,
   "id": "5348bb00-dcb7-44fc-bc6d-8dfb99237064",
   "metadata": {},
   "outputs": [],
   "source": [
    "tdataset = tf.data.Dataset.from_tensor_slices(({\"input_ids_layer\": test_encodings.input_ids, \"attention_mask_layer\": test_encodings.attention_mask}, test_labels))\n",
    "tdataset = tdataset.batch(32).prefetch(tf.data.experimental.AUTOTUNE)"
   ]
  },
  {
   "cell_type": "code",
   "execution_count": 42,
   "id": "bf43f788-a57f-4b0e-ad7b-38f3c221e2ee",
   "metadata": {},
   "outputs": [
    {
     "name": "stdout",
     "output_type": "stream",
     "text": [
      "1182/1182 [==============================] - 164s 137ms/step\n"
     ]
    }
   ],
   "source": [
    "preds = roberta_gru_model.predict(tdataset)"
   ]
  },
  {
   "cell_type": "code",
   "execution_count": 43,
   "id": "79e3628f-31ee-4066-ae35-c63ece4a9d71",
   "metadata": {},
   "outputs": [],
   "source": [
    "preds = tf.argmax(preds, axis=-1)"
   ]
  },
  {
   "cell_type": "code",
   "execution_count": 44,
   "id": "f80b36a2-0486-4e09-a50e-178300e949d3",
   "metadata": {},
   "outputs": [
    {
     "name": "stdout",
     "output_type": "stream",
     "text": [
      "              precision    recall  f1-score   support\n",
      "\n",
      "           0       0.95      0.96      0.95     10103\n",
      "           1       0.95      0.87      0.91      9890\n",
      "           2       0.81      0.97      0.89      9972\n",
      "           3       0.92      0.80      0.86      6204\n",
      "           4       0.76      0.68      0.72      1446\n",
      "           5       0.00      0.00      0.00       182\n",
      "\n",
      "    accuracy                           0.90     37797\n",
      "   macro avg       0.73      0.71      0.72     37797\n",
      "weighted avg       0.90      0.90      0.89     37797\n",
      "\n"
     ]
    },
    {
     "name": "stderr",
     "output_type": "stream",
     "text": [
      "C:\\Users\\Danny Skahill\\miniconda3\\envs\\tf2\\lib\\site-packages\\sklearn\\metrics\\_classification.py:1509: UndefinedMetricWarning: Precision is ill-defined and being set to 0.0 in labels with no predicted samples. Use `zero_division` parameter to control this behavior.\n",
      "  _warn_prf(average, modifier, f\"{metric.capitalize()} is\", len(result))\n",
      "C:\\Users\\Danny Skahill\\miniconda3\\envs\\tf2\\lib\\site-packages\\sklearn\\metrics\\_classification.py:1509: UndefinedMetricWarning: Precision is ill-defined and being set to 0.0 in labels with no predicted samples. Use `zero_division` parameter to control this behavior.\n",
      "  _warn_prf(average, modifier, f\"{metric.capitalize()} is\", len(result))\n",
      "C:\\Users\\Danny Skahill\\miniconda3\\envs\\tf2\\lib\\site-packages\\sklearn\\metrics\\_classification.py:1509: UndefinedMetricWarning: Precision is ill-defined and being set to 0.0 in labels with no predicted samples. Use `zero_division` parameter to control this behavior.\n",
      "  _warn_prf(average, modifier, f\"{metric.capitalize()} is\", len(result))\n"
     ]
    }
   ],
   "source": [
    "print(classification_report(test_labels, preds.numpy()))"
   ]
  },
  {
   "cell_type": "code",
   "execution_count": 45,
   "id": "6d6835bf-497e-45d5-a82b-6bf68ab6b62d",
   "metadata": {},
   "outputs": [],
   "source": [
    "cm = tf.math.confusion_matrix(test_labels, preds)\n",
    "cm = cm/cm.numpy().sum(axis=1)[:, tf.newaxis]"
   ]
  },
  {
   "cell_type": "code",
   "execution_count": 46,
   "id": "1cb813f2-4c3d-457a-a3a6-71cd009dacb4",
   "metadata": {},
   "outputs": [
    {
     "data": {
      "text/plain": [
       "Text(220.72222222222223, 0.5, 'True')"
      ]
     },
     "execution_count": 46,
     "metadata": {},
     "output_type": "execute_result"
    },
    {
     "data": {
      "image/png": "[encoded data removed]",
      "text/plain": [
       "<Figure size 2000x700 with 2 Axes>"
      ]
     },
     "metadata": {},
     "output_type": "display_data"
    }
   ],
   "source": [
    "import matplotlib.pyplot as plt\n",
    "import seaborn as sns\n",
    "\n",
    "plt.figure(figsize=(20,7))\n",
    "sns.heatmap(\n",
    "    cm, annot=True)\n",
    "plt.xlabel(\"Predicted\")\n",
    "plt.ylabel(\"True\")"
   ]
  },
  {
   "cell_type": "markdown",
   "id": "d3304008-7b5b-452d-b1cd-9c4526e79b9d",
   "metadata": {},
   "source": [
    "## 3->6 Class Model"
   ]
  },
  {
   "cell_type": "code",
   "execution_count": 47,
   "id": "a00833d0-8f27-4fae-957a-ada6db9d407e",
   "metadata": {},
   "outputs": [],
   "source": [
    "train_labels_group = train_labels.copy()\n",
    "train_labels_group[train_labels_group == 1] = 0\n",
    "train_labels_group[(train_labels_group == 2) | (train_labels_group == 3)] = 1\n",
    "train_labels_group[(train_labels_group == 4) | (train_labels_group == 5)] = 2\n",
    "\n",
    "valid_labels_group = valid_labels.copy()\n",
    "valid_labels_group[valid_labels_group == 1] = 0\n",
    "valid_labels_group[(valid_labels_group == 2) | (valid_labels_group == 3)] = 1\n",
    "valid_labels_group[(valid_labels_group == 4) | (valid_labels_group == 5)] = 2\n",
    "\n",
    "test_labels_group = test_labels.copy()\n",
    "test_labels_group[test_labels_group == 1] = 0\n",
    "test_labels_group[(test_labels_group == 2) | (test_labels_group == 3)] = 1\n",
    "test_labels_group[(test_labels_group == 4) | (test_labels_group == 5)] = 2"
   ]
  },
  {
   "cell_type": "code",
   "execution_count": 48,
   "id": "6e2e4796-79e9-4413-8076-b27d48c07d4c",
   "metadata": {},
   "outputs": [],
   "source": [
    "roberta_model_grouped = create_roberta_gru_model(model=roberta_model, num_classes=3)"
   ]
  },
  {
   "cell_type": "code",
   "execution_count": 49,
   "id": "2da674d2-0fb2-4ccf-9a57-d80410a774e3",
   "metadata": {},
   "outputs": [],
   "source": [
    "# dataset = tf.data.Dataset.from_tensor_slices(({\"input_ids_layer\": train_encodings.input_ids, \"attention_mask_layer\": train_encodings.attention_mask}, train_labels_group))\n",
    "# dataset = dataset.batch(32).prefetch(tf.data.experimental.AUTOTUNE)\n",
    "\n",
    "vdataset = tf.data.Dataset.from_tensor_slices(({\"input_ids_layer\": valid_encodings.input_ids, \"attention_mask_layer\": valid_encodings.attention_mask}, valid_labels_group))\n",
    "vdataset = vdataset.batch(32).prefetch(tf.data.experimental.AUTOTUNE)"
   ]
  },
  {
   "cell_type": "code",
   "execution_count": 50,
   "id": "19784adc-b169-4cc0-a64a-37e228264220",
   "metadata": {},
   "outputs": [
    {
     "name": "stdout",
     "output_type": "stream",
     "text": [
      "2340/2340 [==============================] - 1777s 754ms/step - loss: nan - accuracy: 0.2570 - val_loss: 1.0040 - val_accuracy: 0.5268\n"
     ]
    }
   ],
   "source": [
    "roberta_grouped_history = roberta_model_grouped.fit(train_data_generator,\n",
    "                                      validation_data=vdataset,\n",
    "                                      epochs=1)"
   ]
  },
  {
   "cell_type": "code",
   "execution_count": 51,
   "id": "e7f4c0f8-8626-49a1-95a3-54b3f87501c6",
   "metadata": {},
   "outputs": [],
   "source": [
    "tdataset = tf.data.Dataset.from_tensor_slices(({\"input_ids_layer\": test_encodings.input_ids, \"attention_mask_layer\": test_encodings.attention_mask}, test_labels_group))\n",
    "tdataset = tdataset.batch(32).prefetch(tf.data.experimental.AUTOTUNE)"
   ]
  },
  {
   "cell_type": "code",
   "execution_count": 52,
   "id": "d3c5b39f-933e-4c44-9c3c-81dbdcfed6ec",
   "metadata": {},
   "outputs": [
    {
     "name": "stdout",
     "output_type": "stream",
     "text": [
      "1182/1182 [==============================] - 164s 138ms/step - loss: 1.0053 - accuracy: 0.5255\n"
     ]
    },
    {
     "data": {
      "text/plain": [
       "[1.0053349733352661, 0.5254914164543152]"
      ]
     },
     "execution_count": 52,
     "metadata": {},
     "output_type": "execute_result"
    }
   ],
   "source": [
    "roberta_model_grouped.evaluate(tdataset)"
   ]
  },
  {
   "cell_type": "code",
   "execution_count": 53,
   "id": "fb1a727d-ba66-4535-a383-f793c4ba20c4",
   "metadata": {},
   "outputs": [
    {
     "name": "stdout",
     "output_type": "stream",
     "text": [
      "1182/1182 [==============================] - 165s 137ms/step\n"
     ]
    }
   ],
   "source": [
    "preds = roberta_model_grouped.predict(tdataset)\n",
    "preds = tf.argmax(preds, axis=-1)"
   ]
  },
  {
   "cell_type": "code",
   "execution_count": 54,
   "id": "5e669e57-9644-49f6-b779-22ea8f68a023",
   "metadata": {},
   "outputs": [],
   "source": [
    "cm = tf.math.confusion_matrix(test_labels_group, preds)\n",
    "cm = cm/cm.numpy().sum(axis=1)[:, tf.newaxis]"
   ]
  },
  {
   "cell_type": "code",
   "execution_count": 55,
   "id": "9118541a-703a-4207-9ca5-7e15ceb28b9d",
   "metadata": {},
   "outputs": [
    {
     "data": {
      "text/plain": [
       "Text(220.72222222222223, 0.5, 'True')"
      ]
     },
     "execution_count": 55,
     "metadata": {},
     "output_type": "execute_result"
    },
    {
     "data": {
      "image/png": "[encoded data removed]",
      "text/plain": [
       "<Figure size 2000x700 with 2 Axes>"
      ]
     },
     "metadata": {},
     "output_type": "display_data"
    }
   ],
   "source": [
    "import matplotlib.pyplot as plt\n",
    "import seaborn as sns\n",
    "\n",
    "plt.figure(figsize=(20,7))\n",
    "sns.heatmap(\n",
    "    cm, annot=True)\n",
    "plt.xlabel(\"Predicted\")\n",
    "plt.ylabel(\"True\")"
   ]
  },
  {
   "cell_type": "markdown",
   "id": "def30777-857a-4741-8180-b67eff2c3eaf",
   "metadata": {},
   "source": [
    "### Discriminate betweeen A1/A2, B1/B2, C1/C2"
   ]
  },
  {
   "cell_type": "code",
   "execution_count": 56,
   "id": "2ea2a363-0db7-4583-bd4d-42efe5a2e480",
   "metadata": {},
   "outputs": [
    {
     "ename": "NameError",
     "evalue": "name 'train_encodings' is not defined",
     "output_type": "error",
     "traceback": [
      "\u001b[1;31m---------------------------------------------------------------------------\u001b[0m",
      "\u001b[1;31mNameError\u001b[0m                                 Traceback (most recent call last)",
      "Cell \u001b[1;32mIn[56], line 3\u001b[0m\n\u001b[0;32m      1\u001b[0m \u001b[38;5;66;03m#A\u001b[39;00m\n\u001b[0;32m      2\u001b[0m A_train_mask \u001b[38;5;241m=\u001b[39m tf\u001b[38;5;241m.\u001b[39mequal(train_labels_group, \u001b[38;5;241m0\u001b[39m)\n\u001b[1;32m----> 3\u001b[0m A_train_encodings \u001b[38;5;241m=\u001b[39m {\u001b[38;5;124m\"\u001b[39m\u001b[38;5;124minput_ids\u001b[39m\u001b[38;5;124m\"\u001b[39m: tf\u001b[38;5;241m.\u001b[39mboolean_mask(\u001b[43mtrain_encodings\u001b[49m[\u001b[38;5;124m'\u001b[39m\u001b[38;5;124minput_ids\u001b[39m\u001b[38;5;124m'\u001b[39m], A_train_mask),\n\u001b[0;32m      4\u001b[0m                      \u001b[38;5;124m\"\u001b[39m\u001b[38;5;124mattention_mask\u001b[39m\u001b[38;5;124m\"\u001b[39m: tf\u001b[38;5;241m.\u001b[39mboolean_mask(train_encodings[\u001b[38;5;124m'\u001b[39m\u001b[38;5;124mattention_mask\u001b[39m\u001b[38;5;124m'\u001b[39m], A_train_mask)}\n\u001b[0;32m      5\u001b[0m A_train_labels \u001b[38;5;241m=\u001b[39m  tf\u001b[38;5;241m.\u001b[39mboolean_mask(train_labels\u001b[38;5;241m.\u001b[39mcopy(), A_train_mask)\n\u001b[0;32m      6\u001b[0m A_dataset \u001b[38;5;241m=\u001b[39m tf\u001b[38;5;241m.\u001b[39mdata\u001b[38;5;241m.\u001b[39mDataset\u001b[38;5;241m.\u001b[39mfrom_tensor_slices(({\u001b[38;5;124m\"\u001b[39m\u001b[38;5;124minput_ids_layer\u001b[39m\u001b[38;5;124m\"\u001b[39m: A_train_encodings[\u001b[38;5;124m'\u001b[39m\u001b[38;5;124minput_ids\u001b[39m\u001b[38;5;124m'\u001b[39m], \u001b[38;5;124m\"\u001b[39m\u001b[38;5;124mattention_mask_layer\u001b[39m\u001b[38;5;124m\"\u001b[39m: A_train_encodings[\u001b[38;5;124m'\u001b[39m\u001b[38;5;124mattention_mask\u001b[39m\u001b[38;5;124m'\u001b[39m]}, A_train_labels))\n",
      "\u001b[1;31mNameError\u001b[0m: name 'train_encodings' is not defined"
     ]
    }
   ],
   "source": [
    "#A\n",
    "A_train_mask = tf.equal(train_labels_group, 0)\n",
    "A_train_encodings = {\"input_ids\": tf.boolean_mask(train_encodings['input_ids'], A_train_mask),\n",
    "                     \"attention_mask\": tf.boolean_mask(train_encodings['attention_mask'], A_train_mask)}\n",
    "A_train_labels =  tf.boolean_mask(train_labels.copy(), A_train_mask)\n",
    "A_dataset = tf.data.Dataset.from_tensor_slices(({\"input_ids_layer\": A_train_encodings['input_ids'], \"attention_mask_layer\": A_train_encodings['attention_mask']}, A_train_labels))\n",
    "A_dataset = A_dataset.batch(32).prefetch(tf.data.experimental.AUTOTUNE)\n",
    "\n",
    "A_valid_mask = tf.equal(valid_labels_group, 0)\n",
    "A_valid_encodings = {\"input_ids\": tf.boolean_mask(valid_encodings['input_ids'], A_valid_mask),\n",
    "                     \"attention_mask\": tf.boolean_mask(valid_encodings['attention_mask'], A_valid_mask)}\n",
    "A_valid_labels =  tf.boolean_mask(valid_labels.copy(), A_valid_mask)\n",
    "A_vdataset = tf.data.Dataset.from_tensor_slices(({\"input_ids_layer\": A_valid_encodings['input_ids'], \"attention_mask_layer\": A_valid_encodings['attention_mask']}, A_valid_labels))\n",
    "A_vdataset = A_vdataset.batch(32).prefetch(tf.data.experimental.AUTOTUNE)\n",
    "\n",
    "A_test_mask = tf.equal(test_labels_group, 0)\n",
    "A_test_encodings = {\"input_ids\": tf.boolean_mask(test_encodings['input_ids'], A_test_mask),\n",
    "                     \"attention_mask\": tf.boolean_mask(test_encodings['attention_mask'], A_test_mask)}\n",
    "A_test_labels =  tf.boolean_mask(test_labels.copy(), A_test_mask)\n",
    "A_tdataset = tf.data.Dataset.from_tensor_slices(({\"input_ids_layer\": A_test_encodings['input_ids'], \"attention_mask_layer\": A_test_encodings['attention_mask']}, A_test_labels))\n",
    "A_tdataset = A_tdataset.batch(32).prefetch(tf.data.experimental.AUTOTUNE)"
   ]
  },
  {
   "cell_type": "code",
   "execution_count": null,
   "id": "4a10abf8-f291-485e-805c-776902335f73",
   "metadata": {},
   "outputs": [],
   "source": [
    "A_model = create_roberta_gru_model(model=roberta_model, num_classes=2)"
   ]
  },
  {
   "cell_type": "code",
   "execution_count": null,
   "id": "cce14154-2592-4ea6-8453-e2d0d1dc891e",
   "metadata": {},
   "outputs": [],
   "source": [
    "A_model_history = A_model.fit(A_dataset,\n",
    "                            validation_data=A_vdataset,\n",
    "                            epochs=1)"
   ]
  },
  {
   "cell_type": "code",
   "execution_count": null,
   "id": "bc321f06-6386-4652-8a6f-fa5566a1c78b",
   "metadata": {},
   "outputs": [],
   "source": [
    "#B\n",
    "B_train_mask = tf.equal(train_labels_group, 1)\n",
    "B_train_encodings = {\"input_ids\": tf.boolean_mask(train_encodings['input_ids'], B_train_mask),\n",
    "                     \"attention_mask\": tf.boolean_mask(train_encodings['attention_mask'], B_train_mask)}\n",
    "B_train_labels =  tf.boolean_mask(train_labels.copy(), B_train_mask) - 2\n",
    "B_dataset = tf.data.Dataset.from_tensor_slices(({\"input_ids_layer\": B_train_encodings['input_ids'], \"attention_mask_layer\": B_train_encodings['attention_mask']}, B_train_labels))\n",
    "B_dataset = B_dataset.batch(32).prefetch(tf.data.experimental.AUTOTUNE)\n",
    "\n",
    "B_valid_mask = tf.equal(valid_labels_group, 1)\n",
    "B_valid_encodings = {\"input_ids\": tf.boolean_mask(valid_encodings['input_ids'], B_valid_mask),\n",
    "                     \"attention_mask\": tf.boolean_mask(valid_encodings['attention_mask'], B_valid_mask)}\n",
    "B_valid_labels =  tf.boolean_mask(valid_labels.copy(), B_valid_mask) - 2\n",
    "B_vdataset = tf.data.Dataset.from_tensor_slices(({\"input_ids_layer\": B_valid_encodings['input_ids'], \"attention_mask_layer\": B_valid_encodings['attention_mask']}, B_valid_labels))\n",
    "B_vdataset = B_vdataset.batch(32).prefetch(tf.data.experimental.AUTOTUNE)\n",
    "\n",
    "B_test_mask = tf.equal(test_labels_group, 1)\n",
    "B_test_encodings = {\"input_ids\": tf.boolean_mask(test_encodings['input_ids'], B_test_mask),\n",
    "                     \"attention_mask\": tf.boolean_mask(test_encodings['attention_mask'], B_test_mask)}\n",
    "B_test_labels =  tf.boolean_mask(test_labels.copy(), B_test_mask) - 2\n",
    "B_tdataset = tf.data.Dataset.from_tensor_slices(({\"input_ids_layer\": B_test_encodings['input_ids'], \"attention_mask_layer\": B_test_encodings['attention_mask']}, B_test_labels))\n",
    "B_tdataset = B_tdataset.batch(32).prefetch(tf.data.experimental.AUTOTUNE)"
   ]
  },
  {
   "cell_type": "code",
   "execution_count": null,
   "id": "24fdf31b-68c1-437f-be47-ac209309a274",
   "metadata": {},
   "outputs": [],
   "source": [
    "B_model = create_roberta_gru_model(model=roberta_model, num_classes=2)"
   ]
  },
  {
   "cell_type": "code",
   "execution_count": null,
   "id": "17dfd057-7779-4673-90f9-7535b5953ed6",
   "metadata": {},
   "outputs": [],
   "source": [
    "B_model_history = B_model.fit(B_dataset,\n",
    "                              validation_data=B_vdataset,\n",
    "                              epochs=1)"
   ]
  },
  {
   "cell_type": "code",
   "execution_count": null,
   "id": "42079614-af66-40c3-8bd7-fa02482b6a78",
   "metadata": {},
   "outputs": [],
   "source": [
    "#C\n",
    "C_train_mask = tf.equal(train_labels_group, 2)\n",
    "C_train_encodings = {\"input_ids\": tf.boolean_mask(train_encodings['input_ids'], C_train_mask),\n",
    "                     \"attention_mask\": tf.boolean_mask(train_encodings['attention_mask'], C_train_mask)}\n",
    "C_train_labels =  tf.boolean_mask(train_labels.copy(), C_train_mask) - 4\n",
    "C_dataset = tf.data.Dataset.from_tensor_slices(({\"input_ids_layer\": C_train_encodings['input_ids'], \"attention_mask_layer\": C_train_encodings['attention_mask']}, C_train_labels))\n",
    "C_dataset = C_dataset.batch(32).prefetch(tf.data.experimental.AUTOTUNE)\n",
    "\n",
    "C_valid_mask = tf.equal(valid_labels_group, 2)\n",
    "C_valid_encodings = {\"input_ids\": tf.boolean_mask(valid_encodings['input_ids'], C_valid_mask),\n",
    "                     \"attention_mask\": tf.boolean_mask(valid_encodings['attention_mask'], C_valid_mask)}\n",
    "C_valid_labels =  tf.boolean_mask(valid_labels.copy(), C_valid_mask) - 4\n",
    "C_vdataset = tf.data.Dataset.from_tensor_slices(({\"input_ids_layer\": C_valid_encodings['input_ids'], \"attention_mask_layer\": C_valid_encodings['attention_mask']}, C_valid_labels))\n",
    "C_vdataset = C_vdataset.batch(32).prefetch(tf.data.experimental.AUTOTUNE)\n",
    "\n",
    "C_test_mask = tf.equal(test_labels_group, 2)\n",
    "C_test_encodings = {\"input_ids\": tf.boolean_mask(test_encodings['input_ids'], C_test_mask),\n",
    "                     \"attention_mask\": tf.boolean_mask(test_encodings['attention_mask'], C_test_mask)}\n",
    "C_test_labels =  tf.boolean_mask(test_labels.copy(), C_test_mask) - 4\n",
    "C_tdataset = tf.data.Dataset.from_tensor_slices(({\"input_ids_layer\": C_test_encodings['input_ids'], \"attention_mask_layer\": C_test_encodings['attention_mask']}, C_test_labels))\n",
    "C_tdataset = C_tdataset.batch(32).prefetch(tf.data.experimental.AUTOTUNE)"
   ]
  },
  {
   "cell_type": "code",
   "execution_count": null,
   "id": "31b7d1d6-9895-4e30-b386-ba856436ce08",
   "metadata": {},
   "outputs": [],
   "source": [
    "C_model = create_roberta_gru_model(model=roberta_model, num_classes=2)"
   ]
  },
  {
   "cell_type": "code",
   "execution_count": null,
   "id": "1245d3d0-4748-4275-bd9b-80b288c6b688",
   "metadata": {},
   "outputs": [],
   "source": [
    "C_model_history = C_model.fit(C_dataset,\n",
    "                              validation_data=C_vdataset,\n",
    "                              epochs=1)"
   ]
  },
  {
   "cell_type": "markdown",
   "id": "d20cc346-e01c-4e41-8c12-bb7680dd8d2c",
   "metadata": {},
   "source": [
    "### Combine"
   ]
  },
  {
   "cell_type": "code",
   "execution_count": null,
   "id": "c0d80e33-ff63-4d40-ad91-6f95d3a9d6f3",
   "metadata": {},
   "outputs": [],
   "source": [
    "a_pred_mask = tf.equal(preds, 0)\n",
    "b_pred_mask = tf.equal(preds, 1)\n",
    "c_pred_mask = tf.equal(preds, 2)\n",
    "\n",
    "a_test_encodings = {\"input_ids\": tf.boolean_mask(test_encodings['input_ids'], a_pred_mask),\n",
    "                     \"attention_mask\": tf.boolean_mask(test_encodings['attention_mask'], a_pred_mask)}\n",
    "a_preds = A_model.predict([a_test_encodings['input_ids'], a_test_encodings[\"attention_mask\"]])\n",
    "a_preds = tf.argmax(a_preds, axis=-1)\n",
    "a_preds = a_preds.numpy() \n",
    "\n",
    "b_test_encodings = {\"input_ids\": tf.boolean_mask(test_encodings['input_ids'], b_pred_mask),\n",
    "                     \"attention_mask\": tf.boolean_mask(test_encodings['attention_mask'], b_pred_mask)}\n",
    "b_preds = B_model.predict([b_test_encodings['input_ids'], b_test_encodings[\"attention_mask\"]])\n",
    "b_preds = tf.argmax(b_preds, axis=-1)\n",
    "b_preds = b_preds.numpy() + 2\n",
    "\n",
    "c_test_encodings = {\"input_ids\": tf.boolean_mask(test_encodings['input_ids'], c_pred_mask),\n",
    "                     \"attention_mask\": tf.boolean_mask(test_encodings['attention_mask'], c_pred_mask)}\n",
    "c_preds = C_model.predict([c_test_encodings['input_ids'], c_test_encodings[\"attention_mask\"]])\n",
    "c_preds = tf.argmax(c_preds, axis=-1)\n",
    "c_preds = c_preds.numpy() + 4\n",
    "\n",
    "\n",
    "predictions_comb = preds.numpy()\n",
    "predictions_comb[a_pred_mask] = a_preds\n",
    "predictions_comb[b_pred_mask] = b_preds\n",
    "predictions_comb[c_pred_mask] = c_preds"
   ]
  },
  {
   "cell_type": "code",
   "execution_count": null,
   "id": "3513ccac-b489-4421-9970-876c62b198e9",
   "metadata": {},
   "outputs": [],
   "source": [
    "cm = tf.math.confusion_matrix(test_labels, predictions_comb)\n",
    "cm = cm/cm.numpy().sum(axis=1)[:, tf.newaxis]"
   ]
  },
  {
   "cell_type": "code",
   "execution_count": null,
   "id": "8d2d6249-e10c-4f6b-8dc2-2125a2b6c827",
   "metadata": {},
   "outputs": [],
   "source": [
    "plt.figure(figsize=(20,7))\n",
    "sns.heatmap(\n",
    "    cm, annot=True)\n",
    "plt.xlabel(\"Predicted\")\n",
    "plt.ylabel(\"True\")"
   ]
  },
  {
   "cell_type": "code",
   "execution_count": null,
   "id": "705ba94d-1df3-471b-8a23-9ecad0aae95d",
   "metadata": {},
   "outputs": [],
   "source": [
    "print(classification_report(test_labels, predictions_comb))"
   ]
  },
  {
   "cell_type": "markdown",
   "id": "218c5c74-294f-4f7a-9cda-cdd57a864ada",
   "metadata": {},
   "source": [
    "## Multi-Step Model"
   ]
  },
  {
   "cell_type": "code",
   "execution_count": 61,
   "id": "7d69cf73-4654-4318-ae2c-07ca7beca554",
   "metadata": {},
   "outputs": [],
   "source": [
    "#del vdataset\n",
    "del tdataset\n",
    "del dataset"
   ]
  },
  {
   "cell_type": "markdown",
   "id": "f6781d05-7f23-4309-9662-91b7cd53edd9",
   "metadata": {},
   "source": [
    "### Step 1"
   ]
  },
  {
   "cell_type": "code",
   "execution_count": 48,
   "id": "9e379ea5-8e95-4f15-8ca4-67729d519033",
   "metadata": {},
   "outputs": [],
   "source": [
    "s1_train_labels = train_labels.copy()\n",
    "s1_train_labels[(s1_train_labels == 5) | (s1_train_labels == 4)] = 3\n",
    "\n",
    "s1_valid_labels = valid_labels.copy()\n",
    "s1_valid_labels[(s1_valid_labels == 5) | (s1_valid_labels == 4)] = 3\n",
    "\n",
    "s1_test_labels = test_labels.copy()\n",
    "s1_test_labels[(s1_test_labels == 5) | (s1_test_labels == 4)] = 3"
   ]
  },
  {
   "cell_type": "code",
   "execution_count": 49,
   "id": "f38a0e83-2086-4ea4-bee4-4cb82f9bc5c6",
   "metadata": {},
   "outputs": [],
   "source": [
    "s1_roberta_model = create_roberta_cl_model(model=roberta_model, num_classes=4)"
   ]
  },
  {
   "cell_type": "code",
   "execution_count": 50,
   "id": "a24ab8c2-327b-4055-9acd-d3c80699b0cb",
   "metadata": {},
   "outputs": [],
   "source": [
    "dataset = tf.data.Dataset.from_tensor_slices(({\"input_ids_layer\": train_encodings.input_ids, \"attention_mask_layer\": train_encodings.attention_mask}, s1_train_labels))\n",
    "dataset = dataset.batch(32).prefetch(tf.data.experimental.AUTOTUNE)\n",
    "\n",
    "vdataset = tf.data.Dataset.from_tensor_slices(({\"input_ids_layer\": valid_encodings.input_ids, \"attention_mask_layer\": valid_encodings.attention_mask}, s1_valid_labels))\n",
    "vdataset = vdataset.batch(32).prefetch(tf.data.experimental.AUTOTUNE)"
   ]
  },
  {
   "cell_type": "code",
   "execution_count": 51,
   "id": "260d2161-5eb6-4b9b-98eb-95eba63c1a84",
   "metadata": {},
   "outputs": [
    {
     "name": "stdout",
     "output_type": "stream",
     "text": [
      "9362/9362 [==============================] - 1168s 124ms/step - loss: 0.3031 - accuracy: 0.8897 - val_loss: 0.1552 - val_accuracy: 0.9449\n"
     ]
    }
   ],
   "source": [
    "s1_roberta_history = s1_roberta_model.fit(dataset,\n",
    "                                      validation_data=vdataset,\n",
    "                                      epochs=1)"
   ]
  },
  {
   "cell_type": "code",
   "execution_count": 52,
   "id": "9892158e-dca3-45f8-b418-0d3bae5a64b0",
   "metadata": {},
   "outputs": [],
   "source": [
    "tdataset = tf.data.Dataset.from_tensor_slices(({\"input_ids_layer\": test_encodings.input_ids, \"attention_mask_layer\": test_encodings.attention_mask}, s1_test_labels))\n",
    "tdataset = tdataset.batch(32).prefetch(tf.data.experimental.AUTOTUNE)"
   ]
  },
  {
   "cell_type": "code",
   "execution_count": 53,
   "id": "6cef9c75-aa21-4aca-bfdd-9bebd8120fb1",
   "metadata": {},
   "outputs": [
    {
     "name": "stdout",
     "output_type": "stream",
     "text": [
      "1182/1182 [==============================] - 114s 97ms/step - loss: 0.1570 - accuracy: 0.9455\n"
     ]
    },
    {
     "data": {
      "text/plain": [
       "[0.15700982511043549, 0.9454983472824097]"
      ]
     },
     "execution_count": 53,
     "metadata": {},
     "output_type": "execute_result"
    }
   ],
   "source": [
    "s1_roberta_model.evaluate(tdataset)"
   ]
  },
  {
   "cell_type": "code",
   "execution_count": 72,
   "id": "999a792d-a137-4c3b-b0e2-3b01fda5d02f",
   "metadata": {},
   "outputs": [
    {
     "name": "stdout",
     "output_type": "stream",
     "text": [
      "1182/1182 [==============================] - 119s 98ms/step\n"
     ]
    }
   ],
   "source": [
    "predictions_s1 = s1_roberta_model.predict([test_encodings['input_ids'], test_encodings[\"attention_mask\"]])\n",
    "predictions_s1 = tf.argmax(predictions_s1, axis=-1)"
   ]
  },
  {
   "cell_type": "markdown",
   "id": "f6ead44c-c982-4cfe-b242-8463faca089c",
   "metadata": {},
   "source": [
    "### Step 2"
   ]
  },
  {
   "cell_type": "code",
   "execution_count": 67,
   "id": "5b3a89df-6307-4b5d-b0c8-6618e0abb639",
   "metadata": {},
   "outputs": [],
   "source": [
    "train_mask = tf.equal(s1_train_labels, 3)\n",
    "s2_train_encodings = {\"input_ids\": tf.boolean_mask(train_encodings['input_ids'], train_mask),\n",
    "                     \"attention_mask\": tf.boolean_mask(train_encodings['attention_mask'], train_mask)}\n",
    "s2_train_labels =  tf.boolean_mask(train_labels.copy(), train_mask) -3\n",
    "s2_dataset = tf.data.Dataset.from_tensor_slices(({\"input_ids_layer\": s2_train_encodings['input_ids'], \"attention_mask_layer\": s2_train_encodings['attention_mask']}, s2_train_labels))\n",
    "s2_dataset = s2_dataset.batch(32).prefetch(tf.data.experimental.AUTOTUNE)\n",
    "\n",
    "\n",
    "valid_mask = tf.equal(s1_valid_labels, 3)\n",
    "s2_valid_encodings = {\"input_ids\": tf.boolean_mask(valid_encodings['input_ids'], valid_mask),\n",
    "                     \"attention_mask\": tf.boolean_mask(valid_encodings['attention_mask'], valid_mask)}\n",
    "s2_valid_labels = tf.boolean_mask(valid_labels.copy(), valid_mask) - 3\n",
    "s2_vdataset = tf.data.Dataset.from_tensor_slices(({\"input_ids_layer\": s2_valid_encodings['input_ids'], \"attention_mask_layer\": s2_valid_encodings['attention_mask']}, s2_valid_labels))\n",
    "s2_vdataset = s2_vdataset.batch(32).prefetch(tf.data.experimental.AUTOTUNE)\n",
    "\n",
    "test_mask = tf.equal(s1_test_labels, 3)\n",
    "s2_test_encodings = {\"input_ids\": tf.boolean_mask(test_encodings['input_ids'], test_mask),\n",
    "                     \"attention_mask\": tf.boolean_mask(test_encodings['attention_mask'], test_mask)}\n",
    "s2_test_labels = tf.boolean_mask(test_labels.copy(), test_mask) - 3\n",
    "s2_tdataset = tf.data.Dataset.from_tensor_slices(({\"input_ids_layer\": s2_test_encodings['input_ids'], \"attention_mask_layer\": s2_test_encodings['attention_mask']}, s2_test_labels))\n",
    "s2_tdataset = s2_tdataset.batch(32).prefetch(tf.data.experimental.AUTOTUNE)\n"
   ]
  },
  {
   "cell_type": "code",
   "execution_count": 68,
   "id": "5bf92250-86be-4811-b749-39dab1c15f4a",
   "metadata": {},
   "outputs": [],
   "source": [
    "s2_roberta_model = create_roberta_cl_model(model=roberta_model, num_classes=3)"
   ]
  },
  {
   "cell_type": "code",
   "execution_count": 69,
   "id": "c0b1d4e0-1393-496c-9da6-fbef4af45516",
   "metadata": {},
   "outputs": [
    {
     "name": "stdout",
     "output_type": "stream",
     "text": [
      "1932/1932 [==============================] - 254s 125ms/step - loss: 0.3297 - accuracy: 0.8851 - val_loss: 0.2267 - val_accuracy: 0.9234\n"
     ]
    }
   ],
   "source": [
    "s2_roberta_history = s2_roberta_model.fit(s2_dataset,\n",
    "                                      validation_data=s2_vdataset,\n",
    "                                      epochs=1)"
   ]
  },
  {
   "cell_type": "code",
   "execution_count": 73,
   "id": "1d62cc31-2a55-4f80-b59c-fbf92dc773de",
   "metadata": {},
   "outputs": [
    {
     "name": "stdout",
     "output_type": "stream",
     "text": [
      "243/243 [==============================] - 27s 98ms/step\n"
     ]
    }
   ],
   "source": [
    "predictions_s2 = s2_roberta_model.predict([s2_test_encodings['input_ids'], s2_test_encodings[\"attention_mask\"]])\n",
    "predictions_s2 = tf.argmax(predictions_s2, axis=-1)"
   ]
  },
  {
   "cell_type": "markdown",
   "id": "b7c163b7-db45-4d81-a82f-119bc375c71b",
   "metadata": {},
   "source": [
    "### Combine"
   ]
  },
  {
   "cell_type": "code",
   "execution_count": 86,
   "id": "b06c1ff9-79a6-465b-89d7-7385971eaac9",
   "metadata": {},
   "outputs": [
    {
     "name": "stdout",
     "output_type": "stream",
     "text": [
      "233/233 [==============================] - 23s 99ms/step\n"
     ]
    }
   ],
   "source": [
    "pred_mask = tf.equal(predictions_s1, 3)\n",
    "s2_test_encodings = {\"input_ids\": tf.boolean_mask(test_encodings['input_ids'], pred_mask),\n",
    "                     \"attention_mask\": tf.boolean_mask(test_encodings['attention_mask'], pred_mask)}\n",
    "predictions_s2_2 = s2_roberta_model.predict([s2_test_encodings['input_ids'], s2_test_encodings[\"attention_mask\"]])\n",
    "predictions_s2_2 = tf.argmax(predictions_s2_2, axis=-1)\n",
    "\n",
    "predictions_s2_2 = predictions_s2_2.numpy() + 3\n",
    "\n",
    "predictions_comb = predictions_s1.numpy()\n",
    "predictions_comb[pred_mask] = predictions_s2_2"
   ]
  },
  {
   "cell_type": "code",
   "execution_count": 87,
   "id": "d98875b2-dcff-4fc5-b0d8-c4004bddaf6e",
   "metadata": {},
   "outputs": [
    {
     "name": "stdout",
     "output_type": "stream",
     "text": [
      "              precision    recall  f1-score   support\n",
      "\n",
      "           0       0.96      0.98      0.97      9960\n",
      "           1       0.95      0.95      0.95     10064\n",
      "           2       0.93      0.94      0.93     10008\n",
      "           3       0.90      0.89      0.89      6042\n",
      "           4       0.81      0.72      0.76      1535\n",
      "           5       0.73      0.29      0.42       188\n",
      "\n",
      "    accuracy                           0.93     37797\n",
      "   macro avg       0.88      0.80      0.82     37797\n",
      "weighted avg       0.93      0.93      0.93     37797\n",
      "\n"
     ]
    }
   ],
   "source": [
    "print(classification_report(test_labels, predictions_comb))"
   ]
  },
  {
   "cell_type": "code",
   "execution_count": 88,
   "id": "17f33b2a-1335-4776-93ab-119f66bb7c37",
   "metadata": {},
   "outputs": [],
   "source": [
    "cm = tf.math.confusion_matrix(test_labels, predictions_comb)\n",
    "cm = cm/cm.numpy().sum(axis=1)[:, tf.newaxis]"
   ]
  },
  {
   "cell_type": "code",
   "execution_count": 90,
   "id": "8f61508d-480f-4d27-bd8a-ebda2392cab8",
   "metadata": {},
   "outputs": [
    {
     "data": {
      "text/plain": [
       "Text(220.72222222222223, 0.5, 'True')"
      ]
     },
     "execution_count": 90,
     "metadata": {},
     "output_type": "execute_result"
    },
    {
     "data": {
      "image/png": "[encoded data removed]",
      "text/plain": [
       "<Figure size 2000x700 with 2 Axes>"
      ]
     },
     "metadata": {},
     "output_type": "display_data"
    }
   ],
   "source": [
    "plt.figure(figsize=(20,7))\n",
    "sns.heatmap(\n",
    "    cm, annot=True)\n",
    "plt.xlabel(\"Predicted\")\n",
    "plt.ylabel(\"True\")"
   ]
  },
  {
   "cell_type": "code",
   "execution_count": null,
   "id": "c1dcfee9-4e42-44a1-ad5b-f50994b72da4",
   "metadata": {},
   "outputs": [],
   "source": []
  }
 ],
 "metadata": {
  "kernelspec": {
   "display_name": "Python 3 (ipykernel)",
   "language": "python",
   "name": "python3"
  },
  "language_info": {
   "codemirror_mode": {
    "name": "ipython",
    "version": 3
   },
   "file_extension": ".py",
   "mimetype": "text/x-python",
   "name": "python",
   "nbconvert_exporter": "python",
   "pygments_lexer": "ipython3",
   "version": "3.9.18"
  }
 },
 "nbformat": 4,
 "nbformat_minor": 5
}
