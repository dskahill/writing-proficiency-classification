{
 "cells": [
  {
   "cell_type": "code",
   "execution_count": 1,
   "metadata": {
    "id": "mtwFhO1G1fgP"
   },
   "outputs": [],
   "source": [
    "import pandas as pd\n",
    "import csv"
   ]
  },
  {
   "cell_type": "code",
   "execution_count": 2,
   "metadata": {
    "colab": {
     "base_uri": "https://localhost:8080/"
    },
    "id": "Lg8PSabn21E6",
    "outputId": "5d2b8f89-0d9d-41d0-9c21-23d72895056d"
   },
   "outputs": [
    {
     "ename": "ModuleNotFoundError",
     "evalue": "No module named 'spacy'",
     "output_type": "error",
     "traceback": [
      "\u001b[1;31m---------------------------------------------------------------------------\u001b[0m",
      "\u001b[1;31mModuleNotFoundError\u001b[0m                       Traceback (most recent call last)",
      "Cell \u001b[1;32mIn[2], line 3\u001b[0m\n\u001b[0;32m      1\u001b[0m \u001b[38;5;28;01mimport\u001b[39;00m \u001b[38;5;21;01mpandas\u001b[39;00m \u001b[38;5;28;01mas\u001b[39;00m \u001b[38;5;21;01mpd\u001b[39;00m\n\u001b[0;32m      2\u001b[0m \u001b[38;5;28;01mimport\u001b[39;00m \u001b[38;5;21;01mnltk\u001b[39;00m\n\u001b[1;32m----> 3\u001b[0m \u001b[38;5;28;01mimport\u001b[39;00m \u001b[38;5;21;01mspacy\u001b[39;00m\n\u001b[0;32m      4\u001b[0m \u001b[38;5;28;01mimport\u001b[39;00m \u001b[38;5;21;01mtextstat\u001b[39;00m\n\u001b[0;32m      5\u001b[0m \u001b[38;5;28;01mfrom\u001b[39;00m \u001b[38;5;21;01msklearn\u001b[39;00m\u001b[38;5;21;01m.\u001b[39;00m\u001b[38;5;21;01mmodel_selection\u001b[39;00m \u001b[38;5;28;01mimport\u001b[39;00m train_test_split\n",
      "\u001b[1;31mModuleNotFoundError\u001b[0m: No module named 'spacy'"
     ]
    }
   ],
   "source": [
    "import pandas as pd\n",
    "import nltk\n",
    "import spacy\n",
    "import textstat\n",
    "from sklearn.model_selection import train_test_split\n",
    "from sklearn.linear_model import LogisticRegression\n",
    "from sklearn.metrics import classification_report\n",
    "\n",
    "# Download NLTK data\n",
    "nltk.download('punkt')\n",
    "nltk.download('averaged_perceptron_tagger')\n",
    "\n",
    "# Load Spacy model\n",
    "nlp = spacy.load('en_core_web_sm')\n",
    "\n",
    "# Define feature extraction functions\n",
    "def word_count(text):\n",
    "    return len(nltk.word_tokenize(text))\n",
    "\n",
    "def syllable_count(text):\n",
    "    return textstat.syllable_count(text)\n",
    "\n",
    "def character_count(text):\n",
    "    return len(text)\n",
    "\n",
    "def complex_word_count(text):\n",
    "    return textstat.lexicon_count(text, removepunct=True) - textstat.difficult_words(text)\n",
    "\n",
    "def vocab_size(text):\n",
    "    return len(set(nltk.word_tokenize(text)))\n",
    "\n",
    "def lexical_diversity(text):\n",
    "    words = nltk.word_tokenize(text)\n",
    "    return len(set(words)) / len(words)\n",
    "\n",
    "def noun_chunks(text):\n",
    "    doc = nlp(text)\n",
    "    return len(list(doc.noun_chunks))\n",
    "\n",
    "def flesch_kincaid_score(text):\n",
    "    return textstat.flesch_kincaid_grade(text)\n",
    "\n",
    "def dale_chall_score(text):\n",
    "    return textstat.dale_chall_readability_score(text)\n",
    "\n",
    "def gunning_fog_index(text):\n",
    "    return textstat.gunning_fog(text)\n",
    "\n",
    "def coleman_liau_index(text):\n",
    "    return textstat.coleman_liau_index(text)\n",
    "\n",
    "def automated_readability_index(text):\n",
    "    return textstat.automated_readability_index(text)\n",
    "\n",
    "# create df with features\n",
    "def extract_features(df, text_column):\n",
    "    features = pd.DataFrame()\n",
    "    features['Word Count'] = df[text_column].apply(word_count)\n",
    "    features['Syllable Count'] = df[text_column].apply(syllable_count)\n",
    "    features['Character Count'] = df[text_column].apply(character_count)\n",
    "    features['Complex Word Count'] = df[text_column].apply(complex_word_count)\n",
    "    features['Vocab Size'] = df[text_column].apply(vocab_size)\n",
    "    features['Lexical Diversity'] = df[text_column].apply(lexical_diversity)\n",
    "    features['Noun Chunks'] = df[text_column].apply(noun_chunks)\n",
    "    features['Flesch Kincaid Score'] = df[text_column].apply(flesch_kincaid_score)\n",
    "    features['Dale Chall Score'] = df[text_column].apply(dale_chall_score)\n",
    "    features['Gunning Fog Index'] = df[text_column].apply(gunning_fog_index)\n",
    "    features['Coleman Liau Index'] = df[text_column].apply(coleman_liau_index)\n",
    "    features['Automated Readability Index'] = df[text_column].apply(automated_readability_index)\n",
    "    return features\n"
   ]
  },
  {
   "cell_type": "code",
   "execution_count": null,
   "metadata": {
    "colab": {
     "base_uri": "https://localhost:8080/"
    },
    "id": "ckg6YOXl29d8",
    "outputId": "f479f16f-72cd-4660-faf4-f99b2f242073"
   },
   "outputs": [
    {
     "name": "stdout",
     "output_type": "stream",
     "text": [
      "cefr_numeric\n",
      "3    100000\n",
      "2    100000\n",
      "1    100000\n",
      "4     61329\n",
      "5     14698\n",
      "6      1940\n",
      "Name: count, dtype: int64\n",
      "Index([0, 1, 2, 3, 4, 5], dtype='int64')\n"
     ]
    }
   ],
   "source": [
    "# Assuming 'balanced_data' is your dataframe and 'text' is the column with text data\n",
    "from sklearn.impute import SimpleImputer\n",
    "\n",
    "balanced_data = pd.read_csv('/content/efcamdat_sub.csv')\n",
    "\n",
    "#balanced_data = balanced_data.sample(n=15000, random_state=42)\n",
    "\n",
    "print(balanced_data['cefr_numeric'].value_counts())\n",
    "\n",
    "balanced_data['label'] = balanced_data['cefr_numeric'].apply(lambda x: x - 1)\n",
    "balanced_data['label'] = balanced_data['label'].astype('category')\n",
    "print(balanced_data['label'].cat.categories)\n",
    "\n",
    "features = extract_features(balanced_data, 'text')\n",
    "\n",
    "data_with_features = pd.concat([features, balanced_data['label'].reset_index(drop=True)], axis=1)\n",
    "\n",
    "# Drop rows with missing values in the label column\n",
    "data_with_features = data_with_features.dropna(subset=['label'])\n",
    "\n",
    "X = data_with_features.drop(columns=['label'])\n",
    "y = data_with_features['label']\n",
    "X_train, X_test, y_train, y_test = train_test_split(X, y, test_size=0.2, random_state=42)\n",
    "\n",
    "# Handle missing values using imputer for features only\n",
    "imputer = SimpleImputer(strategy='mean')\n",
    "X_train_imputed = imputer.fit_transform(X_train)\n",
    "X_test_imputed = imputer.transform(X_test)\n",
    "\n",
    "# Verify the lengths of the training and testing sets\n",
    "print(f\"X_train_imputed length: {len(X_train_imputed)}, y_train length: {len(y_train)}\")\n",
    "print(f\"X_test_imputed length: {len(X_test_imputed)}, y_test length: {len(y_test)}\")\n",
    "\n",
    "# Train logistic regression model\n",
    "log_reg = LogisticRegression(max_iter=1000)\n",
    "log_reg.fit(X_train_imputed, y_train)\n",
    "\n",
    "# Predict on test set\n",
    "y_pred = log_reg.predict(X_test_imputed)\n",
    "\n",
    "# Print classification report\n",
    "print(classification_report(y_test, y_pred))"
   ]
  },
  {
   "cell_type": "code",
   "execution_count": null,
   "metadata": {
    "id": "9axeekuJ4orG"
   },
   "outputs": [],
   "source": [
    "from sklearn.svm import SVC\n",
    "from sklearn.metrics import classification_report\n",
    "\n",
    "# Train SVM model\n",
    "svm_model = SVC(kernel='linear', probability=True)\n",
    "svm_model.fit(X_train_imputed, y_train)\n",
    "\n",
    "# Predict on test set\n",
    "y_pred_svm = svm_model.predict(X_test_imputed)\n",
    "\n",
    "# Print classification report\n",
    "print(\"SVM Classification Report:\")\n",
    "print(classification_report(y_test, y_pred_svm))"
   ]
  },
  {
   "cell_type": "code",
   "execution_count": null,
   "metadata": {
    "id": "78894WNIwRWQ"
   },
   "outputs": [],
   "source": [
    "from sklearn.naive_bayes import GaussianNB\n",
    "\n",
    "# Train Naive Bayes model\n",
    "gnb_model = GaussianNB()\n",
    "gnb_model.fit(X_train_imputed, y_train)\n",
    "\n",
    "# Predict on test set\n",
    "y_pred_gnb = gnb_model.predict(X_test_imputed)\n",
    "\n",
    "# Print classification report\n",
    "print(\"Gaussian Naive Bayes Classification Report:\")\n",
    "print(classification_report(y_test, y_pred_gnb))"
   ]
  },
  {
   "cell_type": "code",
   "execution_count": null,
   "metadata": {
    "id": "4yD-o_2kyly3"
   },
   "outputs": [],
   "source": []
  }
 ],
 "metadata": {
  "colab": {
   "machine_shape": "hm",
   "provenance": []
  },
  "kernelspec": {
   "display_name": "Python 3 (ipykernel)",
   "language": "python",
   "name": "python3"
  },
  "language_info": {
   "codemirror_mode": {
    "name": "ipython",
    "version": 3
   },
   "file_extension": ".py",
   "mimetype": "text/x-python",
   "name": "python",
   "nbconvert_exporter": "python",
   "pygments_lexer": "ipython3",
   "version": "3.9.18"
  }
 },
 "nbformat": 4,
 "nbformat_minor": 4
}
