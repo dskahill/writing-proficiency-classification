{
  "nbformat": 4,
  "nbformat_minor": 0,
  "metadata": {
    "colab": {
      "provenance": [],
      "gpuType": "L4"
    },
    "kernelspec": {
      "name": "python3",
      "display_name": "Python 3"
    },
    "language_info": {
      "name": "python"
    },
    "accelerator": "GPU"
  },
  "cells": [
    {
      "cell_type": "code",
      "source": [
        "#IMPORT\n",
        "import pandas as pd\n",
        "from transformers import BertTokenizer, TFBertModel\n",
        "import tensorflow as tf"
      ],
      "metadata": {
        "id": "jDJ07CyCXx1c"
      },
      "execution_count": 7,
      "outputs": []
    },
    {
      "cell_type": "code",
      "source": [
        "train_data.columns"
      ],
      "metadata": {
        "colab": {
          "base_uri": "https://localhost:8080/"
        },
        "id": "_ORiDsoInk33",
        "outputId": "d2ebf6a2-1975-4e9f-88a0-ea3f97f4f135"
      },
      "execution_count": 8,
      "outputs": [
        {
          "output_type": "execute_result",
          "data": {
            "text/plain": [
              "Index(['Unnamed: 0', 'text', 'labels'], dtype='object')"
            ]
          },
          "metadata": {},
          "execution_count": 8
        }
      ]
    },
    {
      "cell_type": "code",
      "execution_count": 9,
      "metadata": {
        "id": "KnC2LYNYXtSU"
      },
      "outputs": [],
      "source": [
        "#LOADING DATA\n",
        "train_data = pd.read_csv('/content/efcamdat_train_data.csv')\n",
        "valid_data = pd.read_csv('/content/efcamdat_valid_data.csv')\n",
        "test_data = pd.read_csv('/content/efcamdat_test_data.csv')"
      ]
    },
    {
      "cell_type": "code",
      "source": [
        "#SET UP CELL\n",
        "checkpoint = 'bert-base-cased'\n",
        "bert_tokenizer = BertTokenizer.from_pretrained(checkpoint)\n",
        "bert_model = TFBertModel.from_pretrained(checkpoint, num_labels=6)\n",
        "\n",
        "MAX_SEQUENCE_LENGTH = 128\n",
        "BATCH_SIZE = 32\n",
        "\n",
        "#tokenize text data for each split\n",
        "train_encodings = bert_tokenizer(train_data[\"text\"].tolist(), truncation=True, padding='max_length', max_length=MAX_SEQUENCE_LENGTH, return_tensors='tf')\n",
        "valid_encodings = bert_tokenizer(valid_data[\"text\"].tolist(), truncation=True, padding='max_length', max_length=MAX_SEQUENCE_LENGTH, return_tensors='tf')\n",
        "test_encodings = bert_tokenizer(test_data[\"text\"].tolist(), truncation=True, padding='max_length', max_length=MAX_SEQUENCE_LENGTH, return_tensors='tf')\n",
        "\n",
        "def create_dataset(encodings, labels):\n",
        "    dataset = tf.data.Dataset.from_tensor_slices((\n",
        "        {\n",
        "            'input_ids': encodings['input_ids'],\n",
        "            'token_type_ids': encodings['token_type_ids'],\n",
        "            'attention_mask': encodings['attention_mask']\n",
        "        },\n",
        "        labels\n",
        "    ))\n",
        "    return dataset\n",
        "\n",
        "#create TF datasest with encoding and labels\n",
        "train_dataset = create_dataset(train_encodings, train_data['labels'])\n",
        "valid_dataset = create_dataset(valid_encodings, valid_data['labels'])\n",
        "test_dataset = create_dataset(test_encodings, test_data['labels'])\n",
        "\n",
        "#batching\n",
        "train_dataset = train_dataset.shuffle(len(train_data)).batch(BATCH_SIZE)\n",
        "valid_dataset = valid_dataset.batch(BATCH_SIZE)\n",
        "test_dataset = test_dataset.batch(BATCH_SIZE)"
      ],
      "metadata": {
        "colab": {
          "base_uri": "https://localhost:8080/"
        },
        "id": "Jag9-8cZX1sn",
        "outputId": "49a280c5-d517-4ed1-f430-ac009651d001"
      },
      "execution_count": 10,
      "outputs": [
        {
          "output_type": "stream",
          "name": "stderr",
          "text": [
            "Some weights of the PyTorch model were not used when initializing the TF 2.0 model TFBertModel: ['cls.predictions.transform.dense.weight', 'cls.predictions.bias', 'cls.predictions.transform.dense.bias', 'cls.predictions.transform.LayerNorm.bias', 'cls.seq_relationship.bias', 'cls.predictions.transform.LayerNorm.weight', 'cls.seq_relationship.weight']\n",
            "- This IS expected if you are initializing TFBertModel from a PyTorch model trained on another task or with another architecture (e.g. initializing a TFBertForSequenceClassification model from a BertForPreTraining model).\n",
            "- This IS NOT expected if you are initializing TFBertModel from a PyTorch model that you expect to be exactly identical (e.g. initializing a TFBertForSequenceClassification model from a BertForSequenceClassification model).\n",
            "All the weights of TFBertModel were initialized from the PyTorch model.\n",
            "If your task is similar to the task the model of the checkpoint was trained on, you can already use TFBertModel for predictions without further training.\n"
          ]
        }
      ]
    },
    {
      "cell_type": "code",
      "source": [
        "#bert model architecture\n",
        "def create_bert_classification_model(bert_model, num_classes=6, num_train_layers=0, hidden_size=200, dropout=0.5, learning_rate=0.00005):\n",
        "    if num_train_layers == 0:\n",
        "        bert_model.trainable = False\n",
        "    elif num_train_layers == 12:\n",
        "        bert_model.trainable = True\n",
        "    else:\n",
        "        retrain_layers = ['_' + str(11 - i) for i in range(num_train_layers)]\n",
        "        for w in bert_model.weights:\n",
        "            if not any([x in w.name for x in retrain_layers]):\n",
        "                w._trainable = False\n",
        "\n",
        "    input_ids = tf.keras.layers.Input(shape=(MAX_SEQUENCE_LENGTH,), dtype=tf.int64, name='input_ids')\n",
        "    token_type_ids = tf.keras.layers.Input(shape=(MAX_SEQUENCE_LENGTH,), dtype=tf.int64, name='token_type_ids')\n",
        "    attention_mask = tf.keras.layers.Input(shape=(MAX_SEQUENCE_LENGTH,), dtype=tf.int64, name='attention_mask')\n",
        "\n",
        "    bert_inputs = {'input_ids': input_ids, 'token_type_ids': token_type_ids, 'attention_mask': attention_mask}\n",
        "    bert_out = bert_model(bert_inputs)\n",
        "    pooler_token = bert_out[1]\n",
        "    hidden = tf.keras.layers.Dense(hidden_size, activation='relu', name='hidden_layer')(pooler_token)\n",
        "    hidden = tf.keras.layers.Dropout(dropout)(hidden)\n",
        "    classification = tf.keras.layers.Dense(num_classes, activation='softmax', name='classification_layer')(hidden)\n",
        "\n",
        "    classification_model = tf.keras.Model(inputs=[input_ids, token_type_ids, attention_mask], outputs=[classification])\n",
        "    classification_model.compile(optimizer=tf.keras.optimizers.Adam(learning_rate=learning_rate),\n",
        "                                 loss=tf.keras.losses.SparseCategoricalCrossentropy(from_logits=False),\n",
        "                                 metrics=['accuracy'])\n",
        "    return classification_model\n",
        "\n",
        "bert_classification_model = create_bert_classification_model(bert_model, num_train_layers=12)"
      ],
      "metadata": {
        "id": "ga-tQREEZCj-"
      },
      "execution_count": 11,
      "outputs": []
    },
    {
      "cell_type": "code",
      "source": [
        "bert_classification_model.summary()"
      ],
      "metadata": {
        "colab": {
          "base_uri": "https://localhost:8080/"
        },
        "id": "pwRfluiejwnT",
        "outputId": "3b20a0e3-178b-4efd-a8bb-0c6c2f25a8ab"
      },
      "execution_count": 12,
      "outputs": [
        {
          "output_type": "stream",
          "name": "stdout",
          "text": [
            "Model: \"model\"\n",
            "__________________________________________________________________________________________________\n",
            " Layer (type)                Output Shape                 Param #   Connected to                  \n",
            "==================================================================================================\n",
            " attention_mask (InputLayer  [(None, 128)]                0         []                            \n",
            " )                                                                                                \n",
            "                                                                                                  \n",
            " input_ids (InputLayer)      [(None, 128)]                0         []                            \n",
            "                                                                                                  \n",
            " token_type_ids (InputLayer  [(None, 128)]                0         []                            \n",
            " )                                                                                                \n",
            "                                                                                                  \n",
            " tf_bert_model_1 (TFBertMod  TFBaseModelOutputWithPooli   1083102   ['attention_mask[0][0]',      \n",
            " el)                         ngAndCrossAttentions(last_   72         'input_ids[0][0]',           \n",
            "                             hidden_state=(None, 128, 7              'token_type_ids[0][0]']      \n",
            "                             68),                                                                 \n",
            "                              pooler_output=(None, 768)                                           \n",
            "                             , past_key_values=None, hi                                           \n",
            "                             dden_states=None, attentio                                           \n",
            "                             ns=None, cross_attentions=                                           \n",
            "                             None)                                                                \n",
            "                                                                                                  \n",
            " hidden_layer (Dense)        (None, 200)                  153800    ['tf_bert_model_1[0][1]']     \n",
            "                                                                                                  \n",
            " dropout_74 (Dropout)        (None, 200)                  0         ['hidden_layer[0][0]']        \n",
            "                                                                                                  \n",
            " classification_layer (Dens  (None, 6)                    1206      ['dropout_74[0][0]']          \n",
            " e)                                                                                               \n",
            "                                                                                                  \n",
            "==================================================================================================\n",
            "Total params: 108465278 (413.76 MB)\n",
            "Trainable params: 108465278 (413.76 MB)\n",
            "Non-trainable params: 0 (0.00 Byte)\n",
            "__________________________________________________________________________________________________\n"
          ]
        }
      ]
    },
    {
      "cell_type": "code",
      "source": [
        "bert_classification_model_history = bert_classification_model.fit(\n",
        "    train_dataset,\n",
        "    validation_data=valid_dataset,\n",
        "    epochs=2,\n",
        ")"
      ],
      "metadata": {
        "colab": {
          "base_uri": "https://localhost:8080/"
        },
        "id": "u85eMPhEZcJw",
        "outputId": "67b13d3c-390b-4052-84aa-b8dbc79d96ca"
      },
      "execution_count": 13,
      "outputs": [
        {
          "output_type": "stream",
          "name": "stdout",
          "text": [
            "Epoch 1/2\n",
            "9362/9362 [==============================] - 3868s 406ms/step - loss: 0.1595 - accuracy: 0.9483 - val_loss: 0.0984 - val_accuracy: 0.9683\n",
            "Epoch 2/2\n",
            "9362/9362 [==============================] - 3795s 405ms/step - loss: 0.0852 - accuracy: 0.9736 - val_loss: 0.0946 - val_accuracy: 0.9702\n"
          ]
        }
      ]
    },
    {
      "cell_type": "code",
      "source": [
        "from sklearn.metrics import classification_report\n",
        "\n",
        "preds = bert_classification_model.predict(test_dataset)\n",
        "test_labels = test_data['labels'].values\n",
        "\n",
        "preds = tf.argmax(preds, axis=-1)\n",
        "print(classification_report(test_labels, preds.numpy()))"
      ],
      "metadata": {
        "colab": {
          "base_uri": "https://localhost:8080/"
        },
        "id": "biDewpS1Zrqa",
        "outputId": "12db2803-99d3-4efc-8016-ccc8f0bccad8"
      },
      "execution_count": 14,
      "outputs": [
        {
          "output_type": "stream",
          "name": "stdout",
          "text": [
            "1182/1182 [==============================] - 156s 124ms/step\n",
            "              precision    recall  f1-score   support\n",
            "\n",
            "           0       0.98      0.99      0.99     10103\n",
            "           1       0.98      0.97      0.98      9890\n",
            "           2       0.98      0.97      0.97      9972\n",
            "           3       0.96      0.96      0.96      6204\n",
            "           4       0.94      0.91      0.92      1446\n",
            "           5       0.75      0.86      0.80       182\n",
            "\n",
            "    accuracy                           0.97     37797\n",
            "   macro avg       0.93      0.94      0.94     37797\n",
            "weighted avg       0.97      0.97      0.97     37797\n",
            "\n"
          ]
        }
      ]
    },
    {
      "cell_type": "code",
      "source": [
        "import matplotlib.pyplot as plt\n",
        "import seaborn as sns\n",
        "\n",
        "cm = tf.math.confusion_matrix(test_labels, preds)\n",
        "cm = cm/cm.numpy().sum(axis=1)[:, tf.newaxis]\n",
        "\n",
        "plt.figure(figsize=(20,7))\n",
        "sns.heatmap(\n",
        "    cm, annot=True)\n",
        "plt.xlabel(\"Predicted\")\n",
        "plt.ylabel(\"True\")"
      ],
      "metadata": {
        "colab": {
          "base_uri": "https://localhost:8080/",
          "height": 636
        },
        "id": "EchsDDUmaVEw",
        "outputId": "35566bbb-c862-495e-fe0a-7b4bf9e2d25b"
      },
      "execution_count": 15,
      "outputs": [
        {
          "output_type": "execute_result",
          "data": {
            "text/plain": [
              "Text(220.72222222222223, 0.5, 'True')"
            ]
          },
          "metadata": {},
          "execution_count": 15
        },
        {
          "output_type": "display_data",
          "data": {
            "text/plain": [
              "<Figure size 2000x700 with 2 Axes>"
            ],
            "image/png": "[encoded data removed]"
          },
          "metadata": {}
        }
      ]
    },
    {
      "cell_type": "code",
      "source": [
        "results = bert_classification_model.evaluate(test_dataset)\n",
        "print(\"Test Loss:\", results[0])\n",
        "print(\"Test Accuracy:\", results[1])"
      ],
      "metadata": {
        "colab": {
          "base_uri": "https://localhost:8080/"
        },
        "id": "N6UNKd7gZmRh",
        "outputId": "6d8e8e71-96e5-4b37-8155-13325bc58a36"
      },
      "execution_count": 16,
      "outputs": [
        {
          "output_type": "stream",
          "name": "stdout",
          "text": [
            "1182/1182 [==============================] - 148s 126ms/step - loss: 0.0899 - accuracy: 0.9721\n",
            "Test Loss: 0.08985651284456253\n",
            "Test Accuracy: 0.972061276435852\n"
          ]
        }
      ]
    },
    {
      "cell_type": "code",
      "source": [
        "#save the model\n",
        "bert_classification_model.save('bert_model.keras')"
      ],
      "metadata": {
        "colab": {
          "base_uri": "https://localhost:8080/"
        },
        "id": "1I5f9QG4kXoD",
        "outputId": "047f7554-6840-4189-d991-19a7bd32c2d8"
      },
      "execution_count": 20,
      "outputs": [
        {
          "output_type": "stream",
          "name": "stderr",
          "text": [
            "/usr/local/lib/python3.10/dist-packages/transformers/generation/tf_utils.py:465: UserWarning: `seed_generator` is deprecated and will be removed in a future version.\n",
            "  warnings.warn(\"`seed_generator` is deprecated and will be removed in a future version.\", UserWarning)\n"
          ]
        }
      ]
    },
    {
      "cell_type": "code",
      "source": [
        "#download the model keras file onto my machine\n",
        "from google.colab import files\n",
        "files.download('bert_model.keras')"
      ],
      "metadata": {
        "colab": {
          "base_uri": "https://localhost:8080/",
          "height": 34
        },
        "id": "FGEPuCr8JuiZ",
        "outputId": "e5ee9d28-0fb2-4db5-b510-80c1007a5c13"
      },
      "execution_count": 21,
      "outputs": [
        {
          "output_type": "display_data",
          "data": {
            "text/plain": [
              "<IPython.core.display.Javascript object>"
            ],
            "application/javascript": [
              "\n",
              "    async function download(id, filename, size) {\n",
              "      if (!google.colab.kernel.accessAllowed) {\n",
              "        return;\n",
              "      }\n",
              "      const div = document.createElement('div');\n",
              "      const label = document.createElement('label');\n",
              "      label.textContent = `Downloading \"${filename}\": `;\n",
              "      div.appendChild(label);\n",
              "      const progress = document.createElement('progress');\n",
              "      progress.max = size;\n",
              "      div.appendChild(progress);\n",
              "      document.body.appendChild(div);\n",
              "\n",
              "      const buffers = [];\n",
              "      let downloaded = 0;\n",
              "\n",
              "      const channel = await google.colab.kernel.comms.open(id);\n",
              "      // Send a message to notify the kernel that we're ready.\n",
              "      channel.send({})\n",
              "\n",
              "      for await (const message of channel.messages) {\n",
              "        // Send a message to notify the kernel that we're ready.\n",
              "        channel.send({})\n",
              "        if (message.buffers) {\n",
              "          for (const buffer of message.buffers) {\n",
              "            buffers.push(buffer);\n",
              "            downloaded += buffer.byteLength;\n",
              "            progress.value = downloaded;\n",
              "          }\n",
              "        }\n",
              "      }\n",
              "      const blob = new Blob(buffers, {type: 'application/binary'});\n",
              "      const a = document.createElement('a');\n",
              "      a.href = window.URL.createObjectURL(blob);\n",
              "      a.download = filename;\n",
              "      div.appendChild(a);\n",
              "      a.click();\n",
              "      div.remove();\n",
              "    }\n",
              "  "
            ]
          },
          "metadata": {}
        },
        {
          "output_type": "display_data",
          "data": {
            "text/plain": [
              "<IPython.core.display.Javascript object>"
            ],
            "application/javascript": [
              "download(\"download_bf7f657c-bce6-46b1-91f7-2cb3d6a3bcb6\", \"bert_model.keras\", 1302219901)"
            ]
          },
          "metadata": {}
        }
      ]
    }
  ]
}